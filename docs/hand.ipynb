{
 "cells": [
  {
   "cell_type": "markdown",
   "metadata": {},
   "source": [
    "# **The HandTracker class**"
   ]
  },
  {
   "cell_type": "markdown",
   "metadata": {},
   "source": [
    "This notebook provides some documentation about ```HandTracker``` objects."
   ]
  },
  {
   "cell_type": "markdown",
   "metadata": {},
   "source": [
    "Run the following codeblocks to import the ```HandTracker``` class into this notebook."
   ]
  },
  {
   "cell_type": "code",
   "execution_count": 1,
   "metadata": {},
   "outputs": [
    {
     "name": "stdout",
     "output_type": "stream",
     "text": [
      "Current Directory: c:\\Users\\Brad\\Documents\\Projects\\Python\\fivecarddraw\n"
     ]
    }
   ],
   "source": [
    "from os import chdir, getcwd\n",
    "\n",
    "if not getcwd().endswith(\"fivecarddraw\"):\n",
    "    chdir(\"..\")\n",
    "    \n",
    "print(f\"Current Directory: {getcwd()}\")"
   ]
  },
  {
   "cell_type": "code",
   "execution_count": 2,
   "metadata": {},
   "outputs": [],
   "source": [
    "from fivecarddraw import HandTracker"
   ]
  },
  {
   "cell_type": "markdown",
   "metadata": {},
   "source": [
    "## **Initialisation**"
   ]
  },
  {
   "cell_type": "markdown",
   "metadata": {},
   "source": [
    "The ```HandTracker``` class is designed to be mediated by ```Dealer``` objects. Upon initialisation:\n",
    "* It creates a ```Deck``` in the attribute ```Handtracker.DECK```, and shuffles the deck using ```DECK.Shuffle()```.\n",
    "* It loads about 150kb of data from [lookup tables](../lookup-tables/) using ```HandTracker.LoadLookupTables()```, and creates three ```dict``` attributes containing data useful for evaluating hands, namely: ```HandTracker.FLUSH_RANKS```, ```HandTracker.UNIQUE5_RANKS```, and ```HandTracker.DUPE_RANKS```.\n",
    "* It creates two ```dict``` attributes that provide ciphers useful for encoding hands as an ```int```, for speedy hand evaluation, namely: ```HandTracker.DV``` and ```HandTracker.DP```.\n",
    "* It creates two ```tuple``` attributes containing data for categorising hands, namely: ```HandTracker.CLASSES``` and ```HandTracker.BOUNDARIES```.\n",
    "* It creates a ```dict``` that stores data about players hands as json in the attribute ```HandTracker.hands``` \n",
    "\n",
    "For more information about ```Deck``` objects, see the [deck.ipynb](deck.ipynb) notebook. For more information about ```Dealer``` objects see the [dealer.ipynb](dealer.ipynb) notebook.\n"
   ]
  },
  {
   "cell_type": "code",
   "execution_count": 19,
   "metadata": {},
   "outputs": [
    {
     "name": "stdout",
     "output_type": "stream",
     "text": [
      "deck: [K♠, 4♣, Q♡, 6♣, Q♠, A♢, 3♣, 2♣, K♡, 2♠, 3♡, 2♢, 10♠, A♣, 2♡, A♡, 8♠, Q♣, 6♠, 3♢, J♣, 8♢, 7♡, K♣, 6♡, 9♠, 9♢, 8♡, 5♣, Q♢, 4♠, J♡, 5♢, A♠, 7♣, 3♠, J♠, J♢, K♢, 10♣, 4♢, 6♢, 10♢, 10♡, 5♡, 9♡, 4♡, 8♣, 7♠, 9♣, 5♠, 7♢]\n",
      "\n",
      "Amount of keys in FLUSH_RANKS: 1287\n",
      "Amount of keys in UNIQUE5_RANKS: 1287\n",
      "Amount of keys in DUPE_RANKS: 4888\n",
      "\n",
      "Binary cipher: {'2': 1, '3': 2, '4': 4, '5': 8, '6': 16, '7': 32, '8': 64, '9': 128, 'T': 256, 'J': 512, 'Q': 1024, 'K': 2048, 'A': 4096}\n",
      "Prime cipher: {'2': 2, '3': 3, '4': 5, '5': 7, '6': 11, '7': 13, '8': 17, '9': 19, 'T': 23, 'J': 29, 'Q': 31, 'K': 37, 'A': 41}\n",
      "\n",
      "Hand classifications: ('High card', 'pair', 'two pair', 'three of a kind', 'straight', 'flush', 'full house', 'four of a kind', 'straight flush', 'royal flush')\n",
      "Classification boundaries: (6186, 3326, 2468, 1610, 1600, 323, 167, 11, 2, 1)\n"
     ]
    }
   ],
   "source": [
    "tracker = HandTracker()\n",
    "print(f\"deck: {tracker.DECK}\\n\")\n",
    "print(f\"Amount of keys in FLUSH_RANKS: {len(tracker.FLUSH_RANKS)}\")\n",
    "print(f\"Amount of keys in UNIQUE5_RANKS: {len(tracker.UNIQUE5_RANKS)}\")\n",
    "print(f\"Amount of keys in DUPE_RANKS: {len(tracker.DUPE_RANKS)}\\n\")\n",
    "print(f\"Binary cipher: {tracker.DV}\")\n",
    "print(f\"Prime cipher: {tracker.DP}\\n\")\n",
    "print(f\"Hand classifications: {tracker.CLASSES}\")\n",
    "print(f\"Classification boundaries: {tracker.BOUNDARIES}\")"
   ]
  },
  {
   "cell_type": "markdown",
   "metadata": {},
   "source": [
    "### **LoadLookupTables()**"
   ]
  },
  {
   "cell_type": "markdown",
   "metadata": {},
   "source": [
    "The folder [lookup-tables](../lookup-tables/) contains three different files which are tables of data that contain both numerical and categorical evaluations of every possible five card draw hand. The actual data in those files was scraped from an external website [here](http://suffe.cool/poker/7462.html). The purpose of the ```HandTracker.LoadLookupTables()``` method is to load this data into the ```HandTracker``` object so that it can be used to quickly evaluate hands. Furthermore, each file in the [lookup-tables](../lookup-tables/) folder is formatted in the same way. Each line can be interpreted as follows:\n",
    "\n",
    "* The first two letters encode a categorical evaluation; either SF, 4K, FH, FF, SS, 3K, 2P, 1P or HC which stand for straight flush, four of a kind, full house, flush, straight, three of a kind, two pair, pair or high card respectively.\n",
    "* The next five characters give the cards in a hand; either A, K, Q, J, T, 9, 8, 7, 6, 5, 4, 3, or 2.\n",
    "* The remaining numbers give a numerical evaluation; 1 being the best and 7462 being the worst. These ordinals were determined through combinatorial analysis by [Kevin Suffecool](http://suffe.cool/poker/evaluator.html), the owner of the site where the data was scraped.\n",
    "\n",
    "The ```HandTracker.LoadLookupTables()``` method converts each hand it reads from the [lookup-tables](../lookup-tables/) into an ```int``` that represents the hand irrepective of the order of cards in the hand. \n",
    "\n",
    "* For hands with no duplicates, the hand is converted to an ```int``` using the ```HandTracker.DV``` cipher. It depends upon binary arithmetic, with cards represented as powers of two and added together to encode the hand.\n",
    "* For hands with duplicates, the hand is converted to an ```int``` using the ```HandTracker.DP``` cipher. It depends upon prime factorisation, with cards represented as prime numbers and multiplied together to encode the hand."
   ]
  },
  {
   "cell_type": "code",
   "execution_count": 54,
   "metadata": {},
   "outputs": [
    {
     "name": "stdout",
     "output_type": "stream",
     "text": [
      "Flush hand:\n",
      "SF  AKQJT  1\n",
      "Binary encoding: 7936\n",
      "\n",
      "No-dupes, No-flush hand:\n",
      "SS  AKQJT  1600\n",
      "Binary encoding: 7936\n",
      "\n",
      "Dupes hand:\n",
      "4K  AAAAK  11\n",
      "Prime encoding: 104553157\n",
      "\n"
     ]
    }
   ],
   "source": [
    "from functools import reduce\n",
    "tracker = HandTracker()\n",
    "\n",
    "flush_lookup = open(\"lookup-tables/flush lookup.txt\", \"r\")\n",
    "unique5_lookup = open(\"lookup-tables/unique five lookup.txt\", \"r\")\n",
    "dupe_lookup = open(\"lookup-tables/dupe lookup.txt\", \"r\")\n",
    "\n",
    "line = flush_lookup.readline()[:-1]\n",
    "encoding = reduce(lambda x, y : x+y, map(lambda x : tracker.DV[line[int(x)]], '45678'))\n",
    "print(f\"Flush hand:\\n{line}\")\n",
    "print(f\"Binary encoding: {encoding}\\n\")\n",
    "\n",
    "line = unique5_lookup.readline()[:-1]\n",
    "encoding = reduce(lambda x, y : x+y, map(lambda x : tracker.DV[line[int(x)]], '45678'))\n",
    "print(f\"No-dupes, No-flush hand:\\n{line}\")\n",
    "print(f\"Binary encoding: {encoding}\\n\")\n",
    "\n",
    "line = dupe_lookup.readline()[:-1]\n",
    "encoding = reduce(lambda x, y : x*y, map(lambda x : tracker.DP[line[int(x)]], '45678'))\n",
    "print(f\"Dupes hand:\\n{line}\")\n",
    "print(f\"Prime encoding: {encoding}\\n\")\n",
    "\n",
    "flush_lookup.close()\n",
    "unique5_lookup.close()\n",
    "dupe_lookup.close()"
   ]
  },
  {
   "cell_type": "markdown",
   "metadata": {},
   "source": [
    "## **Functionality**"
   ]
  },
  {
   "cell_type": "markdown",
   "metadata": {},
   "source": [
    "### **Dealing Hands**"
   ]
  },
  {
   "cell_type": "markdown",
   "metadata": {},
   "source": [
    "The recommnded way to deal cards to players is to use ```HandTracker.DealHands(names)```. "
   ]
  },
  {
   "cell_type": "code",
   "execution_count": 18,
   "metadata": {},
   "outputs": [
    {
     "name": "stdout",
     "output_type": "stream",
     "text": [
      "Hands: {'Brad': {'cards': [A♢, K♡, A♡, 10♡, 9♣]}, 'Scott': {'cards': [6♠, 4♠, Q♢, 4♡, 9♡]}, 'Daniel': {'cards': [5♣, 8♡, 9♢, 9♠, 7♢]}}\n",
      "\n",
      "Amount of remaining cards in deck: 37\n"
     ]
    }
   ],
   "source": [
    "tracker = HandTracker()\n",
    "tracker.DealHands([\"Brad\", \"Scott\", \"Daniel\"])\n",
    "print(f\"Hands: {tracker.hands}\\n\")\n",
    "print(f\"Amount of remaining cards in deck: {tracker.DECK.CountRemaining()}\")"
   ]
  },
  {
   "cell_type": "markdown",
   "metadata": {},
   "source": [
    "### **Evaluating Hands**"
   ]
  },
  {
   "cell_type": "markdown",
   "metadata": {},
   "source": [
    "The ```HandTracker.EvaluateHand()``` method is the recommended way to evaluate players hands. It does the following:\n",
    "\n",
    "* It determines which of ```HandTracker.FLUSH_RANKS```, ```HandTracker.UNIQUE5_RANKS``` or ```HandTracker.DUPE_RANKS``` attributes contain the rank of the hand.\n",
    "* It converts the hand composition into an ```int``` that can be used as a key in the relevant attribute above, returning the numerical rank of the hand. There are 7462 different ranks in total, as calculated by [Kevin Suffecool](http://suffe.cool/poker/evaluator.html).\n",
    "* It inteprets the numerical rank of the hand as a categorical rank using the ```HandTracker.CLASSES``` and ```HANDTRACKER.BOUNDARIES``` attributes.\n",
    "* It stores the data in ```Handtracker.hands```."
   ]
  },
  {
   "cell_type": "code",
   "execution_count": 36,
   "metadata": {},
   "outputs": [
    {
     "name": "stdout",
     "output_type": "stream",
     "text": [
      "Hand info: {'cards': [J♢, 10♠, 6♡, 10♢, 4♢], 'rank_n': 4361, 'rank_c': 'pair'}\n"
     ]
    }
   ],
   "source": [
    "tracker = HandTracker()\n",
    "player = \"Brad\"\n",
    "tracker.DealHands([player])\n",
    "tracker.EvaluateHands()\n",
    "print(f\"Hand info: {tracker.hands[player]}\")"
   ]
  },
  {
   "cell_type": "markdown",
   "metadata": {},
   "source": [
    "#### **Locating Hand Rank**"
   ]
  },
  {
   "cell_type": "markdown",
   "metadata": {},
   "source": [
    "The ```HandTracker.CheckFlush()``` and ```HandTracker.CheckUnique5()``` methods are used to determine which of ```HandTracker.FLUSH_RANKS```, ```HandTracker.UNIQUE5_RANKS``` or ```HandTracker.DUPE_RANKS``` attributes contain the rank of the hand. This is done by:\n",
    "\n",
    "* Converting the composition of the hand to an ```int``` by combining the ```Card.b``` values of each card. Bitwise-and is used for ```HandTracker.CheckFlush()```. Bitwise-or is used for ```HandTracker.CheckUnique5()```. \n",
    "* The ```bool``` values that ```HandTracker.CheckFlush()``` and ```HandTracker.CheckUnique5()``` return, are used to decide which of ```HandTracker.FLUSH_RANKS```, ```HandTracker.UNIQUE5_RANKS``` or ```HandTracker.DUPE_RANKS``` attributes contain the rank of the hand.\n",
    "\n",
    "for more information about ```Card.b``` is calculated see the [card.ipynb](card.ipynb) notebook."
   ]
  },
  {
   "cell_type": "code",
   "execution_count": 58,
   "metadata": {},
   "outputs": [
    {
     "name": "stdout",
     "output_type": "stream",
     "text": [
      "Hand: [9♣, 9♢, 9♡, 10♣, Q♣]\n",
      "9♣ encoded: 00000000100000001000011100010011\n",
      "9♢ encoded: 00000000100000000100011100010011\n",
      "9♡ encoded: 00000000100000000010011100010011\n",
      "10♣ encoded: 00000001000000001000100000010111\n",
      "Q♣ encoded: 00000100000000001000101000011111\n",
      "\n",
      "'and' encoding: 00000000000000000000000000010011\n",
      "Flush mask: 00000000000000001111000000000000\n",
      "Flush check: False\n",
      "\n",
      "'or' encoding: 00000101100000001110111100011111\n",
      "Unique5 mask: 00011111111111110000000000000000\n",
      "Unique5 check: False\n",
      "\n",
      "Dupes check: True\n"
     ]
    }
   ],
   "source": [
    "from functools import reduce\n",
    "\n",
    "tracker = HandTracker()\n",
    "player = \"Brad\"\n",
    "tracker.DealHands([player])\n",
    "hand = tracker.hands[player]['cards']\n",
    "and_encoding = bin(reduce(lambda x, y: x&y, map(lambda x : x.b, hand)))[2:].zfill(32)\n",
    "or_encoding = bin(reduce(lambda x, y: x|y, map(lambda x : x.b, hand)))[2:].zfill(32)\n",
    "\n",
    "print(f\"Hand: {hand}\")\n",
    "print(f\"{hand[0]} encoded: {bin(hand[0].b)[2:].zfill(32)}\")\n",
    "print(f\"{hand[1]} encoded: {bin(hand[1].b)[2:].zfill(32)}\")\n",
    "print(f\"{hand[2]} encoded: {bin(hand[2].b)[2:].zfill(32)}\")\n",
    "print(f\"{hand[3]} encoded: {bin(hand[3].b)[2:].zfill(32)}\")\n",
    "print(f\"{hand[4]} encoded: {bin(hand[4].b)[2:].zfill(32)}\\n\")\n",
    "print(f\"'and' encoding: {and_encoding}\")\n",
    "print(f\"Flush mask: {bin(15 << 12)[2:].zfill(32)}\")\n",
    "print(f\"Flush check: {tracker.CheckFlush(hand)}\\n\")\n",
    "print(f\"'or' encoding: {or_encoding}\")\n",
    "print(f\"Unique5 mask: {bin((2**13 - 1) << 16)[2:].zfill(32)}\")\n",
    "print(f\"Unique5 check: {tracker.CheckUnique5(hand)}\\n\")\n",
    "\n",
    "print(f\"Dupes check: {not tracker.CheckUnique5(hand) and not tracker.CheckFlush(hand)}\")"
   ]
  },
  {
   "cell_type": "markdown",
   "metadata": {},
   "source": [
    "#### **Reading Numerical Hand Rank**"
   ]
  },
  {
   "cell_type": "markdown",
   "metadata": {},
   "source": [
    "Once the hand rank has been located, the hand needs to be converted into key to retreive the rank from either ```HandTracker.FLUSH_RANKS```, ```HandTracker.UNIQUE5_RANKS```, or ```HandTracker.DUPE_RANKS``` respectively. \n",
    "\n",
    "* If the rank is in ```HandTracker.FLUSH_RANKS```, ```HandTracker.UNIQUE5_RANKS```, then ```HandTracker.ExtractSum(hand)``` should be used.\n",
    "* If the rank is in ```HandTracker.DUPE_RANKS```, then ```HandTracker.ExtractProduct(hand)``` should be used."
   ]
  },
  {
   "cell_type": "code",
   "execution_count": 89,
   "metadata": {},
   "outputs": [
    {
     "name": "stdout",
     "output_type": "stream",
     "text": [
      "[2♣, 4♢, 3♡, 5♢, 7♢] has five unique values.\n",
      "hand encoding: 47\n",
      "hand rank: 7462\n"
     ]
    }
   ],
   "source": [
    "tracker = HandTracker()\n",
    "player = \"Brad\"\n",
    "tracker.DealHands([player])\n",
    "hand = tracker.hands[player]['cards']\n",
    "flush = tracker.CheckFlush(hand)\n",
    "unique5 = tracker.CheckUnique5(hand)\n",
    "\n",
    "if flush:\n",
    "    print(f\"{hand} has flush.\")\n",
    "    encoding = tracker.ExtractSum(hand)\n",
    "    print(f\"hand encoding: {encoding}\")\n",
    "    print(f\"hand rank: {tracker.FLUSH_RANKS[encoding]}\")\n",
    "elif unique5:\n",
    "    print(f\"{hand} has five unique values.\")\n",
    "    encoding = tracker.ExtractSum(hand)\n",
    "    print(f\"hand encoding: {encoding}\")\n",
    "    print(f\"hand rank: {tracker.UNIQUE5_RANKS[encoding]}\")\n",
    "else:\n",
    "    print(f\"{hand} has dupe values.\")\n",
    "    encoding = tracker.ExtractProduct(hand)\n",
    "    print(f\"hand encoding: {encoding}\")\n",
    "    print(f\"hand rank: {tracker.DUPE_RANKS[encoding]}\")"
   ]
  },
  {
   "cell_type": "markdown",
   "metadata": {},
   "source": [
    "#### **Categorising Hand Rank**"
   ]
  },
  {
   "cell_type": "markdown",
   "metadata": {},
   "source": [
    "Using the numerical ranking of a hand, the categorical rank is found by filtering ```HandTracker.BOUNDARIES``` of numbers smaller than the rank, and then using the resultant length to index into ```HandTracker.CLASSES```. The boundaries were manually found from the [lookup-tables](../lookup-tables/)."
   ]
  },
  {
   "cell_type": "code",
   "execution_count": 96,
   "metadata": {},
   "outputs": [
    {
     "name": "stdout",
     "output_type": "stream",
     "text": [
      "The hand ranked 1000 is classified as a flush.\n"
     ]
    }
   ],
   "source": [
    "hand_rank = 1000\n",
    "\n",
    "tracker = HandTracker()\n",
    "c = 10 - len(list(filter(lambda x : hand_rank >= x, tracker.BOUNDARIES)))\n",
    "print(f\"The hand ranked {hand_rank} is classified as a {tracker.CLASSES[c]}.\")\n"
   ]
  },
  {
   "cell_type": "markdown",
   "metadata": {},
   "source": [
    "### **Collecting Cards**"
   ]
  },
  {
   "cell_type": "markdown",
   "metadata": {},
   "source": [
    "The recommended way to collect cards from players is to use ```HandTracker.CollectHands()```, which clears ```HandTracker.hands``` and prepares ```HandTracker.DECK``` for a new round."
   ]
  },
  {
   "cell_type": "code",
   "execution_count": 3,
   "metadata": {},
   "outputs": [
    {
     "name": "stdout",
     "output_type": "stream",
     "text": [
      "Amount of remaining cards in deck before collecting hands: 37\n",
      "Amount of remaining cards in deck after collecting hands: 52\n"
     ]
    }
   ],
   "source": [
    "tracker = HandTracker()\n",
    "tracker.DealHands([\"Brad\", \"Scott\", \"Daniel\"])\n",
    "print(f\"Amount of remaining cards in deck before collecting hands: {tracker.DECK.CountRemaining()}\")\n",
    "tracker.CollectHands()\n",
    "print(f\"Amount of remaining cards in deck after collecting hands: {tracker.DECK.CountRemaining()}\")"
   ]
  },
  {
   "cell_type": "markdown",
   "metadata": {},
   "source": [
    "### **Switching Cards**"
   ]
  },
  {
   "cell_type": "markdown",
   "metadata": {},
   "source": [
    "The intended way to switch cards during the switching phase of a round of five card draw poker; is to first approve the selection of cards to be discarded using ```HandTracker.ApproveDiscards(name, discards)```, and once that returns ```True```, proceed to edit the hand using ```HandTracker.EditHand(name, discards)```. "
   ]
  },
  {
   "cell_type": "code",
   "execution_count": 6,
   "metadata": {},
   "outputs": [
    {
     "name": "stdout",
     "output_type": "stream",
     "text": [
      "Brad's hand: {'Brad': {'cards': [5♢, 6♡, 9♡, A♣, K♡]}}\n",
      "\n",
      "Brad wants to switch: [5♢, 6♡, 9♡]\n",
      "Approval : True\n",
      "\n",
      "Brad's new hand: {'Brad': {'cards': [A♣, K♡, 2♠, Q♣, 7♠]}}\n"
     ]
    }
   ],
   "source": [
    "player = \"Brad\"\n",
    "tracker = HandTracker()\n",
    "tracker.DealHands([player])\n",
    "print(f\"{player}'s hand: {tracker.hands}\\n\")\n",
    "discards = tracker.hands[player][\"cards\"][:3]\n",
    "approval = tracker.ApproveDiscards(player, discards)\n",
    "print(f\"{player} wants to switch: {discards}\")\n",
    "print(f\"Approval : {approval}\\n\")\n",
    "if approval:\n",
    "    tracker.EditHand(player, discards)\n",
    "    print(f\"{player}'s new hand: {tracker.hands}\")"
   ]
  },
  {
   "cell_type": "markdown",
   "metadata": {},
   "source": [
    "## **Demos**"
   ]
  },
  {
   "cell_type": "markdown",
   "metadata": {},
   "source": [
    "The ```HandTracker.DemoDeal()``` method can be used to create a random hand without the implict tracking of ```Card``` objects. The ```HandTracker.DemoEvaluate(hand)``` method can be used to evaluate a hand that isn't being tracked.  These methods are purely for demonstration purposes and are never called in [fivecarddraw.py](../fivecarddraw.py)."
   ]
  },
  {
   "cell_type": "code",
   "execution_count": 97,
   "metadata": {},
   "outputs": [
    {
     "name": "stdout",
     "output_type": "stream",
     "text": [
      "Random hand: [7♣, 9♣, 5♣, Q♡, 4♠]\n",
      "Evaluation: {'rank_c': 'High card', 'rank_n': 7166}\n"
     ]
    }
   ],
   "source": [
    "tracker = HandTracker()\n",
    "hand = tracker.DemoDeal()\n",
    "print(f\"Random hand: {hand}\")\n",
    "print(f\"Evaluation: {tracker.DemoEvaluate(hand)}\")"
   ]
  }
 ],
 "metadata": {
  "kernelspec": {
   "display_name": "Python 3.10.3 64-bit",
   "language": "python",
   "name": "python3"
  },
  "language_info": {
   "codemirror_mode": {
    "name": "ipython",
    "version": 3
   },
   "file_extension": ".py",
   "mimetype": "text/x-python",
   "name": "python",
   "nbconvert_exporter": "python",
   "pygments_lexer": "ipython3",
   "version": "3.10.3"
  },
  "orig_nbformat": 4,
  "vscode": {
   "interpreter": {
    "hash": "607db476e417971f05b607c2dd14e77ee8262c2c4c20dea422522c60605a222a"
   }
  }
 },
 "nbformat": 4,
 "nbformat_minor": 2
}
