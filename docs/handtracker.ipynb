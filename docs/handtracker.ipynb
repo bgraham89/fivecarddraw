{
 "cells": [
  {
   "cell_type": "markdown",
   "metadata": {},
   "source": [
    "# **The HandTracker class**"
   ]
  },
  {
   "cell_type": "markdown",
   "metadata": {},
   "source": [
    "This notebook provides some documentation about ```HandTracker``` objects."
   ]
  },
  {
   "cell_type": "markdown",
   "metadata": {},
   "source": [
    "Run the following codeblocks to import the ```HandTracker``` class into this notebook."
   ]
  },
  {
   "cell_type": "code",
   "execution_count": 1,
   "metadata": {},
   "outputs": [
    {
     "name": "stdout",
     "output_type": "stream",
     "text": [
      "Current Directory: d:\\My Projects\\Programming\\Game-Development\\fivecarddraw\n"
     ]
    }
   ],
   "source": [
    "from os import chdir, getcwd\n",
    "\n",
    "if not getcwd().endswith(\"fivecarddraw\"):\n",
    "    chdir(\"..\")\n",
    "    \n",
    "print(f\"Current Directory: {getcwd()}\")"
   ]
  },
  {
   "cell_type": "code",
   "execution_count": 2,
   "metadata": {},
   "outputs": [],
   "source": [
    "from fivecarddraw import HandTracker"
   ]
  },
  {
   "cell_type": "markdown",
   "metadata": {},
   "source": [
    "## **Initialisation**"
   ]
  },
  {
   "cell_type": "markdown",
   "metadata": {},
   "source": [
    "The ```HandTracker``` class is designed to deal with card dynamics, and is one of the trackers mediated by the ```Dealer``` class. Upon initialisation:\n",
    "* It creates a ```Deck``` in the attribute ```HandTracker.DECK```.\n",
    "* It creates a ```dict``` that stores data about players hands as json in the attribute ```HandTracker.players```\n",
    "* It loads about 150kb of data from the [data](../data/) folder that contains data useful for evaluating hands. This data is loaded using the ```HandTracker.LoadData()``` method and stored in ```dict``` attributes, namely: ```HandTracker.FLUSH_RANKS```, ```HandTracker.UNIQUE5_RANKS```, and ```HandTracker.DUPE_RANKS```.\n",
    "\n",
    "For more information about ```Deck``` objects, see the [deck.ipynb](deck.ipynb) notebook. For more information about ```Dealer``` objects see the [dealer.ipynb](dealer.ipynb) notebook.\n"
   ]
  },
  {
   "cell_type": "code",
   "execution_count": 3,
   "metadata": {},
   "outputs": [
    {
     "name": "stdout",
     "output_type": "stream",
     "text": [
      "deck: [2♠, 2♡, 2♢, 2♣, 3♠, 3♡, 3♢, 3♣, 4♠, 4♡, 4♢, 4♣, 5♠, 5♡, 5♢, 5♣, 6♠, 6♡, 6♢, 6♣, 7♠, 7♡, 7♢, 7♣, 8♠, 8♡, 8♢, 8♣, 9♠, 9♡, 9♢, 9♣, 10♠, 10♡, 10♢, 10♣, J♠, J♡, J♢, J♣, Q♠, Q♡, Q♢, Q♣, K♠, K♡, K♢, K♣, A♠, A♡, A♢, A♣]\n",
      "\n",
      "hands: {}\n",
      "\n",
      "Amount of keys in FLUSH_RANKS: 1287\n",
      "Amount of keys in UNIQUE5_RANKS: 1287\n",
      "Amount of keys in DUPE_RANKS: 4888\n",
      "\n"
     ]
    }
   ],
   "source": [
    "tracker = HandTracker()\n",
    "print(f\"deck: {tracker.DECK}\\n\")\n",
    "print(f\"hands: {tracker.players}\\n\")\n",
    "print(f\"Amount of keys in FLUSH_RANKS: {len(tracker.FLUSH_RANKS)}\")\n",
    "print(f\"Amount of keys in UNIQUE5_RANKS: {len(tracker.UNIQUE5_RANKS)}\")\n",
    "print(f\"Amount of keys in DUPE_RANKS: {len(tracker.DUPE_RANKS)}\\n\")"
   ]
  },
  {
   "cell_type": "markdown",
   "metadata": {},
   "source": [
    "### **Loading Hand Evaluation Data**"
   ]
  },
  {
   "cell_type": "markdown",
   "metadata": {},
   "source": [
    "The folder [data](../data/) contains three different files which are tables of data that contain both numerical and categorical evaluations of every possible five card draw hand. The actual data in those files was scraped from an external website [here](http://suffe.cool/poker/7462.html). The purpose of the ```HandTracker.LoadData()``` method is to load this data into the ```HandTracker``` object so that it can be used to quickly evaluate hands. \n",
    "\n",
    "Each file in the [data](../data/) folder is formatted in the same way. The lines can be interpreted as follows:\n",
    "\n",
    "* The first two letters encode a categorical evaluation; either RF, SF, 4K, FH, FF, SS, 3K, 2P, 1P or HC which stand for royal flush, straight flush, four of a kind, full house, flush, straight, three of a kind, two pair, pair or high card respectively.\n",
    "* The next five characters give the cards in a hand; either A, K, Q, J, T, 9, 8, 7, 6, 5, 4, 3, or 2.\n",
    "* The remaining numbers give a numerical evaluation; 1 being the best and 7462 being the worst. These ordinals were calculated through combinatorial analysis by [Kevin Suffecool](http://suffe.cool/poker/evaluator.html), the owner of the site where the data was scraped."
   ]
  },
  {
   "cell_type": "code",
   "execution_count": 10,
   "metadata": {},
   "outputs": [
    {
     "name": "stdout",
     "output_type": "stream",
     "text": [
      "data\\flushes.txt data sample:\n",
      "RF  AKQJT  1\n",
      "\n",
      "data\\uniquefive.txt data sample:\n",
      "SS  AKQJT  1600\n",
      "\n",
      "data\\dupes.txt data sample:\n",
      "4K  AAAAK  11\n"
     ]
    }
   ],
   "source": [
    "tracker = HandTracker()\n",
    "\n",
    "with open(\"data/flushes.txt\", \"r\") as flush_data:\n",
    "    line = flush_data.readline()[:-1]\n",
    "    print(f\"data\\\\flushes.txt data sample:\\n{line}\\n\")\n",
    "\n",
    "with open(\"data/uniquefive.txt\", \"r\") as unique5_data:\n",
    "    line = unique5_data.readline()[:-1]\n",
    "    print(f\"data\\\\uniquefive.txt data sample:\\n{line}\\n\")\n",
    "\n",
    "with open(\"data/dupes.txt\", \"r\") as dupe_data:\n",
    "    line = dupe_data.readline()[:-1]\n",
    "    print(f\"data\\\\dupes.txt data sample:\\n{line}\")"
   ]
  },
  {
   "cell_type": "markdown",
   "metadata": {},
   "source": [
    "The ```HandTracker.LoadData()``` method reads each hand and converts it into an ```int``` that represents the hand irrepective of the order of cards in the hand. \n",
    "\n",
    "* For hands with no duplicates, the hand is converted to an ```int``` using binary arithmetic, with cards represented as powers of two and added together to encode the hand.\n",
    "* For hands with duplicates, the hand is converted to an ```int``` with a unique prime factorisation, with cards represented as prime numbers and multiplied together to encode the hand.\n",
    "\n",
    "The ```int```  is then used as a key for either ```HandTracker.FLUSH_RANKS```, ```HandTracker.UNIQUE5_RANKS```, and ```HandTracker.DUPE_RANKS``` depending on the type of hand. The associated value for the key is a ```list``` which contains the numerical rank of the hand from 1-7462, and a categorical evaluation. "
   ]
  },
  {
   "cell_type": "code",
   "execution_count": 12,
   "metadata": {},
   "outputs": [
    {
     "name": "stdout",
     "output_type": "stream",
     "text": [
      "AAAAK encoded: 104553157\n",
      "AAAAK rank_n: 11\n",
      "AAAAK rank_c: four of a kind\n"
     ]
    }
   ],
   "source": [
    "tracker = HandTracker()\n",
    "\n",
    "hand_encoding = 37 * 41 ** 4\n",
    "print(f\"AAAAK encoded: {hand_encoding}\")\n",
    "print(f\"AAAAK rank_n: {tracker.DUPE_RANKS[hand_encoding][0]}\")\n",
    "print(f\"AAAAK rank_c: {tracker.DUPE_RANKS[hand_encoding][1]}\")"
   ]
  },
  {
   "cell_type": "markdown",
   "metadata": {},
   "source": [
    "## **Player Tracking**"
   ]
  },
  {
   "cell_type": "markdown",
   "metadata": {},
   "source": [
    "The ```HandTracker.TrackPlayers(names)``` method is used to begin tracking the hands of a player. The similarly named ```HandTracker.TrackedPlayers()``` is used to get the names of players being tracked, by returning the ```dict_keys``` of the ```HandTracker.players``` attribute."
   ]
  },
  {
   "cell_type": "code",
   "execution_count": 23,
   "metadata": {},
   "outputs": [
    {
     "name": "stdout",
     "output_type": "stream",
     "text": [
      "Player info: {'Brad': {'cards': []}}\n",
      "\n",
      "Tracked players: dict_keys(['Brad'])\n"
     ]
    }
   ],
   "source": [
    "tracker = HandTracker()\n",
    "names = [\"Brad\"]\n",
    "\n",
    "tracker.TrackPlayers(names)\n",
    "print(f\"Player info: {tracker.players}\\n\")\n",
    "print(f\"Tracked players: {tracker.TrackedPlayers()}\")"
   ]
  },
  {
   "cell_type": "markdown",
   "metadata": {},
   "source": [
    "There are two methods for modifying a ```list``` of cards stored in ```HandTracker.players```.\n",
    "\n",
    "* ```HandTracker.AssignCards(name, cards)``` is used to append cards.\n",
    "* ```HandTracker.UnassignCards(name, cards)``` is used to remove cards.\n",
    "\n",
    "Both methods will throw an ```Exception``` if a name is used that isn't being tracked. The ```HandTracker.UnassignCards(name, cards)``` will also throw an ```Exception``` if the cards parameter contains a ```Card``` that isn't assigned to player with name. It's not recommended to explicitly use these methods as they ignores deck tracking. For higher-level methods see the sections on dealing and swapping cards below. To view a single players cards, use ```HandTracker.TrackedHand(name)```"
   ]
  },
  {
   "cell_type": "code",
   "execution_count": 3,
   "metadata": {},
   "outputs": [],
   "source": [
    "from fivecarddraw import Card"
   ]
  },
  {
   "cell_type": "code",
   "execution_count": 4,
   "metadata": {},
   "outputs": [
    {
     "name": "stdout",
     "output_type": "stream",
     "text": [
      "hands before assignment: {'Brad': {'cards': []}}\n",
      "\n",
      "hands after assignment: {'Brad': {'cards': [A♠, K♠, Q♠, J♠, 10♠]}}\n",
      "\n",
      "hands after unassignment: {'Brad': {'cards': [A♠]}}\n"
     ]
    }
   ],
   "source": [
    "tracker = HandTracker()\n",
    "names = [\"Brad\"]\n",
    "tracker.TrackPlayers(names)\n",
    "print(f\"hands before assignment: {tracker.players}\\n\")\n",
    "\n",
    "cards = [Card(12-i, 0) for i in range(5)]\n",
    "tracker.AssignCards(names[0], cards)\n",
    "print(f\"hands after assignment: {tracker.players}\\n\")\n",
    "\n",
    "tracker.UnassignCards(names[0], cards[1:])\n",
    "print(f\"hands after unassignment: {tracker.players}\")"
   ]
  },
  {
   "cell_type": "markdown",
   "metadata": {},
   "source": [
    "## **Dealing Hands**"
   ]
  },
  {
   "cell_type": "markdown",
   "metadata": {},
   "source": [
    "The ```HandTracker.DealHand()``` method can be used to obtain a five card hand, taken from ```HandTracker.DECK```. For this reason, it asserts there ar enough cards in the deck to deal. It's recommended to shuffle cards before dealing! Shuffling can be simulated with the convenience method ```HandTracker.ShuffleDeck()```. "
   ]
  },
  {
   "cell_type": "code",
   "execution_count": 8,
   "metadata": {},
   "outputs": [
    {
     "name": "stdout",
     "output_type": "stream",
     "text": [
      "Hand: [Q♢, 5♢, 8♡, A♣, 2♢]\n"
     ]
    }
   ],
   "source": [
    "tracker = HandTracker()\n",
    "tracker.ShuffleDeck()\n",
    "hand = tracker.DealHand()\n",
    "print(f\"Hand: {hand}\")"
   ]
  },
  {
   "cell_type": "markdown",
   "metadata": {},
   "source": [
    "If player hand tracking is desired, the recommended way to deal cards is using the ```HandTracker.DealPlayersIn()``` method, which also updates the   ```HandTracker.players``` attribute."
   ]
  },
  {
   "cell_type": "code",
   "execution_count": 4,
   "metadata": {},
   "outputs": [
    {
     "name": "stdout",
     "output_type": "stream",
     "text": [
      "player hands: {'Brad': {'cards': [8♡, 2♡, 7♢, 10♢, 7♡]}, 'Scott': {'cards': [7♣, 5♡, 3♣, 7♠, 3♢]}, 'Dan': {'cards': [2♠, 5♠, A♠, 10♣, 3♠]}, 'Alex': {'cards': [J♠, 9♢, K♠, Q♠, 9♠]}, 'Olivia': {'cards': [6♡, Q♢, 4♠, 5♢, 8♣]}, 'Lewis': {'cards': [10♠, J♣, Q♡, 9♣, K♢]}}\n"
     ]
    }
   ],
   "source": [
    "tracker = HandTracker()\n",
    "names = [\"Brad\", \"Scott\", \"Dan\", \"Alex\", \"Olivia\", \"Lewis\"]\n",
    "tracker.TrackPlayers(names)\n",
    "\n",
    "tracker.ShuffleDeck()\n",
    "tracker.DealPlayersIn()\n",
    "print(f\"player hands: {tracker.players}\")"
   ]
  },
  {
   "cell_type": "markdown",
   "metadata": {},
   "source": [
    "## **Evaluating Hands**"
   ]
  },
  {
   "cell_type": "markdown",
   "metadata": {},
   "source": [
    "The ```HandTracker.EvaluateHand()``` method can be used to evaluate a hand. It does the following:\n",
    "\n",
    "* It determines which of the ```dict``` attributes contain the rank of the hand; namely: ```HandTracker.FLUSH_RANKS```, ```HandTracker.UNIQUE5_RANKS``` or ```HandTracker.DUPE_RANKS```.\n",
    "* It converts the hand composition into an ```int```, using an algorithm dependent on which ```dict``` the hands rank is stored.\n",
    "* The ```int``` representing the hand is used as a key in the respective ```dict``` attribute, to retrieve both the numerical rank of the hand, and it's categorical rank.\n",
    "* It returns the hand information.\n",
    "\n",
    "There are 7462 different ranks in total, as calculated by [Kevin Suffecool](http://suffe.cool/poker/evaluator.html), with 1 being the best hand and 7462 being the worst. The categorical ranks are: 'royal flush', 'straight flush', 'four of a kind', 'full house', 'flush', 'straight', 'three of a kind', 'two pair', 'pair' or 'high card'."
   ]
  },
  {
   "cell_type": "code",
   "execution_count": 5,
   "metadata": {},
   "outputs": [
    {
     "name": "stdout",
     "output_type": "stream",
     "text": [
      "Hand: [2♡, 8♡, K♢, 2♢, 3♠]\n",
      "numerical rank: 6055\n",
      "categorical rank: pair\n"
     ]
    }
   ],
   "source": [
    "tracker = HandTracker()\n",
    "tracker.ShuffleDeck()\n",
    "\n",
    "hand = tracker.DealHand()\n",
    "print(f\"Hand: {hand}\")\n",
    "rank = tracker.EvaluateHand(hand)\n",
    "print(f\"numerical rank: {rank[0]}\")\n",
    "print(f\"categorical rank: {rank[1]}\")"
   ]
  },
  {
   "cell_type": "markdown",
   "metadata": {},
   "source": [
    "### **Locating Hand Rank**"
   ]
  },
  {
   "cell_type": "markdown",
   "metadata": {},
   "source": [
    "Before the rank of a hand can pulled from one of the ```dict``` attributes of the ```HandTracker``` class, there must be an inspection of the hand to determine which of the ```dict``` attributes the ranking is stored in.\n",
    "\n",
    "* If ```HandTracker.HasFlush(hand) == True``` then the hand's ranking is in ```HandTracker.FLUSH_RANKS```.\n",
    "* Else if ```HandTracker.HasUnique5(hand) == True``` then the hand's ranking is in ```HandTracker.UNIQUE5_RANKS```.\n",
    "* Else the hand's ranking is in ```HandTracker.DUPES_RANKS```."
   ]
  },
  {
   "cell_type": "code",
   "execution_count": 12,
   "metadata": {},
   "outputs": [
    {
     "name": "stdout",
     "output_type": "stream",
     "text": [
      "[5♢, 8♡, J♡, 10♠, 10♢] contains duplicate valued cards.\n"
     ]
    }
   ],
   "source": [
    "tracker = HandTracker()\n",
    "tracker.ShuffleDeck()\n",
    "\n",
    "hand = tracker.DealHand()\n",
    "\n",
    "if tracker.HasFlush(hand):\n",
    "    print(f\"{hand} contains a flush.\")\n",
    "elif tracker.HasUnique5(hand):\n",
    "    print(f\"{hand} contains five unique valued cards.\")\n",
    "else:\n",
    "    print(f\"{hand} contains duplicate valued cards.\")"
   ]
  },
  {
   "cell_type": "markdown",
   "metadata": {},
   "source": [
    "The ```HandTracker.HasFlush()``` method involves bitwise-and of the ```int(Card)``` values of the cards in the hand. The ```int(Card)``` value of a card is a binary encoding, shaped by a bitmask that assigns each unique card suit to a power of two. As long as each card in the hand has the same suit, the result of bitwise-and will produce an ```int``` with one on-bit."
   ]
  },
  {
   "cell_type": "code",
   "execution_count": 27,
   "metadata": {},
   "outputs": [
    {
     "name": "stdout",
     "output_type": "stream",
     "text": [
      "2♡ suit: 0010\n",
      "J♣ suit: 1000\n",
      "2♢ suit: 0100\n",
      "K♠ suit: 0001\n",
      "5♢ suit: 0100\n",
      "bitwise-and: 0000\n",
      "has flush: False\n"
     ]
    }
   ],
   "source": [
    "tracker = HandTracker()\n",
    "tracker.ShuffleDeck()\n",
    "\n",
    "hand = tracker.DealHand()\n",
    "\n",
    "hand_int = 0\n",
    "for card in hand:\n",
    "    print(f\"{card} suit: {bin(card._suit >> 12)[2:].zfill(4)}\")\n",
    "    hand_int &= card._suit >> 12\n",
    "print(f\"bitwise-and: {bin(hand_int)[2:].zfill(4)}\")\n",
    "print(f\"has flush: {tracker.HasFlush(hand)}\")"
   ]
  },
  {
   "cell_type": "markdown",
   "metadata": {},
   "source": [
    "The ```HandTracker.HasUnique5()``` method involves bitwise-xor of the ```int(Card)``` values of the cards in the hand. The ```int(Card)``` value of a card is a binary encoding, shaped by a bitmask that assigns each unique card value to a power of two. As long as each card in the hand has a different value, the result of bitwise-xor will produce an ```int``` with five on-bits."
   ]
  },
  {
   "cell_type": "code",
   "execution_count": 31,
   "metadata": {},
   "outputs": [
    {
     "name": "stdout",
     "output_type": "stream",
     "text": [
      "9♠ value: 0000010000000\n",
      "5♡ value: 0000000001000\n",
      "J♡ value: 0001000000000\n",
      "3♢ value: 0000000000010\n",
      "2♣ value: 0000000000001\n",
      "bitwise-xor: 0001010001011\n",
      "has no dupes: True\n"
     ]
    }
   ],
   "source": [
    "tracker = HandTracker()\n",
    "tracker.ShuffleDeck()\n",
    "\n",
    "hand = tracker.DealHand()\n",
    "\n",
    "hand_int = 0\n",
    "for card in hand:\n",
    "    print(f\"{card} value: {bin(card._value >> 16)[2:].zfill(13)}\")\n",
    "    hand_int |= card._value >> 16\n",
    "print(f\"bitwise-xor: {bin(hand_int)[2:].zfill(13)}\")\n",
    "print(f\"has no dupes: {tracker.HasUnique5(hand)}\")"
   ]
  },
  {
   "cell_type": "markdown",
   "metadata": {},
   "source": [
    "### **Encoding Hand as integer**"
   ]
  },
  {
   "cell_type": "markdown",
   "metadata": {},
   "source": [
    "Once the location of the hand rank is known, a key needs to be produced corresponding to the hand. The key is produced by converting the hand to an ```ìnt```. The conversion methodis determined as follows: \n",
    "\n",
    "* If the hand rank is in ```HandTracker.FLUSH_RANKS``` or ```HandTracker.UNIQUE5_RANKS``` then use ```HandTracker.TwosEncoding(hand)```.\n",
    "* If the hand rank is in ```HandTracker.DUPES_RANKS``` then use ```HandTracker.PrimesEncoding(hand)```.\n",
    "\n",
    "The ```HandTracker.TwosEncoding()``` method involves bitwise-xor of the ```int(Card)``` values of the cards in the hand. The ```int(Card)``` value of a card is a binary encoding, shaped by a bitmask that assigns each unique card value to a power of two. As long as each card in the hand has a unique value, the result of bitwise-xor will produce an ```int``` with five on-bits that's unique for the hand regardless of card order in the hand. The encoding is not suitable for unique encodings of hands containing duplicate values."
   ]
  },
  {
   "cell_type": "code",
   "execution_count": 25,
   "metadata": {},
   "outputs": [
    {
     "name": "stdout",
     "output_type": "stream",
     "text": [
      "9♣ value: 0000010000000\n",
      "8♠ value: 0000001000000\n",
      "A♢ value: 1000000000000\n",
      "7♢ value: 0000000100000\n",
      "4♣ value: 0000000000100\n",
      "bitwise-xor: 1000011100100\n",
      "Twos Encoding: 4324\n"
     ]
    }
   ],
   "source": [
    "tracker = HandTracker()\n",
    "tracker.ShuffleDeck()\n",
    "\n",
    "hand = tracker.DealHand()\n",
    "\n",
    "for card in hand:\n",
    "    print(f\"{card} value: {bin(card._value >> 16)[2:].zfill(13)}\")\n",
    "print(f\"bitwise-xor: {bin(tracker.TwosEncoding(hand))[2:].zfill(13)}\")\n",
    "print(f\"Twos Encoding: {tracker.TwosEncoding(hand)}\")"
   ]
  },
  {
   "cell_type": "markdown",
   "metadata": {},
   "source": [
    "The ```HandTracker.PrimesEncoding()``` method involves multiplication of the ```int(Card)``` values of the cards in the hand. The ```int(Card)``` value of a card is a binary encoding, shaped by a bitmask that assigns each unique card value to a prime number. The result of multiplication will always produce a unique ```int``` for the hand regardless of card order in the hand, or the suits of the cards. "
   ]
  },
  {
   "cell_type": "code",
   "execution_count": 26,
   "metadata": {},
   "outputs": [
    {
     "name": "stdout",
     "output_type": "stream",
     "text": [
      "10♠ prime: 23\n",
      "Q♡ prime: 31\n",
      "A♣ prime: 41\n",
      "5♣ prime: 7\n",
      "5♠ prime: 7\n",
      "Primes Encoding: 1432417\n"
     ]
    }
   ],
   "source": [
    "tracker = HandTracker()\n",
    "tracker.ShuffleDeck()\n",
    "\n",
    "hand = tracker.DealHand()\n",
    "\n",
    "for card in hand:\n",
    "    print(f\"{card} prime: {card._prime}\")\n",
    "print(f\"Primes Encoding: {tracker.PrimesEncoding(hand)}\")"
   ]
  },
  {
   "cell_type": "markdown",
   "metadata": {},
   "source": [
    "For more information about how ```int(Card)``` is calculated see the [card.ipynb](card.ipynb) notebook."
   ]
  },
  {
   "cell_type": "markdown",
   "metadata": {},
   "source": [
    "### **Evaluating Hands of Tracked Players**"
   ]
  },
  {
   "cell_type": "markdown",
   "metadata": {},
   "source": [
    "The ```HandTracker.EvaluatePlayersIn()``` method calls ```HandTracker.EvaluateHand()``` for each player in ```HandTracker.TrackedPlayers()``` and stores the results in the ```HandTracker.players``` attribute."
   ]
  },
  {
   "cell_type": "code",
   "execution_count": 32,
   "metadata": {},
   "outputs": [
    {
     "name": "stdout",
     "output_type": "stream",
     "text": [
      "player hands: {'Brad': {'cards': [A♢, 10♢, 2♠, A♠, 3♣], 'rank_n': 3489, 'rank_c': 'pair'}, 'Scott': {'cards': [3♡, K♣, 5♡, J♠, 4♠], 'rank_n': 6878, 'rank_c': 'high card'}, 'Dan': {'cards': [4♣, 6♢, 7♡, 7♠, A♣], 'rank_n': 4912, 'rank_c': 'pair'}, 'Alex': {'cards': [8♠, J♢, Q♣, 8♢, 8♣], 'rank_n': 2027, 'rank_c': 'three of a kind'}, 'Olivia': {'cards': [10♣, 7♢, 5♢, 10♠, 9♢], 'rank_n': 4377, 'rank_c': 'pair'}, 'Lewis': {'cards': [5♣, 2♡, J♣, K♡, K♠], 'rank_n': 3678, 'rank_c': 'pair'}}\n"
     ]
    }
   ],
   "source": [
    "tracker = HandTracker()\n",
    "names = [\"Brad\", \"Scott\", \"Dan\", \"Alex\", \"Olivia\", \"Lewis\"]\n",
    "tracker.TrackPlayers(names)\n",
    "\n",
    "tracker.ShuffleDeck()\n",
    "tracker.DealPlayersIn()\n",
    "tracker.EvaluatePlayersIn()\n",
    "print(f\"player hands: {tracker.players}\")"
   ]
  },
  {
   "cell_type": "markdown",
   "metadata": {},
   "source": [
    "## **Swapping Cards**"
   ]
  },
  {
   "cell_type": "markdown",
   "metadata": {},
   "source": [
    "The ```HandTracker.AllowDiscards(hand, discards)``` method is used to check if the rules of five card draw allow the selection of discards for the given hand. The rules are roughly:\n",
    "\n",
    "* you can't discard all your cards\n",
    "* if you discard four, the remaining card must be an ace."
   ]
  },
  {
   "cell_type": "code",
   "execution_count": 3,
   "metadata": {},
   "outputs": [
    {
     "name": "stdout",
     "output_type": "stream",
     "text": [
      "hand: [J♡, J♢, K♠, J♠, 4♣]\n",
      "discard request: [J♡, J♢, K♠, J♠]\n",
      "response: Disallowed\n"
     ]
    }
   ],
   "source": [
    "tracker = HandTracker()\n",
    "tracker.ShuffleDeck()\n",
    "\n",
    "hand = tracker.DealHand()\n",
    "discards = hand[:4]\n",
    "\n",
    "print(f\"hand: {hand}\")\n",
    "print(f\"discard request: {discards}\")\n",
    "\n",
    "if tracker.AllowDiscards(hand, discards):\n",
    "    print(f\"response: Allowed\")\n",
    "else:\n",
    "    print(f\"response: Disallowed\")"
   ]
  },
  {
   "cell_type": "markdown",
   "metadata": {},
   "source": [
    "The ```HandTracker.SwapCards(cards)``` methods provides new cards if there is enough in the deck."
   ]
  },
  {
   "cell_type": "code",
   "execution_count": 5,
   "metadata": {},
   "outputs": [
    {
     "name": "stdout",
     "output_type": "stream",
     "text": [
      "old cards: [8♡, 2♡, 3♢, 7♣, 7♢]\n",
      "new cards: [Q♣, 10♡, 8♠, J♣, 6♢]\n"
     ]
    }
   ],
   "source": [
    "tracker = HandTracker()\n",
    "tracker.ShuffleDeck()\n",
    "\n",
    "hand = tracker.DealHand()\n",
    "print(f\"old cards: {hand}\")\n",
    "new_cards = tracker.SwapCards(hand)\n",
    "print(f\"new cards: {new_cards}\")"
   ]
  },
  {
   "cell_type": "markdown",
   "metadata": {},
   "source": [
    "For tracked players use ```HandTracker.SwapPlayersCards(name, discards)```, which stores the updated hand in ```HandTracker.players```."
   ]
  },
  {
   "cell_type": "code",
   "execution_count": 3,
   "metadata": {},
   "outputs": [
    {
     "name": "stdout",
     "output_type": "stream",
     "text": [
      "before swapping: {'Brad': {'cards': [Q♣, 5♢, 9♡, 3♠, J♠]}}\n",
      "after swapping: {'Brad': {'cards': [A♡, 8♠, K♣, 2♣, A♠]}}\n"
     ]
    }
   ],
   "source": [
    "tracker = HandTracker()\n",
    "names = [\"Brad\"]\n",
    "tracker.TrackPlayers(names)\n",
    "\n",
    "tracker.ShuffleDeck()\n",
    "tracker.DealPlayersIn()\n",
    "print(f\"before swapping: {tracker.players}\")\n",
    "\n",
    "tracker.SwapPlayersCards(names[0], tracker.TrackedHand(names[0]))\n",
    "print(f\"after swapping: {tracker.players}\")"
   ]
  },
  {
   "cell_type": "markdown",
   "metadata": {},
   "source": [
    "## **Collecting Cards**"
   ]
  },
  {
   "cell_type": "markdown",
   "metadata": {},
   "source": [
    "The recommended way to collect cards from players is to use the ```HandTracker.CollectCards()``` method which clears ```HandTracker.players``` and prepares ```HandTracker.DECK``` for a new round."
   ]
  }
 ],
 "metadata": {
  "kernelspec": {
   "display_name": "Python 3.10.3 64-bit",
   "language": "python",
   "name": "python3"
  },
  "language_info": {
   "codemirror_mode": {
    "name": "ipython",
    "version": 3
   },
   "file_extension": ".py",
   "mimetype": "text/x-python",
   "name": "python",
   "nbconvert_exporter": "python",
   "pygments_lexer": "ipython3",
   "version": "3.10.3"
  },
  "orig_nbformat": 4,
  "vscode": {
   "interpreter": {
    "hash": "607db476e417971f05b607c2dd14e77ee8262c2c4c20dea422522c60605a222a"
   }
  }
 },
 "nbformat": 4,
 "nbformat_minor": 2
}
