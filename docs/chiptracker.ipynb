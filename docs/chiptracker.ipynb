{
 "cells": [
  {
   "cell_type": "markdown",
   "metadata": {},
   "source": [
    "# **The ChipTracker class**"
   ]
  },
  {
   "cell_type": "markdown",
   "metadata": {},
   "source": [
    "This notebook provides information about ```ChipTracker``` objects."
   ]
  },
  {
   "cell_type": "markdown",
   "metadata": {},
   "source": [
    "Run the following codeblocks to import the ```ChipTracker``` class into this notebook."
   ]
  },
  {
   "cell_type": "code",
   "execution_count": 1,
   "metadata": {},
   "outputs": [
    {
     "name": "stdout",
     "output_type": "stream",
     "text": [
      "Current Directory: c:\\Users\\Brad\\Documents\\Projects\\Python\\fivecarddraw\n"
     ]
    }
   ],
   "source": [
    "from os import chdir, getcwd\n",
    "\n",
    "if not getcwd().endswith(\"fivecarddraw\"):\n",
    "    chdir(\"..\")\n",
    "    \n",
    "print(f\"Current Directory: {getcwd()}\")"
   ]
  },
  {
   "cell_type": "code",
   "execution_count": 2,
   "metadata": {},
   "outputs": [],
   "source": [
    "from fivecarddraw import ChipTracker"
   ]
  },
  {
   "cell_type": "markdown",
   "metadata": {},
   "source": [
    "## **Initialisation**"
   ]
  },
  {
   "cell_type": "markdown",
   "metadata": {},
   "source": [
    "The ```ChipTracker``` class is designed to be mediated by ```Dealer``` objects, so is created by ```Dealer``` objects upon initialisation. More info can be found in the [dealer.ipynb](dealer.ipynb) notebook. Upon initialisation of the ```ChipTracker``` object:\n",
    "* It creates an attribute to track game parameters, such as the ante amount. This attribute is ```ChipTracker.gameinfo```.\n",
    "* It creates attribute to track the chipstacks and any contributions to the pot made by players. This attribute is ```ChipTracker.players```\n",
    "\n",
    "Both attributes store data as a ```dict``` to be fed elsewhere if required."
   ]
  },
  {
   "cell_type": "code",
   "execution_count": 3,
   "metadata": {},
   "outputs": [
    {
     "name": "stdout",
     "output_type": "stream",
     "text": [
      "Game info: {'ante': 0}\n",
      "Player info: {}\n"
     ]
    }
   ],
   "source": [
    "tracker = ChipTracker()\n",
    "print(f\"Game info: {tracker.gameinfo}\")\n",
    "print(f\"Player info: {tracker.players}\")"
   ]
  },
  {
   "cell_type": "markdown",
   "metadata": {},
   "source": [
    "## **Functionality**"
   ]
  },
  {
   "cell_type": "markdown",
   "metadata": {},
   "source": [
    "### **Assigning chips to players**"
   ]
  },
  {
   "cell_type": "markdown",
   "metadata": {},
   "source": [
    "The recommended way to assign chips to a player is using ```ChipTracker.AddChipsPlayer(name, amount)``` which correctly updates ```ChipTracker.players```."
   ]
  },
  {
   "cell_type": "code",
   "execution_count": 3,
   "metadata": {},
   "outputs": [
    {
     "name": "stdout",
     "output_type": "stream",
     "text": [
      "Player Chipstacks: {'Brad': 500}\n"
     ]
    }
   ],
   "source": [
    "player = \"Brad\"\n",
    "\n",
    "tracker = ChipTracker()\n",
    "tracker.AddChipsPlayer(player, 500)\n",
    "print(f\"Player Chipstacks: {tracker.ChipStacks()}\")"
   ]
  },
  {
   "cell_type": "markdown",
   "metadata": {},
   "source": [
    "```ChipTracker.WithdrawChipsPlayer(name)``` can be used to delete all information about a player."
   ]
  },
  {
   "cell_type": "code",
   "execution_count": 4,
   "metadata": {},
   "outputs": [
    {
     "name": "stdout",
     "output_type": "stream",
     "text": [
      "Player Chipstacks: {}\n"
     ]
    }
   ],
   "source": [
    "tracker.WithdrawChipsPlayer(player)\n",
    "print(f\"Player Chipstacks: {tracker.ChipStacks()}\")"
   ]
  },
  {
   "cell_type": "markdown",
   "metadata": {},
   "source": [
    "### **Contributing chips to the pot**"
   ]
  },
  {
   "cell_type": "markdown",
   "metadata": {},
   "source": [
    "The recommended way to contribute chips to a player is using ```ChipTracker.BetChipsPlayer(name, amount)``` which correctly updates ```ChipTracker.players``` to track both chipstacks and contributions."
   ]
  },
  {
   "cell_type": "code",
   "execution_count": 7,
   "metadata": {},
   "outputs": [
    {
     "name": "stdout",
     "output_type": "stream",
     "text": [
      "Player Chips before bet: {'Brad': {'stack': 500, 'contribution': 0}}\n",
      "Player Chips after bet: {'Brad': {'stack': 400, 'contribution': 100}}\n"
     ]
    }
   ],
   "source": [
    "player = \"Brad\"\n",
    "\n",
    "tracker = ChipTracker()\n",
    "tracker.AddChipsPlayer(player, 500)\n",
    "print(f\"Player Chips before bet: {tracker.players}\")\n",
    "tracker.BetChipsPlayer(player, 100)\n",
    "print(f\"Player Chips after bet: {tracker.players}\")"
   ]
  },
  {
   "cell_type": "markdown",
   "metadata": {},
   "source": [
    "To ensure a player has bet a legal amount, the ```ChipTracker.ApproveBet(name, amount)``` can be used. It asserts the ```amount``` is not larger than ```tracker.players[name]['stack']```."
   ]
  },
  {
   "cell_type": "code",
   "execution_count": 8,
   "metadata": {},
   "outputs": [
    {
     "name": "stdout",
     "output_type": "stream",
     "text": [
      "Player Chips before bet: {'Brad': {'stack': 500, 'contribution': 0}}\n",
      "Bet to approve: 700\n",
      "Approval: False\n"
     ]
    }
   ],
   "source": [
    "player = \"Brad\"\n",
    "bet = 700\n",
    "\n",
    "tracker = ChipTracker()\n",
    "tracker.AddChipsPlayer(player, 500)\n",
    "print(f\"Player Chips before bet: {tracker.players}\")\n",
    "print(f\"Bet to approve: {bet}\")\n",
    "print(f\"Approval: {tracker.ApproveBet(player, 700)}\")"
   ]
  },
  {
   "cell_type": "markdown",
   "metadata": {},
   "source": [
    "### **Rewarding chips from a pot**"
   ]
  },
  {
   "cell_type": "markdown",
   "metadata": {},
   "source": [
    "```ChipTracker.RewardChipsPlayer(name, amount)``` can be used to add an amount of chips to a player.\n",
    "\n",
    "**Warning:** ```ChipTracker.RewardChipsPlayer(name, amount)``` does not modify player contribution values, so it's recommended to clear contributions using ```ChipTracker.ClearPot()``` once all players have received their rewards."
   ]
  },
  {
   "cell_type": "code",
   "execution_count": 12,
   "metadata": {},
   "outputs": [
    {
     "name": "stdout",
     "output_type": "stream",
     "text": [
      "Player Chips before rewarding: {'Brad': {'stack': 400, 'contribution': 100}, 'Phil': {'stack': 400, 'contribution': 100}}\n",
      "Player Chips after rewarding, after pot is cleared: {'Brad': {'stack': 600, 'contribution': 0}, 'Phil': {'stack': 400, 'contribution': 0}}\n"
     ]
    }
   ],
   "source": [
    "player = \"Brad\"\n",
    "opponent = \"Phil\"\n",
    "\n",
    "tracker = ChipTracker()\n",
    "tracker.AddChipsPlayer(player, 500)\n",
    "tracker.AddChipsPlayer(opponent, 500)\n",
    "tracker.BetChipsPlayer(player, 100)\n",
    "tracker.BetChipsPlayer(opponent, 100)\n",
    "print(f\"Player Chips before rewarding: {tracker.players}\")\n",
    "tracker.RewardChipsPlayer(player, 200)\n",
    "tracker.ClearPot()\n",
    "print(f\"Player Chips after rewarding, after pot is cleared: {tracker.players}\")"
   ]
  },
  {
   "attachments": {},
   "cell_type": "markdown",
   "metadata": {},
   "source": [
    "The ```Dealer``` object is able to integrate data from the ```ChipTracker``` object with data from the ```HandTracker```, and ```ActionTracker``` objects into a ```dict``` containing ```player_info```, and use this to calculate rewards for players, taking into account:\n",
    "* player pot contributions (```player_info[Player.name][\"chips\"][\"contribution\"]```)\n",
    "* player action statuses (```player_info[Player.name][\"status\"][\"has_folded\"]```)\n",
    "* player hand ranks (```player_info[Player.name][\"hand\"][\"rank_n\"]```)\n",
    "\n",
    "Feeding this data into the ```ChipTracker.CalculateRewards(player_info)``` returns a ```dict``` of  ```rewards``` for each player. The ```ChipTracker.CalculateRewards(player_info)``` algorithm also handles split pots and side pot scenarios too. The algorithm for the ```ChipTracker.CalculateRewards(player_info)``` method works as follows:\n",
    "\n",
    "1. A reward priority is assigned to each player by filtering out players who have folded, and sorting players by hand rank, from best to worst.\n",
    "2. Players are grouped by hand ranks using ```itertools.groupby()``` which maintains order.\n",
    "3. Players in each group are sorted by pot contribution, from smallest to largest.\n",
    "4. For each player in the group, contributions are taken from other players, capped by the contribution of the player, and placed into a pot to split amongst the group, thus handling split pots. The player takes a share dependent on the amount of players in the group that have contributed the same or more than them, thus handling side pots too.\n",
    "\n",
    "An interactive example of this algorithm is not presented in this notebook, but it's presented in the [dealer.ipynb](dealer.ipynb) notebook instead, because of the dependence of it on data from other objects created by the ```Dealer``` object. Furthermore, for more information about player statuses and hand ranks check out the [actiontracker.ipynb](actiontracker.ipynb) and [handtracker.ipynb](handtracker.ipynb) notebooks. For more information about the ```Dealer.Payout()``` and ```Dealer.PlayerInfo()``` methods checkout the [dealer.ipynb](dealer.ipynb).\n",
    "\n"
   ]
  },
  {
   "cell_type": "markdown",
   "metadata": {},
   "source": [
    "### **Classifying transactions**"
   ]
  },
  {
   "cell_type": "markdown",
   "metadata": {},
   "source": [
    "The ```ChipTracker.BetStatus(name, amount)``` method can be used to check a players proposed bet against a minimum required bet to call, and intepret it as a proposed action. It returns a ```dict``` with the following keys, which are assigned a ```bool```:\n",
    "\n",
    "* ```has_raised``` indicates wether the player has proposed a raise.\n",
    "* ```has_allin``` indicates wether the player has propsed to go allin.\n",
    "* ```has_mincalled``` indicates wether the player has proposed to pay the minimum requrired to call.\n",
    "* ```has_folded``` indicates wether the player has proposed to fold.\n",
    "\n",
    "The minimum sized bet required to call can be calculated using ```ChipTracker.AmountToCall(name)```."
   ]
  },
  {
   "cell_type": "code",
   "execution_count": 11,
   "metadata": {},
   "outputs": [
    {
     "name": "stdout",
     "output_type": "stream",
     "text": [
      "Phil bet 200 chips.\n",
      "Brad needs to pay 200 chips to call.\n",
      "Brad wants to pay 300 chips.\n",
      "The bet status of Brad's proposed bet is: {'has_raised': True, 'has_allin': False, 'has_mincalled': True, 'has_folded': False}\n"
     ]
    }
   ],
   "source": [
    "player = \"Brad\"\n",
    "opponent = \"Phil\"\n",
    "response = 300\n",
    "\n",
    "tracker = ChipTracker()\n",
    "tracker.AddChipsPlayer(opponent, 500)\n",
    "tracker.AddChipsPlayer(player, 500)\n",
    "tracker.BetChipsPlayer(opponent, 200)\n",
    "print(f\"{opponent} bet 200 chips.\")\n",
    "print(f\"{player} needs to pay {tracker.AmountToCall(player)} chips to call.\")\n",
    "print(f\"{player} wants to pay {response} chips.\")\n",
    "print(f\"The bet status of {player}'s proposed bet is: {tracker.BetStatus(player, response)}\")"
   ]
  },
  {
   "cell_type": "markdown",
   "metadata": {},
   "source": [
    "### **Handling the Ante**"
   ]
  },
  {
   "cell_type": "markdown",
   "metadata": {},
   "source": [
    "The ante can be set using the ```Chiptracker.SetAnte()``` method, and it can be retrieved using the ```ChipTracker.GetAnte()``` method. The ante amount is stored in the ```Chiptracker.gameinfo[\"ante\"]``` attribute. The ante can also be compared to a players chips using the ```Chiptracker.CheckAnte(player)``` to indicate whether they can pay the ante or not."
   ]
  },
  {
   "cell_type": "code",
   "execution_count": 4,
   "metadata": {},
   "outputs": [
    {
     "name": "stdout",
     "output_type": "stream",
     "text": [
      "Ante before being set: 0\n",
      "Ante after being set: 50\n"
     ]
    }
   ],
   "source": [
    "tracker = ChipTracker()\n",
    "\n",
    "print(f\"Ante before being set: {tracker.GetAnte()}\")\n",
    "tracker.SetAnte(50)\n",
    "print(f\"Ante after being set: {tracker.GetAnte()}\")"
   ]
  },
  {
   "cell_type": "code",
   "execution_count": 5,
   "metadata": {},
   "outputs": [
    {
     "name": "stdout",
     "output_type": "stream",
     "text": [
      "Comparison of player to ante: {'bet_all': False, 'bet_something': True, 'bet_nothing': False}\n"
     ]
    }
   ],
   "source": [
    "name = \"Brad\"\n",
    "amount = 500\n",
    "\n",
    "tracker.AddChipsPlayer(name, amount)\n",
    "print(f\"Comparison of player to ante: {tracker.CheckAnte(name)}\")"
   ]
  },
  {
   "cell_type": "markdown",
   "metadata": {},
   "source": [
    "## **Additional Convenience Methods**"
   ]
  },
  {
   "cell_type": "markdown",
   "metadata": {},
   "source": [
    "```ChipTracker``` objects have the following additional convenience methods:\n",
    "* ```SeatTracker.PotTotal()``` - returns the sum of all contributions to the pot.\n",
    "* ```SeatTracker.ChipStacks()``` - returns player chipstacks."
   ]
  },
  {
   "cell_type": "code",
   "execution_count": 13,
   "metadata": {},
   "outputs": [
    {
     "name": "stdout",
     "output_type": "stream",
     "text": [
      "Player stacks: {'Phil': 300, 'Brad': 300}\n",
      "Amount in the pot: 400\n"
     ]
    }
   ],
   "source": [
    "player = \"Brad\"\n",
    "opponent = \"Phil\"\n",
    "\n",
    "tracker = ChipTracker()\n",
    "tracker.AddChipsPlayer(opponent, 500)\n",
    "tracker.AddChipsPlayer(player, 500)\n",
    "tracker.BetChipsPlayer(opponent, 200)\n",
    "tracker.BetChipsPlayer(player, 200)\n",
    "print(f\"Player stacks: {tracker.ChipStacks()}\")\n",
    "print(f\"Amount in the pot: {tracker.PotTotal()}\")\n"
   ]
  }
 ],
 "metadata": {
  "kernelspec": {
   "display_name": "Python 3.10.3 64-bit",
   "language": "python",
   "name": "python3"
  },
  "language_info": {
   "codemirror_mode": {
    "name": "ipython",
    "version": 3
   },
   "file_extension": ".py",
   "mimetype": "text/x-python",
   "name": "python",
   "nbconvert_exporter": "python",
   "pygments_lexer": "ipython3",
   "version": "3.10.3 (tags/v3.10.3:a342a49, Mar 16 2022, 13:07:40) [MSC v.1929 64 bit (AMD64)]"
  },
  "orig_nbformat": 4,
  "vscode": {
   "interpreter": {
    "hash": "607db476e417971f05b607c2dd14e77ee8262c2c4c20dea422522c60605a222a"
   }
  }
 },
 "nbformat": 4,
 "nbformat_minor": 2
}
