{
 "cells": [
  {
   "cell_type": "markdown",
   "metadata": {},
   "source": [
    "# **The Deck class**"
   ]
  },
  {
   "cell_type": "markdown",
   "metadata": {},
   "source": [
    "This notebook provides some documentation about ```Deck``` objects."
   ]
  },
  {
   "cell_type": "markdown",
   "metadata": {},
   "source": [
    "Run the following codeblocks to import the ```Deck``` class into this notebook."
   ]
  },
  {
   "cell_type": "code",
   "execution_count": 1,
   "metadata": {},
   "outputs": [
    {
     "name": "stdout",
     "output_type": "stream",
     "text": [
      "Current Directory: d:\\My Projects\\Programming\\Game-Development\\fivecarddraw\n"
     ]
    }
   ],
   "source": [
    "from os import chdir, getcwd\n",
    "\n",
    "if not getcwd().endswith(\"fivecarddraw\"):\n",
    "    chdir(\"..\")\n",
    "    \n",
    "print(f\"Current Directory: {getcwd()}\")"
   ]
  },
  {
   "cell_type": "code",
   "execution_count": 2,
   "metadata": {},
   "outputs": [],
   "source": [
    "from fivecarddraw import Deck"
   ]
  },
  {
   "cell_type": "markdown",
   "metadata": {},
   "source": [
    "## **Initialization**"
   ]
  },
  {
   "cell_type": "markdown",
   "metadata": {},
   "source": [
    "```Deck``` objects create all 52 possible ```Card``` objects upon initialisation."
   ]
  },
  {
   "cell_type": "code",
   "execution_count": 3,
   "metadata": {},
   "outputs": [
    {
     "name": "stdout",
     "output_type": "stream",
     "text": [
      "Full Deck: [2♠, 2♡, 2♢, 2♣, 3♠, 3♡, 3♢, 3♣, 4♠, 4♡, 4♢, 4♣, 5♠, 5♡, 5♢, 5♣, 6♠, 6♡, 6♢, 6♣, 7♠, 7♡, 7♢, 7♣, 8♠, 8♡, 8♢, 8♣, 9♠, 9♡, 9♢, 9♣, 10♠, 10♡, 10♢, 10♣, J♠, J♡, J♢, J♣, Q♠, Q♡, Q♢, Q♣, K♠, K♡, K♢, K♣, A♠, A♡, A♢, A♣]\n"
     ]
    }
   ],
   "source": [
    "deck = Deck()\n",
    "print(f\"Full Deck: {deck}\")\n"
   ]
  },
  {
   "cell_type": "markdown",
   "metadata": {},
   "source": [
    "## **Deck State**"
   ]
  },
  {
   "cell_type": "markdown",
   "metadata": {},
   "source": [
    "```Deck``` objects always contain 52 ```Card``` objects. The state of a deck is indicated by the following two attributes:\n",
    "\n",
    "* ```Deck.state``` is a ```list``` of the 52 ```Card``` objects, providing an order.\n",
    "* ```Deck.t``` is an ```int``` that gives the index of the ```Card``` object analagous to the top card of a deck.\n",
    "\n",
    "These two attributes govern the representation of the deck. ```Deck``` objects also have two methods for viewing the decks state:\n",
    "\n",
    "* ```Deck.RemainingCards()``` returns ```list``` of all cards in ```Deck.state``` with index greater or equal to ```deck.t```.\n",
    "* ```Deck.DepartedCards()``` returns ```list``` of all cards in ```Deck.state``` with index less than ```deck.t```.\n",
    "\n",
    "To get the amount of remaining cards, ```len(Deck)``` can be used."
   ]
  },
  {
   "cell_type": "code",
   "execution_count": 5,
   "metadata": {},
   "outputs": [
    {
     "name": "stdout",
     "output_type": "stream",
     "text": [
      "Departed cards: []\n",
      "Remaining cards: [2♠, 2♡, 2♢, 2♣, 3♠, 3♡, 3♢, 3♣, 4♠, 4♡, 4♢, 4♣, 5♠, 5♡, 5♢, 5♣, 6♠, 6♡, 6♢, 6♣, 7♠, 7♡, 7♢, 7♣, 8♠, 8♡, 8♢, 8♣, 9♠, 9♡, 9♢, 9♣, 10♠, 10♡, 10♢, 10♣, J♠, J♡, J♢, J♣, Q♠, Q♡, Q♢, Q♣, K♠, K♡, K♢, K♣, A♠, A♡, A♢, A♣]\n"
     ]
    }
   ],
   "source": [
    "deck = Deck()\n",
    "print(f\"Departed cards: {deck.DepartedCards()}\")\n",
    "print(f\"Remaining cards: {deck.RemainingCards()}\")"
   ]
  },
  {
   "cell_type": "markdown",
   "metadata": {},
   "source": [
    "### **Dealing**"
   ]
  },
  {
   "cell_type": "markdown",
   "metadata": {},
   "source": [
    "```Deck``` objects behave as iterators, having ```Deck.__iter__``` and ```Deck.__next__``` magic methods. The act of taking the top card from a deck is done using ```next(Deck)```. This essentially returns the ```Card``` object at ```Deck.state[Deck.t]``` if possible, and then increments ```Deck.t``` by one."
   ]
  },
  {
   "cell_type": "code",
   "execution_count": 6,
   "metadata": {},
   "outputs": [],
   "source": [
    "def dealCards(deck, n):\n",
    "    for _ in range(n):\n",
    "        next(deck)"
   ]
  },
  {
   "cell_type": "code",
   "execution_count": 7,
   "metadata": {},
   "outputs": [
    {
     "name": "stdout",
     "output_type": "stream",
     "text": [
      "Departed cards: [2♠, 2♡, 2♢, 2♣, 3♠]\n",
      "Remaining cards: [3♡, 3♢, 3♣, 4♠, 4♡, 4♢, 4♣, 5♠, 5♡, 5♢, 5♣, 6♠, 6♡, 6♢, 6♣, 7♠, 7♡, 7♢, 7♣, 8♠, 8♡, 8♢, 8♣, 9♠, 9♡, 9♢, 9♣, 10♠, 10♡, 10♢, 10♣, J♠, J♡, J♢, J♣, Q♠, Q♡, Q♢, Q♣, K♠, K♡, K♢, K♣, A♠, A♡, A♢, A♣]\n"
     ]
    }
   ],
   "source": [
    "deck = Deck()\n",
    "dealCards(deck, 5)\n",
    "print(f\"Departed cards: {deck.DepartedCards()}\")\n",
    "print(f\"Remaining cards: {deck.RemainingCards()}\")"
   ]
  },
  {
   "cell_type": "markdown",
   "metadata": {},
   "source": [
    "This is the way that ```HandTracker``` objects deal cards. For more information see the [handtracker.ipynb](handtracker.ipynb) notebook.\n"
   ]
  },
  {
   "cell_type": "markdown",
   "metadata": {},
   "source": [
    "### **Shuffling**"
   ]
  },
  {
   "cell_type": "markdown",
   "metadata": {},
   "source": [
    "The ```Deck.shuffle()``` method is for shuffling the ```Deck``` object."
   ]
  },
  {
   "cell_type": "code",
   "execution_count": 8,
   "metadata": {},
   "outputs": [
    {
     "name": "stdout",
     "output_type": "stream",
     "text": [
      "Shuffled deck: [6♡, 5♠, Q♠, A♡, 6♣, 5♢, J♠, 4♠, Q♢, 9♡, A♢, 10♢, 2♡, 2♣, 3♣, 3♠, A♣, 4♣, 7♠, K♡, 9♢, 9♣, K♢, 9♠, J♢, 8♢, Q♣, 7♢, 4♡, 7♣, 8♡, 7♡, 2♢, 8♠, 4♢, 10♣, J♡, Q♡, 10♠, K♣, 6♢, K♠, 3♢, 5♡, 10♡, 3♡, 5♣, 8♣, 2♠, 6♠, A♠, J♣]\n"
     ]
    }
   ],
   "source": [
    "deck = Deck()\n",
    "deck.Shuffle()\n",
    "print(f\"Shuffled deck: {deck}\")"
   ]
  },
  {
   "cell_type": "markdown",
   "metadata": {},
   "source": [
    "The ```Deck.shuffle()``` method only shuffles the remaining cards in the deck."
   ]
  },
  {
   "cell_type": "code",
   "execution_count": 9,
   "metadata": {},
   "outputs": [],
   "source": [
    "def dealCards(deck, n):\n",
    "    for _ in range(n):\n",
    "        next(deck)"
   ]
  },
  {
   "cell_type": "code",
   "execution_count": 12,
   "metadata": {},
   "outputs": [
    {
     "name": "stdout",
     "output_type": "stream",
     "text": [
      "Departed cards before shuffling: [2♠, 2♡, 2♢, 2♣, 3♠]\n",
      "Remaining cards before shuffling: [3♡, 3♢, 3♣, 4♠, 4♡, 4♢, 4♣, 5♠, 5♡, 5♢, 5♣, 6♠, 6♡, 6♢, 6♣, 7♠, 7♡, 7♢, 7♣, 8♠, 8♡, 8♢, 8♣, 9♠, 9♡, 9♢, 9♣, 10♠, 10♡, 10♢, 10♣, J♠, J♡, J♢, J♣, Q♠, Q♡, Q♢, Q♣, K♠, K♡, K♢, K♣, A♠, A♡, A♢, A♣]\n",
      "\n",
      "Departed cards after shuffling: [2♠, 2♡, 2♢, 2♣, 3♠]\n",
      "Remaining cards after shuffling: [8♡, A♣, 4♣, K♠, 10♣, K♣, 6♡, 10♠, 8♢, 9♠, J♠, 8♣, A♢, J♢, 4♡, 8♠, K♡, 7♠, 5♣, 4♢, J♣, Q♡, 6♢, A♡, 7♣, 4♠, 3♡, 5♢, 10♢, J♡, 5♡, 3♣, 5♠, A♠, Q♢, 3♢, 7♡, Q♣, 10♡, 6♣, 9♣, 6♠, 7♢, Q♠, K♢, 9♡, 9♢]\n"
     ]
    }
   ],
   "source": [
    "deck = Deck()\n",
    "dealCards(deck, 5)\n",
    "print(f\"Departed cards before shuffling: {deck.DepartedCards()}\")\n",
    "print(f\"Remaining cards before shuffling: {deck.RemainingCards()}\\n\")\n",
    "deck.Shuffle()\n",
    "print(f\"Departed cards after shuffling: {deck.DepartedCards()}\")\n",
    "print(f\"Remaining cards after shuffling: {deck.RemainingCards()}\")"
   ]
  },
  {
   "cell_type": "markdown",
   "metadata": {},
   "source": [
    "### **Collecting**"
   ]
  },
  {
   "cell_type": "markdown",
   "metadata": {},
   "source": [
    "The ```Deck.CollectCards()``` method is for resetting ```Deck.t```. It has no side affect on ```Deck.state```."
   ]
  },
  {
   "cell_type": "code",
   "execution_count": 13,
   "metadata": {},
   "outputs": [],
   "source": [
    "def dealCards(deck, n):\n",
    "    for _ in range(n):\n",
    "        next(deck)"
   ]
  },
  {
   "cell_type": "code",
   "execution_count": 15,
   "metadata": {},
   "outputs": [
    {
     "name": "stdout",
     "output_type": "stream",
     "text": [
      "Departed cards before collecting: [2♠, 2♡, 2♢, 2♣, 3♠]\n",
      "Remaining cards before collecting: [3♡, 3♢, 3♣, 4♠, 4♡, 4♢, 4♣, 5♠, 5♡, 5♢, 5♣, 6♠, 6♡, 6♢, 6♣, 7♠, 7♡, 7♢, 7♣, 8♠, 8♡, 8♢, 8♣, 9♠, 9♡, 9♢, 9♣, 10♠, 10♡, 10♢, 10♣, J♠, J♡, J♢, J♣, Q♠, Q♡, Q♢, Q♣, K♠, K♡, K♢, K♣, A♠, A♡, A♢, A♣]\n",
      "\n",
      "Departed cards after collecting: []\n",
      "Remaining cards after collecting: [2♠, 2♡, 2♢, 2♣, 3♠, 3♡, 3♢, 3♣, 4♠, 4♡, 4♢, 4♣, 5♠, 5♡, 5♢, 5♣, 6♠, 6♡, 6♢, 6♣, 7♠, 7♡, 7♢, 7♣, 8♠, 8♡, 8♢, 8♣, 9♠, 9♡, 9♢, 9♣, 10♠, 10♡, 10♢, 10♣, J♠, J♡, J♢, J♣, Q♠, Q♡, Q♢, Q♣, K♠, K♡, K♢, K♣, A♠, A♡, A♢, A♣]\n"
     ]
    }
   ],
   "source": [
    "deck = Deck()\n",
    "dealCards(deck, 5)\n",
    "print(f\"Departed cards before collecting: {deck.DepartedCards()}\")\n",
    "print(f\"Remaining cards before collecting: {deck.RemainingCards()}\\n\")\n",
    "deck.CollectCards()\n",
    "print(f\"Departed cards after collecting: {deck.DepartedCards()}\")\n",
    "print(f\"Remaining cards after collecting: {deck.RemainingCards()}\")"
   ]
  },
  {
   "cell_type": "markdown",
   "metadata": {},
   "source": [
    "This is the way that ```HandTracker``` objects collects cards. For more information see the [handtracker.ipynb](handtracker.ipynb) notebook."
   ]
  }
 ],
 "metadata": {
  "kernelspec": {
   "display_name": "Python 3.10.3 64-bit",
   "language": "python",
   "name": "python3"
  },
  "language_info": {
   "codemirror_mode": {
    "name": "ipython",
    "version": 3
   },
   "file_extension": ".py",
   "mimetype": "text/x-python",
   "name": "python",
   "nbconvert_exporter": "python",
   "pygments_lexer": "ipython3",
   "version": "3.10.3 (tags/v3.10.3:a342a49, Mar 16 2022, 13:07:40) [MSC v.1929 64 bit (AMD64)]"
  },
  "orig_nbformat": 4,
  "vscode": {
   "interpreter": {
    "hash": "607db476e417971f05b607c2dd14e77ee8262c2c4c20dea422522c60605a222a"
   }
  }
 },
 "nbformat": 4,
 "nbformat_minor": 2
}
