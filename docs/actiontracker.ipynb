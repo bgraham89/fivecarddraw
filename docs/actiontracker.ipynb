{
 "cells": [
  {
   "cell_type": "markdown",
   "metadata": {},
   "source": [
    "# **The ActionTracker class**"
   ]
  },
  {
   "cell_type": "markdown",
   "metadata": {},
   "source": [
    "This notebook provides information about ```ActionTracker``` objects."
   ]
  },
  {
   "cell_type": "markdown",
   "metadata": {},
   "source": [
    "Run the following codeblocks to import the ```ActionTracker``` class into this notebook."
   ]
  },
  {
   "cell_type": "code",
   "execution_count": 2,
   "metadata": {},
   "outputs": [
    {
     "name": "stdout",
     "output_type": "stream",
     "text": [
      "Current Directory: c:\\Users\\Brad\\Documents\\Projects\\Python\\fivecarddraw\n"
     ]
    }
   ],
   "source": [
    "from os import chdir, getcwd\n",
    "\n",
    "if not getcwd().endswith(\"fivecarddraw\"):\n",
    "    chdir(\"..\")\n",
    "    \n",
    "print(f\"Current Directory: {getcwd()}\")"
   ]
  },
  {
   "cell_type": "code",
   "execution_count": 3,
   "metadata": {},
   "outputs": [],
   "source": [
    "from fivecarddraw import ActionTracker"
   ]
  },
  {
   "cell_type": "markdown",
   "metadata": {},
   "source": [
    "## **Initialisation**"
   ]
  },
  {
   "cell_type": "markdown",
   "metadata": {},
   "source": [
    "The ```ActionTracker``` object is designed to be responsible for tracking player statuses for a ```Dealer``` object.\n",
    "\n",
    "* The ```ActionTracker.players``` attribute stores information about the actions that players have made.\n",
    "* The ```ActionTracker.beings``` attribute stores whether players are human-controlled or ai-controlled. "
   ]
  },
  {
   "cell_type": "code",
   "execution_count": 5,
   "metadata": {},
   "outputs": [
    {
     "name": "stdout",
     "output_type": "stream",
     "text": [
      "Beings: {'humans': [], 'bots': []}\n",
      "Actions: {}\n"
     ]
    }
   ],
   "source": [
    "tracker = ActionTracker()\n",
    "print(f\"Beings: {tracker.beings}\")\n",
    "print(f\"Actions: {tracker.players}\")"
   ]
  },
  {
   "cell_type": "markdown",
   "metadata": {},
   "source": [
    "## **Configuration**"
   ]
  },
  {
   "cell_type": "markdown",
   "metadata": {},
   "source": [
    "The ```ActionTracker.AddHumans()``` and ```ActionTracker.AddBots()``` methods are used to begin tracking players. The ```Dealer.InitializeTable()``` method performs this configuration during the ```PlayGame.Configuration()``` or ```SpectateGame.Configuration()``` phase of the five card draw game loop. Once the game loops have started, the ```ActionTracker.KickBots()``` method is used to kick bots from the game. Currently, humans cannot be kicked from a game, as the game is single player only. For more information about the ```Dealer```, ```PlayGame``` and ```SpectateGame``` objects see the [dealer.ipynb](dealer.ipynb) and [game.ipynb](game.ipynb) notebooks."
   ]
  },
  {
   "cell_type": "code",
   "execution_count": 9,
   "metadata": {},
   "outputs": [
    {
     "name": "stdout",
     "output_type": "stream",
     "text": [
      "Beings: {'humans': ['Brad'], 'bots': ['C3PO', 'R2D2']}\n",
      "\n",
      "R2D2 has been kicked.\n",
      "Beings: {'humans': ['Brad'], 'bots': ['C3PO']}\n"
     ]
    }
   ],
   "source": [
    "humans, bots = [\"Brad\"], [\"C3PO\", \"R2D2\"]\n",
    "tracker = ActionTracker()\n",
    "tracker.AddHumans(humans)\n",
    "tracker.AddBots(bots)\n",
    "print(f\"Beings: {tracker.beings}\\n\")\n",
    "\n",
    "bad_bot = bots[-1] \n",
    "tracker.KickBot(bad_bot)\n",
    "print(f\"{bad_bot} has been kicked.\")\n",
    "print(f\"Beings: {tracker.beings}\")"
   ]
  },
  {
   "cell_type": "markdown",
   "metadata": {},
   "source": [
    "## **Functionality**"
   ]
  },
  {
   "cell_type": "markdown",
   "metadata": {},
   "source": [
    "### **Controlling game flow**"
   ]
  },
  {
   "cell_type": "markdown",
   "metadata": {},
   "source": [
    "The ```ActionTracker.NewRound()``` method initialises a round of five card draw, by assigning attributes to each player in the ```ActionTracker.players``` attribute, which default to ```False```."
   ]
  },
  {
   "cell_type": "code",
   "execution_count": 11,
   "metadata": {},
   "outputs": [
    {
     "name": "stdout",
     "output_type": "stream",
     "text": [
      "player actions: {'Brad': {'has_allin': False, 'has_mincalled': False, 'has_folded': False}, 'C3PO': {'has_allin': False, 'has_mincalled': False, 'has_folded': False}, 'R2D2': {'has_allin': False, 'has_mincalled': False, 'has_folded': False}}\n"
     ]
    }
   ],
   "source": [
    "humans, bots = [\"Brad\"], [\"C3PO\", \"R2D2\"]\n",
    "tracker = ActionTracker()\n",
    "tracker.AddHumans(humans)\n",
    "tracker.AddBots(bots)\n",
    "tracker.NewRound(humans + bots)\n",
    "print(f\"player actions: {tracker.players}\")"
   ]
  },
  {
   "cell_type": "markdown",
   "metadata": {},
   "source": [
    "The ```ActionTracker.ExtendRound()``` method is for prolonging ```PlayGame.BettingPhase()``` when players make raises. This is done by setting the ```min_called``` status of all players to ```False```.  Other convenience methods for updating the statuses of players include:\n",
    "\n",
    "* ```ActionTracker.SetAllIn()```\n",
    "* ```ActionTracker.SetMinCalled()```\n",
    "* ```ActionTracker.SetFolded()```\n",
    "\n",
    "The ```ActionTracker.ActingPlayers()``` method can be used to verify whether a phase can be skipped due to not needing further player actions. It returns a a ```list``` of all players who have not folded or gone all-in."
   ]
  },
  {
   "cell_type": "code",
   "execution_count": 15,
   "metadata": {},
   "outputs": [
    {
     "name": "stdout",
     "output_type": "stream",
     "text": [
      "players needing to act: ['Brad', 'C3PO', 'R2D2']\n"
     ]
    }
   ],
   "source": [
    "humans, bots = [\"Brad\"], [\"C3PO\", \"R2D2\"]\n",
    "tracker = ActionTracker()\n",
    "tracker.AddHumans(humans)\n",
    "tracker.AddBots(bots)\n",
    "tracker.NewRound(humans+bots)\n",
    "\n",
    "print(f\"players needing to act: {tracker.ActingPlayers(humans+bots)}\")"
   ]
  },
  {
   "cell_type": "markdown",
   "metadata": {},
   "source": [
    "### **Controlling reward potential**"
   ]
  },
  {
   "cell_type": "markdown",
   "metadata": {},
   "source": [
    "The ```ActionTracker.ShowdownPlayers()``` method can be used to verify whether a player has the potential to be paid a reward. It returns a a ```list``` of all players who have not folded."
   ]
  },
  {
   "cell_type": "code",
   "execution_count": 16,
   "metadata": {},
   "outputs": [
    {
     "name": "stdout",
     "output_type": "stream",
     "text": [
      "players who might win: ['Brad', 'C3PO', 'R2D2']\n"
     ]
    }
   ],
   "source": [
    "humans, bots = [\"Brad\"], [\"C3PO\", \"R2D2\"]\n",
    "tracker = ActionTracker()\n",
    "tracker.AddHumans(humans)\n",
    "tracker.AddBots(bots)\n",
    "tracker.NewRound(humans+bots)\n",
    "\n",
    "print(f\"players who might win: {tracker.ShowdownPlayers(humans+bots)}\")"
   ]
  },
  {
   "cell_type": "markdown",
   "metadata": {},
   "source": [
    "### **Player Interfacing**"
   ]
  },
  {
   "cell_type": "markdown",
   "metadata": {},
   "source": [
    "The ```ActionTracker.SelectAmount()``` method behaves differently depending on who needs to act:\n",
    "\n",
    "* It provides humans with game state info, and allows them to input a value corresponding to a bet amount.\n",
    "* It doesn't provide bots with anything, their selection is hardcoded into this method using ```random.choice()```. \n",
    "\n",
    "The ```ActionTracker.SelectDiscards()``` method behaves in a similar way. Players input a binary string corresponding to cards in their deck, while bots randomly choose cards. Both methods are not asynchronous, and until they are, the ai is limited to being hardcoded into these methods. AI personality may be added before asynchronous decision making. Personality would be added by altering the choices a bot can make based on their personality. This is not implemented at the moment yet.\n",
    "\n",
    "Lastly, its the job of the ```Dealer``` objects to approve the selections made, and to provide these methods with data for the player. More information can be found in [dealer.ipynb](dealer.ipynb)."
   ]
  }
 ],
 "metadata": {
  "kernelspec": {
   "display_name": "Python 3.10.3 64-bit",
   "language": "python",
   "name": "python3"
  },
  "language_info": {
   "codemirror_mode": {
    "name": "ipython",
    "version": 3
   },
   "file_extension": ".py",
   "mimetype": "text/x-python",
   "name": "python",
   "nbconvert_exporter": "python",
   "pygments_lexer": "ipython3",
   "version": "3.10.3 (tags/v3.10.3:a342a49, Mar 16 2022, 13:07:40) [MSC v.1929 64 bit (AMD64)]"
  },
  "orig_nbformat": 4,
  "vscode": {
   "interpreter": {
    "hash": "607db476e417971f05b607c2dd14e77ee8262c2c4c20dea422522c60605a222a"
   }
  }
 },
 "nbformat": 4,
 "nbformat_minor": 2
}
