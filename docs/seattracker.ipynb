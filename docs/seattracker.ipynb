{
 "cells": [
  {
   "cell_type": "markdown",
   "metadata": {},
   "source": [
    "# **The SeatTracker class**"
   ]
  },
  {
   "cell_type": "markdown",
   "metadata": {},
   "source": [
    "This notebook provides information about ```SeatTracker``` objects."
   ]
  },
  {
   "cell_type": "markdown",
   "metadata": {},
   "source": [
    "Run the following codeblocks to import the ```SeatTracker``` class into this notebook."
   ]
  },
  {
   "cell_type": "code",
   "execution_count": 1,
   "metadata": {},
   "outputs": [
    {
     "name": "stdout",
     "output_type": "stream",
     "text": [
      "Current Directory: c:\\Users\\Brad\\Documents\\Projects\\Python\\fivecarddraw\n"
     ]
    }
   ],
   "source": [
    "from os import chdir, getcwd\n",
    "\n",
    "if not getcwd().endswith(\"fivecarddraw\"):\n",
    "    chdir(\"..\")\n",
    "    \n",
    "print(f\"Current Directory: {getcwd()}\")"
   ]
  },
  {
   "cell_type": "code",
   "execution_count": 2,
   "metadata": {},
   "outputs": [],
   "source": [
    "from fivecarddraw import SeatTracker"
   ]
  },
  {
   "cell_type": "markdown",
   "metadata": {},
   "source": [
    "## **Initialisation**"
   ]
  },
  {
   "cell_type": "markdown",
   "metadata": {},
   "source": [
    "The ```SeatTracker``` class is designed to deal with seating dynamics, and is one of the trackers mediated by the ```Dealer``` class. Upon initialisation:\n",
    "* It takes one parameter which is the amount of seats to track.\n",
    "* It creates a ```list``` with indices corresponding to seats, and values corresponding to seated players, in the attribute ```SeatTracker.seats```.\n",
    "* It creates a ```dict``` with keys corresponding to tracked players, in the attribute ```SeatTracker.players```.\n",
    "* It creates another ```dict``` which stores which seat has the button, big blind and small blind, in the attribute ```SeatTracker.button```.\n",
    "\n",
    "For more information about ```Dealer``` objects see the [dealer.ipynb](dealer.ipynb) notebook."
   ]
  },
  {
   "cell_type": "code",
   "execution_count": 5,
   "metadata": {},
   "outputs": [
    {
     "name": "stdout",
     "output_type": "stream",
     "text": [
      "seats: ['', '', '', '', '']\n",
      "\n",
      "players: {}\n",
      "\n",
      "button: {'seat': -1, 'player': ''}\n"
     ]
    }
   ],
   "source": [
    "tracker = SeatTracker(5)\n",
    "print(f\"seats: {tracker.seats}\\n\")\n",
    "print(f\"players: {tracker.players}\\n\")\n",
    "print(f\"button: {tracker.button}\")"
   ]
  },
  {
   "cell_type": "markdown",
   "metadata": {},
   "source": [
    "## **Seating Players**"
   ]
  },
  {
   "cell_type": "markdown",
   "metadata": {},
   "source": [
    "The recommnded way to control player seating is using the ```SeatTracker.SeatPlayers()``` and ```SeatTracker.KickPlayers(names)``` methods. Before players can be seated, they must first be being tracked by the ```SeatTracker```. This is done using the ```SeatTracker.TrackPlayers(names)``` method which updates the ```SeatTracker.players``` attribute. Similarly, the ```SeatTracker.UntrackPlayers(names)``` method can be used to stop tracking players. "
   ]
  },
  {
   "cell_type": "code",
   "execution_count": 6,
   "metadata": {},
   "outputs": [
    {
     "name": "stdout",
     "output_type": "stream",
     "text": [
      "Tracked players: ['Brad']\n"
     ]
    }
   ],
   "source": [
    "tracker = SeatTracker(5)\n",
    "names = [\"Brad\"]\n",
    "\n",
    "tracker.TrackPlayers(names)\n",
    "print(f\"Tracked players: {tracker.TrackedPlayers()}\")"
   ]
  },
  {
   "cell_type": "markdown",
   "metadata": {},
   "source": [
    "The ```SeatTracker.seats``` attribute tracks whether a seat is occupied or not, and can be updated using the ```SeatTracker.OccupySeat(name, seat)``` and ```SeatTracker.EmptySeat(seat)``` methods."
   ]
  },
  {
   "cell_type": "code",
   "execution_count": 7,
   "metadata": {},
   "outputs": [
    {
     "name": "stdout",
     "output_type": "stream",
     "text": [
      "All seats: ['', 'Brad', '', '', '']\n",
      "Occupied seats: [1]\n",
      "Empty seats: [0, 2, 3, 4]\n"
     ]
    }
   ],
   "source": [
    "tracker = SeatTracker(5)\n",
    "name = \"Brad\"\n",
    "seat = 1\n",
    "\n",
    "tracker.OccupySeat(name, seat)\n",
    "print(f\"All seats: {tracker.seats}\")\n",
    "print(f\"Occupied seats: {tracker.OccupiedSeats()}\")\n",
    "print(f\"Empty seats: {tracker.AvailableSeats()}\")"
   ]
  },
  {
   "cell_type": "markdown",
   "metadata": {},
   "source": [
    "When players are being tracked, the ```SeatTracker.SeatPlayers()``` method assigns seats to those players, updating both the ```SeatTracker.seats``` and ```SeatTracker.players``` attributes. The converse method is ```SeatTacker.KickPlayers(names)``` which required a ```names``` parameter to specify the players to be unseated and untracked."
   ]
  },
  {
   "cell_type": "code",
   "execution_count": 8,
   "metadata": {},
   "outputs": [
    {
     "name": "stdout",
     "output_type": "stream",
     "text": [
      "All seats: ['', '', '', '', 'Brad']\n",
      "Player info: {'Brad': 4}\n"
     ]
    }
   ],
   "source": [
    "tracker = SeatTracker(5)\n",
    "names = [\"Brad\"]\n",
    "\n",
    "tracker.TrackPlayers(names)\n",
    "tracker.SeatPlayers()\n",
    "print(f\"All seats: {tracker.seats}\")\n",
    "print(f\"Player info: {tracker.players}\")"
   ]
  },
  {
   "cell_type": "markdown",
   "metadata": {},
   "source": [
    "## **Button Tracking**"
   ]
  },
  {
   "cell_type": "markdown",
   "metadata": {},
   "source": [
    "```SeatTracker``` objects have the following attributes for tracking a button:\n",
    "* ```SeatTracker.button``` which is a ```dict``` that contains information about the button, including:\n",
    "    * ```SeatTracker.button[\"seat\"]``` which is an ```int``` corresponding to a seat.\n",
    "    * ```SeatTracker.button[\"player\"]``` which is a ```string``` specifying an occupants name (otherwise empty).\n",
    "\n",
    "The intended way to move the button is to use the ```SeatTracker.Move()``` method, which moves the button to the next player determined by seat indices, if possible. Otherwise the button is moved to the next empty seat."
   ]
  },
  {
   "cell_type": "code",
   "execution_count": 3,
   "metadata": {},
   "outputs": [
    {
     "name": "stdout",
     "output_type": "stream",
     "text": [
      "All seats: ['Brad', '', '', 'Gus', 'Phil']\n"
     ]
    }
   ],
   "source": [
    "tracker = SeatTracker(5)\n",
    "names = [\"Brad\", \"Phil\", \"Gus\"]\n",
    "tracker.TrackPlayers(names)\n",
    "tracker.SeatPlayers()\n",
    "print(f\"All seats: {tracker.seats}\")"
   ]
  },
  {
   "cell_type": "code",
   "execution_count": 6,
   "metadata": {},
   "outputs": [
    {
     "name": "stdout",
     "output_type": "stream",
     "text": [
      "Button seat: 4\n",
      "Button player: Phil\n",
      "Seats in index order: ['Brad', '', '', 'Gus', 'Phil']\n",
      "Players in dealing order: ['Brad', 'Gus', 'Phil']\n"
     ]
    }
   ],
   "source": [
    "tracker.MoveButton()\n",
    "print(f\"Button seat: {tracker.button['seat']}\")\n",
    "print(f\"Button player: {tracker.button['player']}\")\n",
    "print(f\"Seats in index order: {tracker.seats}\")\n",
    "print(f\"Players in dealing order: {list(tracker)}\")"
   ]
  }
 ],
 "metadata": {
  "kernelspec": {
   "display_name": "Python 3.10.3 64-bit",
   "language": "python",
   "name": "python3"
  },
  "language_info": {
   "codemirror_mode": {
    "name": "ipython",
    "version": 3
   },
   "file_extension": ".py",
   "mimetype": "text/x-python",
   "name": "python",
   "nbconvert_exporter": "python",
   "pygments_lexer": "ipython3",
   "version": "3.10.3 (tags/v3.10.3:a342a49, Mar 16 2022, 13:07:40) [MSC v.1929 64 bit (AMD64)]"
  },
  "orig_nbformat": 4,
  "vscode": {
   "interpreter": {
    "hash": "607db476e417971f05b607c2dd14e77ee8262c2c4c20dea422522c60605a222a"
   }
  }
 },
 "nbformat": 4,
 "nbformat_minor": 2
}
