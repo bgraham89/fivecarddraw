{
 "cells": [
  {
   "cell_type": "markdown",
   "metadata": {},
   "source": [
    "# **The Card class**"
   ]
  },
  {
   "cell_type": "markdown",
   "metadata": {},
   "source": [
    "This notebook provides some documentation about ```Card``` objects."
   ]
  },
  {
   "cell_type": "markdown",
   "metadata": {},
   "source": [
    "Run the following codeblocks to import the ```Card``` class into this notebook."
   ]
  },
  {
   "cell_type": "code",
   "execution_count": 1,
   "metadata": {},
   "outputs": [
    {
     "name": "stdout",
     "output_type": "stream",
     "text": [
      "Current Directory: d:\\My Projects\\Programming\\Game-Development\\fivecarddraw\n"
     ]
    }
   ],
   "source": [
    "from os import chdir, getcwd\n",
    "\n",
    "if not getcwd().endswith(\"fivecarddraw\"): \n",
    "    chdir(\"..\")\n",
    "    \n",
    "print(f\"Current Directory: {getcwd()}\")"
   ]
  },
  {
   "cell_type": "code",
   "execution_count": 2,
   "metadata": {},
   "outputs": [],
   "source": [
    "from fivecarddraw import Card"
   ]
  },
  {
   "cell_type": "markdown",
   "metadata": {},
   "source": [
    "## **Card Representation**"
   ]
  },
  {
   "cell_type": "markdown",
   "metadata": {},
   "source": [
    "```Card``` objects have the following constants for representation:\n",
    "\n",
    "* ```Card.VALUES = (\"2\", \"3\", \"4\", \"5\", \"6\", \"7\", \"8\", \"9\", \"10\", \"J\", \"Q\", \"K\", \"A\")```\n",
    "* ```Card.SUITS = (\"♠\", \"♡\", \"♢\", \"♣\")```"
   ]
  },
  {
   "cell_type": "markdown",
   "metadata": {},
   "source": [
    "When a ```Card``` is initialised, it takes two arguments; namely, ```value``` and  ```suit```. These should be integers, which can be used as indices to retrieve a representation for the card. Those indices are stored as attributes; namely, ```Card.value_i``` and ```Card.suit_i``` respectfully. Then the representation attributes can be created as follows:\n",
    "\n",
    "* ```Card.value_r = Card.VALUES[Card.value_i]```\n",
    "* ```Card.suit_r = Card.SUITS[Card.suit_i]```\n",
    "* ```Card.r = Card.value_r + Card.suit_r```\n",
    " "
   ]
  },
  {
   "cell_type": "markdown",
   "metadata": {},
   "source": [
    "If a ```Card``` object is printed, it's represented as the ```string``` stored as ```Card.r```. Furthermore ```str(Card) == Card.r```."
   ]
  },
  {
   "cell_type": "markdown",
   "metadata": {},
   "source": [
    "### **Example - Creating an Ace of Spades**"
   ]
  },
  {
   "cell_type": "code",
   "execution_count": 4,
   "metadata": {},
   "outputs": [
    {
     "name": "stdout",
     "output_type": "stream",
     "text": [
      "Value pool: ('2', '3', '4', '5', '6', '7', '8', '9', '10', 'J', 'Q', 'K', 'A')\n",
      "Suit pool: ('♠', '♡', '♢', '♣')\n",
      "value_i: 12, suit_i: 0\n",
      "value_r: A, suit_r: ♠\n",
      "Card: A♠\n"
     ]
    }
   ],
   "source": [
    "ace_of_spades = Card(12,0)\n",
    "print(f\"Value pool: {ace_of_spades.VALUES}\")\n",
    "print(f\"Suit pool: {ace_of_spades.SUITS}\")\n",
    "print(f\"value_i: {ace_of_spades.value_i}, suit_i: {ace_of_spades.suit_i}\")\n",
    "print(f\"value_r: {ace_of_spades.value_r}, suit_r: {ace_of_spades.suit_r}\")\n",
    "print(f\"Card: {ace_of_spades}\")"
   ]
  },
  {
   "cell_type": "markdown",
   "metadata": {},
   "source": [
    "### **Example - Creating a Random Card**"
   ]
  },
  {
   "cell_type": "code",
   "execution_count": 5,
   "metadata": {},
   "outputs": [],
   "source": [
    "from random import randint\n",
    "\n",
    "def RandomCard():\n",
    "    value = randint(0,12)\n",
    "    suit = randint(0,3)\n",
    "    return Card(value, suit)"
   ]
  },
  {
   "cell_type": "code",
   "execution_count": 6,
   "metadata": {},
   "outputs": [
    {
     "name": "stdout",
     "output_type": "stream",
     "text": [
      "Value pool: ('2', '3', '4', '5', '6', '7', '8', '9', '10', 'J', 'Q', 'K', 'A')\n",
      "Suit pool: ('♠', '♡', '♢', '♣')\n",
      "value_i: 8, suit_i: 1\n",
      "value_r: 10, suit_r: ♡\n",
      "Random Card: 10♡\n"
     ]
    }
   ],
   "source": [
    "card = RandomCard()\n",
    "print(f\"Value pool: {card.VALUES}\")\n",
    "print(f\"Suit pool: {card.SUITS}\")\n",
    "print(f\"value_i: {card.value_i}, suit_i: {card.suit_i}\")\n",
    "print(f\"value_r: {card.value_r}, suit_r: {card.suit_r}\")\n",
    "print(f\"Random Card: {card}\")"
   ]
  },
  {
   "cell_type": "markdown",
   "metadata": {},
   "source": [
    "## **Card Optimisation**"
   ]
  },
  {
   "cell_type": "markdown",
   "metadata": {},
   "source": [
    "In order to boost the time-efficieny of hand-ranking algorithms, it's extremely beneficial to encode certain details about cards into a 32-bit integer, from which card details can then be efficiently retrieved. For more information about the hand-ranking algorithm itself, see: [handtracker.ipynb](handtracker.ipynb). For more information about the encoding of card details as a 32-bit integer, continue below."
   ]
  },
  {
   "cell_type": "markdown",
   "metadata": {},
   "source": [
    "```Card``` objects have the following constants for optimisation:\n",
    "\n",
    "* ```Card.PRIMES = (2, 3, 5, 7, 11, 13, 17, 19, 23, 29, 31, 37, 41)```\n",
    "\n",
    "The semantic mask used to encode each card is stored in the following constant:\n",
    "\n",
    "*  ```Card.MASK = \"xxxAKQJT98765432♣♢♡♠RRRRxxPPPPPP\"```\n",
    "\n",
    "The ```Card.MASK``` attribute is split into four main parts:\n",
    "\n",
    "* ```AKQJT98765432``` where the value of the card is stored as a 13-bit integer.\n",
    "* ```♣♢♡♠``` where the suit of the card is stored as a 4-bit integer.\n",
    "* ```RRRR``` where the value of the card is stored as a 4-bit integer.\n",
    "* ```PPPPP``` where the value of the card is stored as a 6-bit prime number.\n",
    "\n"
   ]
  },
  {
   "cell_type": "markdown",
   "metadata": {},
   "source": [
    "Each section is computed upon the initialisation of the ```Card``` object as follows:\n",
    "\n",
    "* ```Card._value = (2 ** Card.value_i) << 16```\n",
    "* ```Card._suit = (2 ** Card.suit_i) << 12```\n",
    "* ```Card._rank = Card.value_i << 8```\n",
    "* ```Card._prime = Card.PRIMES[Card.value_i]```\n",
    "\n",
    "Then the full encoding of the card is computed and stored into the following attribute:\n",
    "\n",
    "* ```Card.b = Card._value + Card._suit + Card._rank + Card._prime```\n",
    "\n",
    "Furthermore ```int(Card) == Card.b```."
   ]
  },
  {
   "cell_type": "markdown",
   "metadata": {},
   "source": [
    "### **Example - Encoding an Ace of Spades**"
   ]
  },
  {
   "cell_type": "code",
   "execution_count": 3,
   "metadata": {},
   "outputs": [
    {
     "name": "stdout",
     "output_type": "stream",
     "text": [
      "Values pool: ('2', '3', '4', '5', '6', '7', '8', '9', '10', 'J', 'Q', 'K', 'A')\n",
      "Primes pool: (2, 3, 5, 7, 11, 13, 17, 19, 23, 29, 31, 37, 41)\n",
      "AKQJT98765432: 1000000000000\n",
      "♣♢♡♠: 0001\n",
      "RRRR: 1100 (as a decimal number: 12)\n",
      "PPPPPP: 101001 (as a decimal number: 41)\n",
      "Card: A♠\n",
      "32-bit encoding: 00010000000000000001110000101001\n",
      "integer representation: 268442665\n"
     ]
    }
   ],
   "source": [
    "ace_of_spades = Card(12,0)\n",
    "print(f\"Values pool: {ace_of_spades.VALUES}\")\n",
    "print(f\"Primes pool: {ace_of_spades.PRIMES}\")\n",
    "print(f\"AKQJT98765432: {bin(ace_of_spades._value >> 16)[2:].zfill(13)}\")\n",
    "print(f\"♣♢♡♠: {bin(ace_of_spades._suit >> 12)[2:].zfill(4)}\")\n",
    "print(f\"RRRR: {bin(ace_of_spades._rank >> 8)[2:].zfill(4)} (as a decimal number: {ace_of_spades._rank >> 8})\")\n",
    "print(f\"PPPPPP: {bin(ace_of_spades._prime)[2:].zfill(6)} (as a decimal number: {ace_of_spades._prime})\")\n",
    "print(f\"Card: {ace_of_spades}\")\n",
    "print(f\"32-bit encoding: {bin(ace_of_spades.b)[2:].zfill(32)}\")\n",
    "print(f\"integer representation: {int(ace_of_spades)}\")"
   ]
  },
  {
   "cell_type": "markdown",
   "metadata": {},
   "source": [
    "### **Example - Encoding a Random Card**"
   ]
  },
  {
   "cell_type": "code",
   "execution_count": 5,
   "metadata": {},
   "outputs": [],
   "source": [
    "from random import randint\n",
    "\n",
    "def RandomCard():\n",
    "    value = randint(0,12)\n",
    "    suit = randint(0,3)\n",
    "    return Card(value, suit)"
   ]
  },
  {
   "cell_type": "code",
   "execution_count": 9,
   "metadata": {},
   "outputs": [
    {
     "name": "stdout",
     "output_type": "stream",
     "text": [
      "Values pool: ('2', '3', '4', '5', '6', '7', '8', '9', '10', 'J', 'Q', 'K', 'A')\n",
      "Primes pool: (2, 3, 5, 7, 11, 13, 17, 19, 23, 29, 31, 37, 41)\n",
      "AKQJT98765432: 0001000000000\n",
      "♣♢♡♠: 0001\n",
      "RRRR: 1001 (as a decimal number: 9)\n",
      "PPPPPP: 011101 (as a decimal number: 29)\n",
      "Card: J♠\n",
      "32-bit encoding: 00000010000000000001100100011101\n",
      "integer representation: 33560861\n"
     ]
    }
   ],
   "source": [
    "card = RandomCard()\n",
    "print(f\"Values pool: {card.VALUES}\")\n",
    "print(f\"Primes pool: {card.PRIMES}\")\n",
    "print(f\"AKQJT98765432: {bin(card._value >> 16)[2:].zfill(13)}\")\n",
    "print(f\"♣♢♡♠: {bin(card._suit >> 12)[2:].zfill(4)}\")\n",
    "print(f\"RRRR: {bin(card._rank >> 8)[2:].zfill(4)} (as a decimal number: {card._rank >> 8})\")\n",
    "print(f\"PPPPPP: {bin(card._prime)[2:].zfill(6)} (as a decimal number: {card._prime})\")\n",
    "print(f\"Card: {card}\")\n",
    "print(f\"32-bit encoding: {bin(card.b)[2:].zfill(32)}\")\n",
    "print(f\"integer representation: {int(card)}\")"
   ]
  },
  {
   "cell_type": "markdown",
   "metadata": {},
   "source": [
    "### **Example - Encoding a Selected Card**"
   ]
  },
  {
   "cell_type": "code",
   "execution_count": 14,
   "metadata": {},
   "outputs": [],
   "source": [
    "value = int(input(\"Choose a value for the card from 0 to 12\"))\n",
    "suit = int(input(\"Choose a value for the card from 0 to 3\"))\n",
    "card = Card(value, suit)"
   ]
  },
  {
   "cell_type": "code",
   "execution_count": 8,
   "metadata": {},
   "outputs": [
    {
     "name": "stdout",
     "output_type": "stream",
     "text": [
      "Values pool: ('2', '3', '4', '5', '6', '7', '8', '9', '10', 'J', 'Q', 'K', 'A')\n",
      "Primes pool: (2, 3, 5, 7, 11, 13, 17, 19, 23, 29, 31, 37, 41)\n",
      "AKQJT98765432: 0000010000000\n",
      "♣♢♡♠: 0001\n",
      "RRRR: 0111 (as a decimal number: 7)\n",
      "PPPPPP: 010011 (as a decimal number: 19)\n",
      "Card: 9♠\n",
      "32-bit encoding: 00000000100000000001011100010011\n",
      "integer representation: 8394515\n"
     ]
    }
   ],
   "source": [
    "print(f\"Values pool: {card.VALUES}\")\n",
    "print(f\"Primes pool: {card.PRIMES}\")\n",
    "print(f\"AKQJT98765432: {bin(card._value >> 16)[2:].zfill(13)}\")\n",
    "print(f\"♣♢♡♠: {bin(card._suit >> 12)[2:].zfill(4)}\")\n",
    "print(f\"RRRR: {bin(card._rank >> 8)[2:].zfill(4)} (as a decimal number: {card._rank >> 8})\")\n",
    "print(f\"PPPPPP: {bin(card._prime)[2:].zfill(6)} (as a decimal number: {card._prime})\")\n",
    "print(f\"Card: {card}\")\n",
    "print(f\"32-bit encoding: {bin(card.b)[2:].zfill(32)}\")\n",
    "print(f\"integer representation: {int(card)}\")"
   ]
  }
 ],
 "metadata": {
  "kernelspec": {
   "display_name": "Python 3.10.3 64-bit",
   "language": "python",
   "name": "python3"
  },
  "language_info": {
   "codemirror_mode": {
    "name": "ipython",
    "version": 3
   },
   "file_extension": ".py",
   "mimetype": "text/x-python",
   "name": "python",
   "nbconvert_exporter": "python",
   "pygments_lexer": "ipython3",
   "version": "3.10.3"
  },
  "orig_nbformat": 4,
  "vscode": {
   "interpreter": {
    "hash": "607db476e417971f05b607c2dd14e77ee8262c2c4c20dea422522c60605a222a"
   }
  }
 },
 "nbformat": 4,
 "nbformat_minor": 2
}
