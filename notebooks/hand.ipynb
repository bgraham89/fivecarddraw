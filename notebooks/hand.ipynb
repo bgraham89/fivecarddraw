{
 "cells": [
  {
   "cell_type": "markdown",
   "metadata": {},
   "source": [
    "# The Hand class"
   ]
  },
  {
   "cell_type": "markdown",
   "metadata": {},
   "source": [
    "This notebook provides some documentation about Hand objects."
   ]
  },
  {
   "cell_type": "markdown",
   "metadata": {},
   "source": [
    "## Importing the Hand class"
   ]
  },
  {
   "cell_type": "markdown",
   "metadata": {},
   "source": [
    "The current working directory needs to be \"fivecarddraw\" in order to run the code cells of this notebook. Assuming the fivecarddraw repository has been cloned, then this notebook is contained within the \"fivecarddraw/notebooks\" folder. To change the current working directory, run the next cell."
   ]
  },
  {
   "cell_type": "code",
   "execution_count": 1,
   "metadata": {},
   "outputs": [
    {
     "name": "stdout",
     "output_type": "stream",
     "text": [
      "Current Directory: d:\\My Projects\\Python\\Games\\fivecarddraw\n"
     ]
    }
   ],
   "source": [
    "from os import chdir, getcwd\n",
    "\n",
    "if not getcwd().endswith(\"fivecarddraw\"):\n",
    "    chdir(\"..\")\n",
    "    \n",
    "print(f\"Current Directory: {getcwd()}\")"
   ]
  },
  {
   "cell_type": "markdown",
   "metadata": {},
   "source": [
    "Then the Hand class can be imported in the usual pythonic way."
   ]
  },
  {
   "cell_type": "code",
   "execution_count": 2,
   "metadata": {},
   "outputs": [],
   "source": [
    "from fivecarddraw import Hand"
   ]
  },
  {
   "cell_type": "markdown",
   "metadata": {},
   "source": [
    "## Creating a Hand"
   ]
  },
  {
   "cell_type": "markdown",
   "metadata": {},
   "source": [
    "A Hand is inherently a list of Card objects. This gives it access to list methods and the capability to be indexed. Unlike a Deck object, which always contains 52 specific cards, a Hand object requires a collection of Cards as an argument. Obtaining these from a Deck ensures the hand can not contain multiple copies of the same card."
   ]
  },
  {
   "cell_type": "code",
   "execution_count": 3,
   "metadata": {},
   "outputs": [],
   "source": [
    "from fivecarddraw import Deck\n",
    "\n",
    "deck = Deck()"
   ]
  },
  {
   "cell_type": "code",
   "execution_count": 280,
   "metadata": {},
   "outputs": [
    {
     "name": "stdout",
     "output_type": "stream",
     "text": [
      "Hand: 10♣ 8♡ Q♠ A♡ 6♣\n"
     ]
    }
   ],
   "source": [
    "hand = Hand(deck.Shuffle()[:5])\n",
    "print(f\"Hand: {hand}\")"
   ]
  },
  {
   "cell_type": "markdown",
   "metadata": {},
   "source": [
    "## Evaluating the Strength of a Hand"
   ]
  },
  {
   "cell_type": "markdown",
   "metadata": {},
   "source": [
    "The role of hand evaluation has been given to Dealer objects, to makes use of large memos, that speed up the time required to evaluate the hand. More details about the Dealer object can be found in the dealer.ipynb notebook. The technique used to evaluate hands is based upon \"Cactus Kev's Poker Hand Evaluator\". Details of how it works can be found here: http://suffe.cool/poker/evaluator.html."
   ]
  },
  {
   "cell_type": "markdown",
   "metadata": {},
   "source": [
    "### Hand Evaluation Memos"
   ]
  },
  {
   "cell_type": "markdown",
   "metadata": {},
   "source": [
    "#### Lookup-Tables"
   ]
  },
  {
   "cell_type": "markdown",
   "metadata": {},
   "source": [
    "The memos FLUSH_RANKS, UNIQUE_FIVE_RANKS and DUPE_RANKS pull data from lookup-tables. The lookup-tables enumerate all possible card combinations which make up a hand, and provide labels of the strength, both quantitative and qualitative. The lookup-tables were scraped from: http://suffe.cool/poker/7462.html."
   ]
  },
  {
   "cell_type": "code",
   "execution_count": 18,
   "metadata": {},
   "outputs": [
    {
     "name": "stdout",
     "output_type": "stream",
     "text": [
      "SF  AKQJT  1\n",
      "\n"
     ]
    }
   ],
   "source": [
    "handle = open(\"lookup-tables/flush lookup.txt\", \"r\")\n",
    "print(handle.readline())\n",
    "handle.close()"
   ]
  },
  {
   "cell_type": "markdown",
   "metadata": {},
   "source": [
    "The first two letters provided a qualitative label of the hand strength. The next five letters give the combination of cards. The remaining number gives a value from 1 to 7462, providing a quantitative label for the hand strength; 1 is the strongest and 7462 is the weakest. In the example above, \"SF\" refers to straight flush; \"AKQJT\" refers to ace-king-queen-jack-ten in any order, with identical suits (implied by the qualitative label \"flush\"), and \"1\" refers to an ace-king-queen-jack-ten straight flush being the number 1 strongest hand (a royal flush)."
   ]
  },
  {
   "cell_type": "markdown",
   "metadata": {},
   "source": [
    "#### Unique Keys for the Memos"
   ]
  },
  {
   "cell_type": "markdown",
   "metadata": {},
   "source": [
    "Using the lookup-tables,the memos FLUSH_RANKS, UNIQUE_FIVE_RANKS and DUPE_RANKS are populated. They encode card combinations and quantitative strengths as key-value pairs of a dictionary. The card combination encodings are derived from the representations of cards as 32bit integers, mentioned in the card.ipynb notebook."
   ]
  },
  {
   "cell_type": "markdown",
   "metadata": {},
   "source": [
    "All possible card values are mapped to prime numbers, and all possible card values are mapped to a 13bit mask. This allows for unique keys to be created for any combination of cards in a hand, suitable for whichever memo it is required for.  "
   ]
  },
  {
   "cell_type": "code",
   "execution_count": 24,
   "metadata": {},
   "outputs": [],
   "source": [
    "VALUES = {char : 2 ** i for i, char in enumerate(\"23456789TJQKA\")}\n",
    "PRIMES = {char : p for char, p in zip(\"23456789TJQKA\", Deck()[0].PRIMES)}"
   ]
  },
  {
   "cell_type": "markdown",
   "metadata": {},
   "source": [
    "How these are used explicity is covered in the next 3 subsections."
   ]
  },
  {
   "cell_type": "markdown",
   "metadata": {},
   "source": [
    "#### Checking for Flushes, Straight Flushes or Royal Flushes"
   ]
  },
  {
   "cell_type": "markdown",
   "metadata": {},
   "source": [
    "The keys of the FLUSH_RANKS memo are populated by the values of cards in each combination and the bitwise OR operation, to give a 13bit encoding of every possible flush hand. The keys are mapped to a number between 1 to 7462 corresponding to the strength of the card combination that the key represents. All combinations and strengths are taken from flush_lookup.txt."
   ]
  },
  {
   "cell_type": "code",
   "execution_count": 25,
   "metadata": {},
   "outputs": [],
   "source": [
    "FLUSH_RANKS = {\n",
    "    VALUES[line[4]] | VALUES[line[5]] | \n",
    "    VALUES[line[6]] | VALUES[line[7]] | \n",
    "    VALUES[line[8]] : int(str(line)[11:]) \n",
    "    for line in open(\"lookup-tables/flush lookup.txt\", \"r\")}"
   ]
  },
  {
   "cell_type": "markdown",
   "metadata": {},
   "source": [
    "Before a hand is used as a key for FLUSH_RANKS to obtain its strength, it should be checked to see if it contains a flush. This is because not every hand is included in FLUSH_RANKS. Checking the hand contains a flush can be done using the bitwise AND operation, the 32bit card integers, and a bitwise mask to extract suit information. If a hand has a flush, then the 32 bit integer of each card will share an integer representing a suit."
   ]
  },
  {
   "cell_type": "code",
   "execution_count": 27,
   "metadata": {},
   "outputs": [],
   "source": [
    "def CheckFlush(hand):\n",
    "    suit_mask = (15 << 12)\n",
    "    return hand[0].b & hand[1].b & hand[2].b & hand[3].b & hand[4].b & suit_mask"
   ]
  },
  {
   "cell_type": "code",
   "execution_count": 89,
   "metadata": {},
   "outputs": [
    {
     "name": "stdout",
     "output_type": "stream",
     "text": [
      "Hand: J♣ 5♠ 9♡ A♢ K♢\n",
      "J♣   Suit: 1000 & ♣♢♡♠\n",
      "5♠   Suit: 0001 & ♣♢♡♠\n",
      "9♡   Suit: 0010 & ♣♢♡♠\n",
      "A♢   Suit: 0100 & ♣♢♡♠\n",
      "K♢   Suit: 0100 & ♣♢♡♠\n",
      "Combination: 0000\n"
     ]
    }
   ],
   "source": [
    "hand = Hand(deck.Shuffle()[:5])\n",
    "print(f\"Hand: {hand}\")\n",
    "\n",
    "print(f\"{hand[0]}   Suit: {format(((hand[0].b >> 12) & 15), '#06b')[2:]} & {hand[0].MASK[-16:-12]}\")\n",
    "print(f\"{hand[1]}   Suit: {format(((hand[1].b >> 12) & 15), '#06b')[2:]} & {hand[1].MASK[-16:-12]}\")\n",
    "print(f\"{hand[2]}   Suit: {format(((hand[2].b >> 12) & 15), '#06b')[2:]} & {hand[2].MASK[-16:-12]}\")\n",
    "print(f\"{hand[3]}   Suit: {format(((hand[3].b >> 12) & 15), '#06b')[2:]} & {hand[3].MASK[-16:-12]}\")\n",
    "print(f\"{hand[4]}   Suit: {format(((hand[4].b >> 12) & 15), '#06b')[2:]} & {hand[4].MASK[-16:-12]}\")\n",
    "print(f\"Combination: {format((CheckFlush(hand) >> 12), '#06b')[2:]}\")"
   ]
  },
  {
   "cell_type": "markdown",
   "metadata": {},
   "source": [
    "The encoding of a card combination, to be used as a key for FLUSH_RANKs, can be extracted with the bitwise OR operation, the 32bit card integers and bitshifting. If the hand contains five cards with different values, then the encoding will have 5 bits switched on."
   ]
  },
  {
   "cell_type": "code",
   "execution_count": 73,
   "metadata": {},
   "outputs": [],
   "source": [
    "def GetEncoding(hand):\n",
    "    return (hand[0].b | hand[1].b | hand[2].b | hand[3].b | hand[4].b) >> 16"
   ]
  },
  {
   "cell_type": "code",
   "execution_count": 281,
   "metadata": {},
   "outputs": [
    {
     "name": "stdout",
     "output_type": "stream",
     "text": [
      "Hand: 8♢ K♡ 4♣ 2♠ 7♣\n",
      "8♢   Value: 0000001000000 & AKQJT98765432\n",
      "K♡   Value: 0100000000000 & AKQJT98765432\n",
      "4♣   Value: 0000000000100 & AKQJT98765432\n",
      "2♠   Value: 0000000000001 & AKQJT98765432\n",
      "7♣   Value: 0000000100000 & AKQJT98765432\n",
      "Combination:0100001100101\n",
      "Amount of unique valued cards: 5\n"
     ]
    }
   ],
   "source": [
    "hand = Hand(deck.Shuffle()[:5])\n",
    "print(f\"Hand: {hand}\")\n",
    "\n",
    "print(f\"{hand[0]}   Value: {format((hand[0].b >> 16), '#015b')[2:]} & {hand[0].MASK[-29:-16]}\")\n",
    "print(f\"{hand[1]}   Value: {format((hand[1].b >> 16), '#015b')[2:]} & {hand[1].MASK[-29:-16]}\")\n",
    "print(f\"{hand[2]}   Value: {format((hand[2].b >> 16), '#015b')[2:]} & {hand[2].MASK[-29:-16]}\")\n",
    "print(f\"{hand[3]}   Value: {format((hand[3].b >> 16), '#015b')[2:]} & {hand[3].MASK[-29:-16]}\")\n",
    "print(f\"{hand[4]}   Value: {format((hand[4].b >> 16), '#015b')[2:]} & {hand[4].MASK[-29:-16]}\")\n",
    "print(f\"Combination:{format(GetEncoding(hand), '#015b')[2:]}\")\n",
    "print(f\"Amount of unique valued cards: {bin(GetEncoding(hand)).count('1')}\")"
   ]
  },
  {
   "cell_type": "markdown",
   "metadata": {},
   "source": [
    "Now we can determine if a hand has a flush, straight flush or royal flush, and if it does have one; then we can determine what the strength of the hand is quantitatively."
   ]
  },
  {
   "cell_type": "code",
   "execution_count": 170,
   "metadata": {},
   "outputs": [
    {
     "name": "stdout",
     "output_type": "stream",
     "text": [
      "Hand: 5♠ 3♡ Q♡ 5♣ 10♣\n",
      "The hand doesn't contain a flush.\n"
     ]
    }
   ],
   "source": [
    "hand = Hand(deck.Shuffle()[:5])\n",
    "print(f\"Hand: {hand}\")\n",
    "\n",
    "if CheckFlush(hand):\n",
    "    print(\"The hand contains a flush.\")\n",
    "    strength = FLUSH_RANKS[GetEncoding(hand)]\n",
    "    print(f\"The hand was ranked as the number {strength} strongest hand.\")\n",
    "else:\n",
    "    print(\"The hand doesn't contain a flush.\")"
   ]
  },
  {
   "cell_type": "markdown",
   "metadata": {},
   "source": [
    "#### Checking for Straights, or High Cards"
   ]
  },
  {
   "cell_type": "markdown",
   "metadata": {},
   "source": [
    "The keys of the UNIQUE_FIVE_RANKS memo are populated bin the exact same way as for FLUSH_RANKS. Once they have been computed, they are then mapped to a number between 1 to 7462 which corresponds to the strength of the card combination that the key represents. Card combinations and strengths are enumerated from unique_five_lookup.txt."
   ]
  },
  {
   "cell_type": "code",
   "execution_count": 122,
   "metadata": {},
   "outputs": [],
   "source": [
    "UNIQUE_FIVE_RANKS = {\n",
    "    VALUES[line[4]] | VALUES[line[5]] | \n",
    "    VALUES[line[6]] | VALUES[line[7]] | \n",
    "    VALUES[line[8]] : int(str(line)[11:]) \n",
    "    for line in open(\"lookup-tables/unique five lookup.txt\", \"r\")}"
   ]
  },
  {
   "cell_type": "markdown",
   "metadata": {},
   "source": [
    "Before a hand is used as a key for UNIQUE_FIVE_RANKS, the hand should be checked to see if it contains five unique valued cards. This is because not every hand is included in UNIQUE_FIVE_RANKS. Checking that the hand contains five unique valued cards can be done using a combination of the bitwise OR operation, the 32bit card integers, bitshifting and then counting how many bits are on. If the hand contains five cards with different values, then the result will have 5 bits switched on."
   ]
  },
  {
   "cell_type": "code",
   "execution_count": 133,
   "metadata": {},
   "outputs": [],
   "source": [
    "def CheckUniqueFive(hand):\n",
    "    return (bin((hand[0].b | hand[1].b | hand[2].b | hand[3].b | hand[4].b) >> 16)).count(\"1\") == 5"
   ]
  },
  {
   "cell_type": "code",
   "execution_count": 134,
   "metadata": {},
   "outputs": [
    {
     "name": "stdout",
     "output_type": "stream",
     "text": [
      "Hand: 6♠ Q♢ 5♢ 2♢ 7♡\n",
      "6♠   Value: 0000000010000 & AKQJT98765432\n",
      "Q♢   Value: 0010000000000 & AKQJT98765432\n",
      "5♢   Value: 0000000001000 & AKQJT98765432\n",
      "2♢   Value: 0000000000001 & AKQJT98765432\n",
      "7♡   Value: 0000000100000 & AKQJT98765432\n",
      "Combination: 0010000111001\n",
      "Amount of unique valued cards: 5\n"
     ]
    }
   ],
   "source": [
    "hand = Hand(deck.Shuffle()[:5])\n",
    "print(f\"Hand: {hand}\")\n",
    "\n",
    "print(f\"{hand[0]}   Value: {format((hand[0].b >> 16), '#015b')[2:]} & {hand[0].MASK[-29:-16]}\")\n",
    "print(f\"{hand[1]}   Value: {format((hand[1].b >> 16), '#015b')[2:]} & {hand[1].MASK[-29:-16]}\")\n",
    "print(f\"{hand[2]}   Value: {format((hand[2].b >> 16), '#015b')[2:]} & {hand[2].MASK[-29:-16]}\")\n",
    "print(f\"{hand[3]}   Value: {format((hand[3].b >> 16), '#015b')[2:]} & {hand[3].MASK[-29:-16]}\")\n",
    "print(f\"{hand[4]}   Value: {format((hand[4].b >> 16), '#015b')[2:]} & {hand[4].MASK[-29:-16]}\")\n",
    "print(f\"Combination: {format(GetEncoding(hand), '#015b')[2:]}\")\n",
    "print(f\"Amount of unique valued cards: {bin(GetEncoding(hand)).count('1')}\")"
   ]
  },
  {
   "cell_type": "markdown",
   "metadata": {},
   "source": [
    "The encoding of a card combination to be used as a key for UNIQUE_FIVE_RANKS, is found the same way as it was for FLUSH_RANKS. The following code snippet ties everything together to determine whether a hand has a straight or a high card at most, and if it does have either; then what the strength is quantitatively."
   ]
  },
  {
   "cell_type": "code",
   "execution_count": 135,
   "metadata": {},
   "outputs": [
    {
     "name": "stdout",
     "output_type": "stream",
     "text": [
      "Hand: 10♣ 3♡ 5♣ J♠ 2♢\n",
      "The hand contains a straight or high card at most.\n",
      "The hand was ranked as the number 7270 strongest hand.\n"
     ]
    }
   ],
   "source": [
    "hand = Hand(deck.Shuffle()[:5])\n",
    "print(f\"Hand: {hand}\")\n",
    "\n",
    "if CheckUniqueFive(hand):\n",
    "    print(\"The hand contains a straight or high card at most.\")\n",
    "    strength = UNIQUE_FIVE_RANKS[GetEncoding(hand)]\n",
    "    print(f\"The hand was ranked as the number {strength} strongest hand.\")\n",
    "else:\n",
    "    print(\"The hand doesn't contain a straight or high card at most.\")"
   ]
  },
  {
   "cell_type": "markdown",
   "metadata": {},
   "source": [
    "#### Checking for Pairs, Two Pairs, Three of a Kinds, Full Houses or Four of a Kinds"
   ]
  },
  {
   "cell_type": "markdown",
   "metadata": {},
   "source": [
    "The keys of the DUPE_RANKS memo are populated by multiplying together prime numbers associated with card values found in a card combination. The keys are mapped to a number between 1 to 7462 corresponding to the strength of card combination that the key represents. All combinations and strengths are taken from dupe_lookup.txt."
   ]
  },
  {
   "cell_type": "code",
   "execution_count": 164,
   "metadata": {},
   "outputs": [],
   "source": [
    "DUPE_RANKS = {\n",
    "    PRIMES[line[4]] * PRIMES[line[5]] * \n",
    "    PRIMES[line[6]] * PRIMES[line[7]] * \n",
    "    PRIMES[line[8]] : int(str(line)[11:]) \n",
    "    for line in open(\"lookup-tables/dupe lookup.txt\", \"r\")}"
   ]
  },
  {
   "cell_type": "markdown",
   "metadata": {},
   "source": [
    "Before a hand is used as a key for DUPE_RANKS, it should be checked to see that it doesn't contain a flush, a straight  or high card at most. This is because not every hand is included in DUPE_RANKS. Checking the hand doesn't contains a flush or straight or high card at most, can be done through eliminative flow control."
   ]
  },
  {
   "cell_type": "code",
   "execution_count": 137,
   "metadata": {},
   "outputs": [],
   "source": [
    "def CheckDupe(hand):\n",
    "    return not CheckFlush(hand) and not CheckUniqueFive(hand)"
   ]
  },
  {
   "cell_type": "code",
   "execution_count": 153,
   "metadata": {},
   "outputs": [
    {
     "name": "stdout",
     "output_type": "stream",
     "text": [
      "Hand: 8♠ 7♡ 2♢ J♣ 3♢\n",
      "Hand has flush, straight flush or royal flush: False\n",
      "Hand has straight or high card at most: True\n",
      "Hand has pair, two pair, three of a kind, full house or four of a kind: False\n"
     ]
    }
   ],
   "source": [
    "hand = Hand(deck.Shuffle()[:5])\n",
    "print(f\"Hand: {hand}\")\n",
    "\n",
    "print(f\"Hand has flush, straight flush or royal flush: {bool(CheckFlush(hand))}\")\n",
    "print(f\"Hand has straight or high card at most: {bool(CheckUniqueFive(hand))}\")\n",
    "print(f\"Hand has pair, two pair, three of a kind, full house or four of a kind: {bool(CheckDupe(hand))}\")"
   ]
  },
  {
   "cell_type": "markdown",
   "metadata": {},
   "source": [
    "The encoding of a card combination to be used as a key for DUPE_RANKs, can be extracted using the bitwise AND operation, multiplication of primes, the 32bit card integers and a bitwise mask to extract the prime number associate for each card value in the card combination. The reason the encoding is different than for FLUSH_RANKS and UNIQUE_FIVE_RANKS, is to ensure information about which card is duplicated is contained in the encoding, which wasn't required for the other memos. "
   ]
  },
  {
   "cell_type": "code",
   "execution_count": 154,
   "metadata": {},
   "outputs": [],
   "source": [
    "def GetGodelNumber(hand):\n",
    "    prime_mask = 255\n",
    "    return (hand[0].b & prime_mask) * (hand[1].b & prime_mask) * (hand[2].b & prime_mask) * (hand[3].b & prime_mask) * (hand[4].b & prime_mask)"
   ]
  },
  {
   "cell_type": "code",
   "execution_count": 288,
   "metadata": {},
   "outputs": [
    {
     "name": "stdout",
     "output_type": "stream",
     "text": [
      "Hand: 6♡ 4♠ 8♢ Q♡ K♡\n",
      "6♡   Prime: 11\n",
      "4♠   Prime: 5\n",
      "8♢   Prime: 17\n",
      "Q♡   Prime: 31\n",
      "K♡   Prime: 37\n",
      "Combination: 1072445\n"
     ]
    }
   ],
   "source": [
    "hand = Hand(deck.Shuffle()[:5])\n",
    "print(f\"Hand: {hand}\")\n",
    "\n",
    "print(f\"{hand[0]}   Prime: {hand[0].b & 255}\")\n",
    "print(f\"{hand[1]}   Prime: {hand[1].b & 255}\")\n",
    "print(f\"{hand[2]}   Prime: {hand[2].b & 255}\")\n",
    "print(f\"{hand[3]}   Prime: {hand[3].b & 255}\")\n",
    "print(f\"{hand[4]}   Prime: {hand[4].b & 255}\")\n",
    "print(f\"Combination: {GetGodelNumber(hand)}\")"
   ]
  },
  {
   "cell_type": "markdown",
   "metadata": {},
   "source": [
    "The following code snippet ties everything together to determine if a hand has a pair, two pair, three of a kind, full house or four of a kind, and if it does have any; what the strength of the hand is quantitatively."
   ]
  },
  {
   "cell_type": "code",
   "execution_count": 182,
   "metadata": {},
   "outputs": [
    {
     "name": "stdout",
     "output_type": "stream",
     "text": [
      "Hand: 5♡ 3♠ 3♢ Q♠ 6♢\n",
      "The hand contains a pair, two pair, three of a kind, full house or four of a kind.\n",
      "The hand was ranked as the number 5876 strongest hand.\n"
     ]
    }
   ],
   "source": [
    "hand = Hand(deck.Shuffle()[:5])\n",
    "print(f\"Hand: {hand}\")\n",
    "\n",
    "if CheckDupe(hand):\n",
    "    print(\"The hand contains a pair, two pair, three of a kind, full house or four of a kind.\")\n",
    "    strength = DUPE_RANKS[GetGodelNumber(hand)]\n",
    "    print(f\"The hand was ranked as the number {strength} strongest hand.\")\n",
    "else:\n",
    "    print(\"The hand doesn't contain a pair, two pair, three of a kind, full house or four of a kind.\")"
   ]
  },
  {
   "cell_type": "markdown",
   "metadata": {},
   "source": [
    "### Combination of Hand Evaluation Memos"
   ]
  },
  {
   "cell_type": "markdown",
   "metadata": {},
   "source": [
    "With all of the memos and functions to encode card combinations and check hand conditions, it is now possible to get a hands strength as a quantity."
   ]
  },
  {
   "cell_type": "code",
   "execution_count": 248,
   "metadata": {},
   "outputs": [],
   "source": [
    "def GetStrength(hand):\n",
    "    if CheckFlush(hand):\n",
    "        return FLUSH_RANKS[GetEncoding(hand)]\n",
    "    elif CheckUniqueFive(hand):\n",
    "        return UNIQUE_FIVE_RANKS[GetEncoding(hand)]\n",
    "    else:\n",
    "        return DUPE_RANKS[GetGodelNumber(hand)]"
   ]
  },
  {
   "cell_type": "code",
   "execution_count": 289,
   "metadata": {},
   "outputs": [
    {
     "name": "stdout",
     "output_type": "stream",
     "text": [
      "Hand: 3♡ K♠ A♡ 3♠ A♠\n",
      "The hand was ranked as the number 2578 strongest hand.\n"
     ]
    }
   ],
   "source": [
    "hand = Hand(deck.Shuffle()[:5])\n",
    "print(f\"Hand: {hand}\")\n",
    "\n",
    "strength = GetStrength(hand)\n",
    "print(f\"The hand was ranked as the number {strength} strongest hand.\")"
   ]
  },
  {
   "cell_type": "markdown",
   "metadata": {},
   "source": [
    "### Categorising Hands"
   ]
  },
  {
   "cell_type": "markdown",
   "metadata": {},
   "source": [
    "Hands aren't traditionally ranked numerically but instead they are ranked categorically. They are classified as either having a high card, a pair, two pairs, three of a kind, straight, flush, full house, four of a kind, straight flush or royal flush. To get this attribute, the following function can be used, which was devised using the lookup-tables as reference."
   ]
  },
  {
   "cell_type": "code",
   "execution_count": 252,
   "metadata": {},
   "outputs": [],
   "source": [
    "def GetCategory(strength):\n",
    "    if 6186 <= strength:\n",
    "        return \"high card\"\n",
    "    elif 3326 <= strength and strength <= 6187:\n",
    "        return \"pair\"\n",
    "    elif 2468 <= strength and strength <= 3325:\n",
    "        return \"two pair\"\n",
    "    elif 1610 <= strength and strength <= 2467:\n",
    "        return \"three of a kind\"\n",
    "    elif 1600 <= strength and strength <= 1609:\n",
    "        return \"straight\"\n",
    "    elif 323 <= strength and strength <= 1599:\n",
    "        return \"flush\"\n",
    "    elif 167 <= strength and strength <= 322:\n",
    "        return \"full house\"\n",
    "    elif 11 <= strength and strength <= 166:\n",
    "        return \"four of a kind\"\n",
    "    elif 2 <= strength and strength <= 10:\n",
    "        return \"straigh flush\"\n",
    "    else:\n",
    "        return \"royal flush\""
   ]
  },
  {
   "cell_type": "markdown",
   "metadata": {},
   "source": [
    "Now the strength of any hand can be found, both categorical and quantitative."
   ]
  },
  {
   "cell_type": "code",
   "execution_count": 262,
   "metadata": {},
   "outputs": [
    {
     "name": "stdout",
     "output_type": "stream",
     "text": [
      "Hand: 5♣ K♣ 3♣ 2♠ 8♢\n",
      "The hand was classed as high card.\n",
      "The hand was ranked as the number 6991 strongest hand.\n"
     ]
    }
   ],
   "source": [
    "hand = Hand(deck.Shuffle()[:5])\n",
    "print(f\"Hand: {hand}\")\n",
    "\n",
    "strength = GetStrength(hand)\n",
    "category = GetCategory(strength)\n",
    "print(f\"The hand was classed as {category}.\")\n",
    "print(f\"The hand was ranked as the number {strength} strongest hand.\")"
   ]
  },
  {
   "cell_type": "markdown",
   "metadata": {},
   "source": [
    "## Swapping Cards in a Hand"
   ]
  },
  {
   "cell_type": "markdown",
   "metadata": {},
   "source": [
    "In five card draw, players get the option to swap cards in their hand. The simplest way to do this is by creating a new hand object."
   ]
  },
  {
   "cell_type": "code",
   "execution_count": 278,
   "metadata": {},
   "outputs": [
    {
     "name": "stdout",
     "output_type": "stream",
     "text": [
      "Hand before card swap: 3♢ K♠ 3♠ 6♠ 6♡\n",
      "Hand after card swap: 7♢ K♡ J♠ 9♢ 5♢\n"
     ]
    }
   ],
   "source": [
    "deck = Deck().Shuffle()\n",
    "hand = Hand(deck[:5])\n",
    "print(f\"Hand before card swap: {hand}\")\n",
    "\n",
    "cards_to_keep = [card for card in hand if card.value_i == 12]\n",
    "new_cards = deck[5:10-len(cards_to_keep)]\n",
    "\n",
    "hand = Hand(cards_to_keep + new_cards)\n",
    "print(f\"Hand after card swap: {hand}\")\n"
   ]
  }
 ],
 "metadata": {
  "interpreter": {
   "hash": "c3636d30ddb2a12da24c45608848bcc691d291634008b756de8d8e99dcb20a9d"
  },
  "kernelspec": {
   "display_name": "Python 3.8.10 64-bit ('base': conda)",
   "language": "python",
   "name": "python3"
  },
  "language_info": {
   "codemirror_mode": {
    "name": "ipython",
    "version": 3
   },
   "file_extension": ".py",
   "mimetype": "text/x-python",
   "name": "python",
   "nbconvert_exporter": "python",
   "pygments_lexer": "ipython3",
   "version": "3.8.10"
  },
  "orig_nbformat": 4
 },
 "nbformat": 4,
 "nbformat_minor": 2
}
