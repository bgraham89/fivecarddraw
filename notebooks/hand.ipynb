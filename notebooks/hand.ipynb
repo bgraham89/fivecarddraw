{
 "cells": [
  {
   "cell_type": "markdown",
   "metadata": {},
   "source": [
    "# **The HandTracker class**"
   ]
  },
  {
   "cell_type": "markdown",
   "metadata": {},
   "source": [
    "This notebook provides some documentation about ```HandTracker``` objects."
   ]
  },
  {
   "cell_type": "markdown",
   "metadata": {},
   "source": [
    "Run the following codeblocks to import the ```HandTracker``` class into this notebook."
   ]
  },
  {
   "cell_type": "code",
   "execution_count": 1,
   "metadata": {},
   "outputs": [
    {
     "name": "stdout",
     "output_type": "stream",
     "text": [
      "Current Directory: c:\\Users\\Brad\\Documents\\Programming\\fivecarddraw\n"
     ]
    }
   ],
   "source": [
    "from os import chdir, getcwd\n",
    "\n",
    "if not getcwd().endswith(\"fivecarddraw\"):\n",
    "    chdir(\"..\")\n",
    "    \n",
    "print(f\"Current Directory: {getcwd()}\")"
   ]
  },
  {
   "cell_type": "code",
   "execution_count": 2,
   "metadata": {},
   "outputs": [],
   "source": [
    "from fivecarddraw import HandTracker"
   ]
  },
  {
   "cell_type": "markdown",
   "metadata": {},
   "source": [
    "## **HandTracker Functionality**"
   ]
  },
  {
   "cell_type": "markdown",
   "metadata": {},
   "source": [
    "### **Initialisation**"
   ]
  },
  {
   "cell_type": "markdown",
   "metadata": {},
   "source": [
    "The ```HandTracker``` class is designed to serve as a backend for ```Dealer``` objects. Upon initialisation:\n",
    "* It creates a ```Deck``` object that helps with the *dealing and collecting of cards*.\n",
    "* It loads about 150kb of data from [lookup tables](../lookup-tables/) that help with the *evaluating of cards*. \n",
    "\n",
    "More details about both can be found below. "
   ]
  },
  {
   "cell_type": "markdown",
   "metadata": {},
   "source": [
    "### **The Dealing and Collecting of Cards**"
   ]
  },
  {
   "cell_type": "markdown",
   "metadata": {},
   "source": [
    "```HandTracker``` objects have the following attributes that help with the dealing and collecting of cards:\n",
    "\n",
    "* ```HandTracker.DECK``` which is a ```Deck``` object.\n",
    "* ```HandTracker.hands``` which is a ```dict``` for storing information about player hands.\n"
   ]
  },
  {
   "cell_type": "code",
   "execution_count": 4,
   "metadata": {},
   "outputs": [
    {
     "name": "stdout",
     "output_type": "stream",
     "text": [
      "Deck of cards: [8♡, A♢, Q♠, 3♣, 4♠, 2♡, 4♣, K♣, 5♡, A♡, J♣, K♢, 5♠, 4♢, 5♣, J♠, 5♢, 9♠, 4♡, 9♣, Q♡, 7♡, J♢, 6♣, 8♢, K♠, A♠, 3♡, A♣, 10♣, 7♠, 8♣, 10♢, 6♢, 8♠, 2♢, Q♢, 6♡, 3♠, 2♣, Q♣, J♡, 2♠, 10♡, 7♣, 3♢, K♡, 7♢, 6♠, 9♢, 9♡, 10♠]\n"
     ]
    }
   ],
   "source": [
    "tracker = HandTracker()\n",
    "print(f\"Deck of cards: {tracker.DECK}\")"
   ]
  },
  {
   "cell_type": "markdown",
   "metadata": {},
   "source": [
    "The intended way to deal cards to players is to use ```HandTracker.DealHands(names)```. This results in the ```HandTracker.hands``` being updated correctly. "
   ]
  },
  {
   "cell_type": "code",
   "execution_count": 5,
   "metadata": {},
   "outputs": [
    {
     "name": "stdout",
     "output_type": "stream",
     "text": [
      "Hands: {'Brad': {'cards': [Q♡, 4♡, 10♣, 2♠, 4♣]}, 'Scott': {'cards': [3♡, 5♡, 6♡, 9♣, 10♢]}, 'Daniel': {'cards': [A♠, 3♢, A♡, Q♠, 6♢]}}\n",
      "\n",
      "Amount of remaining cards in deck: 37\n"
     ]
    }
   ],
   "source": [
    "tracker = HandTracker()\n",
    "tracker.DealHands([\"Brad\", \"Scott\", \"Daniel\"])\n",
    "print(f\"Hands: {tracker.hands}\\n\")\n",
    "print(f\"Amount of remaining cards in deck: {tracker.DECK.CountRemaining()}\")"
   ]
  },
  {
   "cell_type": "markdown",
   "metadata": {},
   "source": [
    "The intended way to collect cards from players is then to use ```HandTracker.CollectHands()```, which clears ```HandTracker.hands``` and prepares ```HandTracker.DECK``` for a new round."
   ]
  },
  {
   "cell_type": "code",
   "execution_count": 6,
   "metadata": {},
   "outputs": [
    {
     "name": "stdout",
     "output_type": "stream",
     "text": [
      "Amount of remaining cards in deck before collecting hands: 37\n",
      "Amount of remaining cards in deck after collecting hands: 52\n"
     ]
    }
   ],
   "source": [
    "tracker = HandTracker()\n",
    "tracker.DealHands([\"Brad\", \"Scott\", \"Daniel\"])\n",
    "print(f\"Amount of remaining cards in deck before collecting hands: {tracker.DECK.CountRemaining()}\")\n",
    "tracker.CollectHands()\n",
    "print(f\"Amount of remaining cards in deck after collecting hands: {tracker.DECK.CountRemaining()}\")"
   ]
  },
  {
   "cell_type": "markdown",
   "metadata": {},
   "source": [
    "#### **Demo of Hands**"
   ]
  },
  {
   "cell_type": "markdown",
   "metadata": {},
   "source": [
    "Alternatively, the ```HandTracker.DemoDeal()``` method can be used to create a random hand without the implict tracking of ```Card``` objects. This method is purely for demonstration and is never called in [fivecarddraw.py](../fivecarddraw.py)."
   ]
  },
  {
   "cell_type": "code",
   "execution_count": 26,
   "metadata": {},
   "outputs": [],
   "source": [
    "tracker = HandTracker()"
   ]
  },
  {
   "cell_type": "code",
   "execution_count": 35,
   "metadata": {},
   "outputs": [
    {
     "name": "stdout",
     "output_type": "stream",
     "text": [
      "Random hand: [Q♡, J♢, 8♡, A♡, 10♡]\n"
     ]
    }
   ],
   "source": [
    "print(f\"Random hand: {tracker.DemoDeal()}\")"
   ]
  },
  {
   "cell_type": "markdown",
   "metadata": {},
   "source": [
    "### **The Evaluating of Hands**"
   ]
  },
  {
   "cell_type": "markdown",
   "metadata": {},
   "source": [
    "```HandTracker``` objects have specific attributes that were designed to optimise ```HandTracker.EvaluateHands()``` to be as quick as possible. Essentially, data about every possible five card draw hand is loaded by the ```HandTracker``` object, from [lookup-tables](../lookup-tables/) upon initialisation, which can then simply be read to retrieve the evaluation of a hand. More specifically, the following attributes help with the evaluating of hands:\n",
    "\n",
    "* ```HandTracker.DV``` and ```HandTracker.DP``` which are ```dict``` ciphers used during ```HandTracker.LoadLookupTables()```.\n",
    "* ```HandTracker.FLUSH_RANKS```, ```HandTracker.UNIQUE5_RANKS``` and ```HandTracker.DUPE_RANKS``` which are ```dict``` memos that store information loaded from [lookup-tables](../lookup-tables/) by ```HandTracker.LoadLookupTables()```.\n",
    "* ```HandTracker.CLASSES``` and ```HandTracker.BOUNDARIES``` which are used to convert between the numerical and categorical evaluations of hands.\n"
   ]
  },
  {
   "cell_type": "markdown",
   "metadata": {},
   "source": [
    "#### **looking at the lookup-tables**"
   ]
  },
  {
   "cell_type": "markdown",
   "metadata": {},
   "source": [
    "[lookup-tables](../lookup-tables/) contains three files which are tables of data that contain both numerical and categorical evaluations of every possible five card draw hand. The data was scraped from [here](http://suffe.cool/poker/7462.html) and divided into three seperate tables to simplify the loading process used in ```HandTracker.LoadLookupTables()```. Each file is formatted in the same way, and can be previewed below. "
   ]
  },
  {
   "cell_type": "code",
   "execution_count": 3,
   "metadata": {},
   "outputs": [],
   "source": [
    "flush_lookup = open(\"lookup-tables/flush lookup.txt\", \"r\")\n",
    "unique5_lookup = open(\"lookup-tables/unique five lookup.txt\", \"r\")\n",
    "dupe_lookup = open(\"lookup-tables/dupe lookup.txt\", \"r\")"
   ]
  },
  {
   "cell_type": "code",
   "execution_count": 20,
   "metadata": {},
   "outputs": [
    {
     "name": "stdout",
     "output_type": "stream",
     "text": [
      "FF  AKQJ3  329\n",
      "\n",
      "HC  AKQJ3  6192\n",
      "\n",
      "4K  KKKK9  27\n",
      "\n"
     ]
    }
   ],
   "source": [
    "print(flush_lookup.readline())\n",
    "print(unique5_lookup.readline())\n",
    "print(dupe_lookup.readline())"
   ]
  },
  {
   "cell_type": "code",
   "execution_count": 25,
   "metadata": {},
   "outputs": [],
   "source": [
    "flush_lookup.close()\n",
    "unique5_lookup.close()\n",
    "dupe_lookup.close()"
   ]
  },
  {
   "cell_type": "markdown",
   "metadata": {},
   "source": [
    "Each line can be interpreted as follows:\n",
    "\n",
    "* The first two letters encode a categorical evaluation; either SF, 4K, FH, FF, SS, 3K, 2P, 1P or HC which stand for straight flush, four of a kind, full house, flush, straight, three of a kind, two pair, pair or high card respectively.\n",
    "* The next five characters give the cards in a hand; either A, K, Q, J, T, 9, 8, 7, 6, 5, 4, 3, or 2.\n",
    "* The remaining numbers give a numerical evaluation; 1 being the best and 7462 being the worst, which were determined through combinatorial analysis by [Kevin Suffecool](http://suffe.cool/poker/evaluator.html)."
   ]
  },
  {
   "cell_type": "markdown",
   "metadata": {},
   "source": [
    "This information is stored by the ```HandTracker``` object as outlined below."
   ]
  },
  {
   "cell_type": "markdown",
   "metadata": {},
   "source": [
    "#### **Loading the data from the lookup-tables**"
   ]
  },
  {
   "cell_type": "markdown",
   "metadata": {},
   "source": [
    "```HandTracker``` objects have the following attributes that are initialised before ```HandTracker.LoadLookupTables()``` is called:\n",
    "\n",
    "* ```HandTracker.DV = {char : 2 ** i for i, char in enumerate(\"23456789TJQKA\")}``` which is a cipher that allows hands which are classed as either a straight flush, flush, straight or having only a high card to be encoded as a unique sum of powers of two.\n",
    "* ```HandTracker.DP = {char : p for p, char in zip(Card(0,0).PRIMES, \"23456789TJQKA\")}``` which is a cipher that allows any hand to be encoded as a unique product of primes instead."
   ]
  },
  {
   "cell_type": "code",
   "execution_count": 32,
   "metadata": {},
   "outputs": [
    {
     "name": "stdout",
     "output_type": "stream",
     "text": [
      "Sum cipher: {'2': 1, '3': 2, '4': 4, '5': 8, '6': 16, '7': 32, '8': 64, '9': 128, 'T': 256, 'J': 512, 'Q': 1024, 'K': 2048, 'A': 4096}\n",
      "product cipher: {'2': 2, '3': 3, '4': 5, '5': 7, '6': 11, '7': 13, '8': 17, '9': 19, 'T': 23, 'J': 29, 'Q': 31, 'K': 37, 'A': 41}\n",
      "\n"
     ]
    }
   ],
   "source": [
    "tracker = HandTracker()\n",
    "print(f\"Sum cipher: {tracker.DV}\")\n",
    "print(f\"product cipher: {tracker.DP}\\n\")"
   ]
  },
  {
   "cell_type": "markdown",
   "metadata": {},
   "source": [
    "The ```HandTracker.LoadLookupTables()``` method then creates the following attributes: \n",
    "\n",
    "* ```HandTracker.FLUSH_RANKS``` which is a ```dict``` whose keys are unique sums representing hands, and whose values are the numerical evaluation of them, assuming each card has the same suit. Data comes from [flush lookup.txt](../lookup-tables/flush_lookup.txt).\n",
    "* ```HandTracker.UNIQUE5_RANKS``` which is a ```dict``` whose keys are unique sums representing hands, and whose values are the numerical evaluation of them, assuming there is more than one suit present in the hand. Data comes from [unique five lookup.txt](../lookup-tables/unique_five_lookup.txt).\n",
    "* ```HandTracker.DUPE_RANKS``` which is a ```dict``` whose keys are unique products representing hands, and whose values are the numerical evaluation of them. Data comes from [dupe lookup.txt](../lookup-tables/dupe_lookup.txt)."
   ]
  },
  {
   "cell_type": "code",
   "execution_count": 35,
   "metadata": {},
   "outputs": [
    {
     "name": "stdout",
     "output_type": "stream",
     "text": [
      "Amount of hands in FLUSH_RANKS: 1287\n",
      "Amount of hands in UNIQUE5_RANKS: 1287\n",
      "Amount of hands in DUPE_RANKS: 4888\n"
     ]
    }
   ],
   "source": [
    "tracker = HandTracker()\n",
    "print(f\"Amount of hands in FLUSH_RANKS: {len(tracker.FLUSH_RANKS)}\")\n",
    "print(f\"Amount of hands in UNIQUE5_RANKS: {len(tracker.UNIQUE5_RANKS)}\")\n",
    "print(f\"Amount of hands in DUPE_RANKS: {len(tracker.DUPE_RANKS)}\")"
   ]
  },
  {
   "cell_type": "markdown",
   "metadata": {},
   "source": [
    "#### **Getting a Numerical Evaluation**"
   ]
  },
  {
   "cell_type": "markdown",
   "metadata": {},
   "source": [
    "In order to get a numerical evaluation of a hand, it just needs to be located. The first step is to find which ```dict``` attribute of ```HandTracker``` it's located in. It will either be located in  ```HandTracker.FLUSH_RANKS```, ```HandTracker.UNIQUE5_RANKS``` or ```HandTracker.DUPE_RANKS```. The first check to do is to check whether the hand contains a flush or not. This is done using ```HandTracker.CheckFlush(cards)```."
   ]
  },
  {
   "cell_type": "markdown",
   "metadata": {},
   "source": [
    "##### **Finding where the numerical evaluation is located**"
   ]
  },
  {
   "cell_type": "code",
   "execution_count": 21,
   "metadata": {},
   "outputs": [],
   "source": [
    "tracker = HandTracker()"
   ]
  },
  {
   "cell_type": "code",
   "execution_count": 28,
   "metadata": {},
   "outputs": [
    {
     "name": "stdout",
     "output_type": "stream",
     "text": [
      "Random hand: [J♠, 6♢, 8♣, A♡, 8♠]\n",
      "Has a flush: False\n"
     ]
    }
   ],
   "source": [
    "hand = tracker.DemoDeal()\n",
    "print(f\"Random hand: {hand}\")\n",
    "print(f\"Has a flush: {tracker.CheckFlush(hand)}\")\n"
   ]
  },
  {
   "cell_type": "markdown",
   "metadata": {},
   "source": [
    "If the hand doesn't contain a flush, then it needs to be determined whether the hand contains duplicates or not. This is done using ```HandTracker.CheckUnique5(cards)```."
   ]
  },
  {
   "cell_type": "code",
   "execution_count": 29,
   "metadata": {},
   "outputs": [],
   "source": [
    "tracker = HandTracker()"
   ]
  },
  {
   "cell_type": "code",
   "execution_count": 34,
   "metadata": {},
   "outputs": [
    {
     "name": "stdout",
     "output_type": "stream",
     "text": [
      "Random hand: [A♢, J♡, 4♠, 6♠, K♡]\n",
      "Has five unique cards: True\n",
      "Has duplicate cards: False\n"
     ]
    }
   ],
   "source": [
    "hand = tracker.DemoDeal()\n",
    "print(f\"Random hand: {hand}\")\n",
    "print(f\"Has five unique cards: {tracker.CheckUnique5(hand)}\")\n",
    "print(f\"Has duplicate cards: {not tracker.CheckUnique5(hand)}\")"
   ]
  },
  {
   "cell_type": "markdown",
   "metadata": {},
   "source": [
    "Once the above details have been found, then the location of the hand's evaluation can be established. \n",
    "\n",
    "* If the hand has a flush, then it's evaluation is in ```HandTracker.FLUSH_RANKS```.\n",
    "* If the hand doesn't have a flush, but it does have 5 unique-calued cards, then it's evaluation is in ```HandTracker.UNIQUE5_RANKS```.\n",
    "* Otherwise the hand's evaluation is in ```HandTracker.DUPE_RANKS```."
   ]
  },
  {
   "cell_type": "markdown",
   "metadata": {},
   "source": [
    "##### **Getting the key to obtain the numerical evaluation**"
   ]
  },
  {
   "cell_type": "markdown",
   "metadata": {},
   "source": [
    "If the hand's evaluation is in ```HandTracker.DUPE_RANKS```, then it's key can be found using ```HandTracker.ExtractProduct(cards)```."
   ]
  },
  {
   "cell_type": "code",
   "execution_count": 37,
   "metadata": {},
   "outputs": [
    {
     "name": "stdout",
     "output_type": "stream",
     "text": [
      "Random hand: [7♢, Q♣, 5♢, 2♠, 9♣]\n",
      "Unique product encoding: 107198\n"
     ]
    }
   ],
   "source": [
    "tracker = HandTracker()\n",
    "hand = tracker.DemoDeal()\n",
    "print(f\"Random hand: {hand}\")\n",
    "print(f\"Unique product encoding: {tracker.ExtractProduct(hand)}\")"
   ]
  },
  {
   "cell_type": "markdown",
   "metadata": {},
   "source": [
    "Otherwise it's key can be found using ```HandTracker.ExtractSum(card)```."
   ]
  },
  {
   "cell_type": "code",
   "execution_count": 44,
   "metadata": {},
   "outputs": [
    {
     "name": "stdout",
     "output_type": "stream",
     "text": [
      "Random hand: [8♠, A♣, 10♢, 8♣, 6♡]\n",
      "Sum encoding: 4432\n"
     ]
    }
   ],
   "source": [
    "tracker = HandTracker()\n",
    "hand = tracker.DemoDeal()\n",
    "print(f\"Random hand: {hand}\")\n",
    "print(f\"Sum encoding: {tracker.ExtractSum(hand)}\")"
   ]
  },
  {
   "cell_type": "markdown",
   "metadata": {},
   "source": [
    "These keys can then be used with the respective ```dict``` attribute of ```HandTracker``` to obtain the numerical evaluation of the hand."
   ]
  },
  {
   "cell_type": "markdown",
   "metadata": {},
   "source": [
    "#### **Getting a Categorical Evaluation**"
   ]
  },
  {
   "cell_type": "markdown",
   "metadata": {},
   "source": [
    "```HandTracker``` objects have the following attributes that help with categorical evaluation:\n",
    "\n",
    "* ```HandTracker.CLASSES = (\"High card\", \"pair\", \"two pair\", \"three of a kind\", \"straight\", \"flush\", \"full house\",\"four of a kind\", \"straight flush\", \"royal flush\")```\n",
    "* ```HandTracker.BOUNDARIES = (6186, 3326, 2468, 1610, 1600, 323, 167, 11, 2, 1)```\n",
    "\n",
    "These attributes compose a cipher, from which a categorical evaluation can be determined from the hand's numerical evaluation. "
   ]
  },
  {
   "cell_type": "markdown",
   "metadata": {},
   "source": [
    "### **Demo of Evaluations**"
   ]
  },
  {
   "cell_type": "markdown",
   "metadata": {},
   "source": [
    "The intended method to use to evaluate hands is ```HandTracker.EvaluateHands()```."
   ]
  },
  {
   "cell_type": "code",
   "execution_count": 3,
   "metadata": {},
   "outputs": [],
   "source": [
    "tracker = HandTracker()"
   ]
  },
  {
   "cell_type": "code",
   "execution_count": 10,
   "metadata": {},
   "outputs": [
    {
     "name": "stdout",
     "output_type": "stream",
     "text": [
      "Player Hands: {'Brad': {'cards': [K♡, 7♣, 6♡, 5♢, 9♢], 'rank_n': 6953, 'rank_c': 'High card'}, 'Scott': {'cards': [10♢, 5♠, 4♢, 8♠, 8♡], 'rank_n': 4825, 'rank_c': 'pair'}, 'Daniel': {'cards': [K♠, 7♡, 9♡, 3♢, 5♣], 'rank_n': 6958, 'rank_c': 'High card'}}\n"
     ]
    }
   ],
   "source": [
    "tracker.DealHands([\"Brad\", \"Scott\", \"Daniel\"])\n",
    "tracker.EvaluateHands()\n",
    "print(f\"Player Hands: {tracker.hands}\")\n",
    "tracker.CollectHands()"
   ]
  },
  {
   "cell_type": "markdown",
   "metadata": {},
   "source": [
    "Alternatively, hands can be evaluated using ```HandTracker.DemoEvaluate(hand)``` which doesn't implicitly track who has the hand."
   ]
  },
  {
   "cell_type": "code",
   "execution_count": 3,
   "metadata": {},
   "outputs": [],
   "source": [
    "tracker = HandTracker()"
   ]
  },
  {
   "cell_type": "code",
   "execution_count": 39,
   "metadata": {},
   "outputs": [
    {
     "name": "stdout",
     "output_type": "stream",
     "text": [
      "Player Hand: [7♢, 2♠, 10♣, 9♣, 3♢]\n",
      "Evaluation: High card\n"
     ]
    }
   ],
   "source": [
    "hand = tracker.DemoDeal()\n",
    "print(f\"Player Hand: {hand}\")\n",
    "print(f\"Evaluation: {tracker.DemoEvaluate(hand)['rank_c']}\")"
   ]
  },
  {
   "cell_type": "markdown",
   "metadata": {},
   "source": [
    "### **The Switching of Cards**"
   ]
  },
  {
   "cell_type": "markdown",
   "metadata": {},
   "source": [
    "The intended way to switch cards during the switching phase of a round of five card draw poker; is to first approve the selection of cards to be discarded using ```HandTracker.ApproveDiscards(name, discards)```, and once that returns ```True```, proceed to edit the hand using ```HandTracker.EditHand(name, discards)```. "
   ]
  },
  {
   "cell_type": "code",
   "execution_count": 20,
   "metadata": {},
   "outputs": [
    {
     "name": "stdout",
     "output_type": "stream",
     "text": [
      "Player Hands: {'Brad': {'cards': [J♠, 3♢, Q♡, J♢, A♠], 'rank_n': 4003, 'rank_c': 'pair'}, 'Scott': {'cards': [10♢, 5♣, 3♠, 8♠, 6♠], 'rank_n': 7387, 'rank_c': 'High card'}, 'Daniel': {'cards': [10♡, J♡, 5♢, 2♡, 9♡], 'rank_n': 7233, 'rank_c': 'High card'}}\n"
     ]
    }
   ],
   "source": [
    "tracker = HandTracker()\n",
    "tracker.DealHands([\"Brad\", \"Scott\", \"Daniel\"])\n",
    "tracker.EvaluateHands()\n",
    "print(f\"Player Hands: {tracker.hands}\")"
   ]
  },
  {
   "cell_type": "code",
   "execution_count": 23,
   "metadata": {},
   "outputs": [
    {
     "name": "stdout",
     "output_type": "stream",
     "text": [
      "Four cards to try and switch: [J♠, 3♢, Q♡, J♢]\n",
      "Remaining card: A♠\n",
      "Aprroval : True\n"
     ]
    }
   ],
   "source": [
    "player = \"Brad\"\n",
    "discards = tracker.hands[player][\"cards\"][:4]\n",
    "remaining = tracker.hands[player][\"cards\"][4]\n",
    "approval = tracker.ApproveDiscards(player, discards)\n",
    "\n",
    "print(f\"Four cards to try and switch: {discards}\")\n",
    "print(f\"Remaining card: {remaining}\")\n",
    "print(f\"Approval : {approval}\")"
   ]
  },
  {
   "cell_type": "code",
   "execution_count": 24,
   "metadata": {},
   "outputs": [
    {
     "name": "stdout",
     "output_type": "stream",
     "text": [
      "Player Hands: {'Brad': {'cards': [A♠, 7♡, A♡, Q♢, 4♡], 'rank_n': 4003, 'rank_c': 'pair'}, 'Scott': {'cards': [10♢, 5♣, 3♠, 8♠, 6♠], 'rank_n': 7387, 'rank_c': 'High card'}, 'Daniel': {'cards': [10♡, J♡, 5♢, 2♡, 9♡], 'rank_n': 7233, 'rank_c': 'High card'}}\n"
     ]
    }
   ],
   "source": [
    "tracker.EditHand(player, discards)\n",
    "print(f\"Player Hands: {tracker.hands}\")\n"
   ]
  }
 ],
 "metadata": {
  "interpreter": {
   "hash": "c3636d30ddb2a12da24c45608848bcc691d291634008b756de8d8e99dcb20a9d"
  },
  "kernelspec": {
   "display_name": "Python 3.8.10 64-bit ('base': conda)",
   "language": "python",
   "name": "python3"
  },
  "language_info": {
   "codemirror_mode": {
    "name": "ipython",
    "version": 3
   },
   "file_extension": ".py",
   "mimetype": "text/x-python",
   "name": "python",
   "nbconvert_exporter": "python",
   "pygments_lexer": "ipython3",
   "version": "3.9.6"
  },
  "orig_nbformat": 4
 },
 "nbformat": 4,
 "nbformat_minor": 2
}
