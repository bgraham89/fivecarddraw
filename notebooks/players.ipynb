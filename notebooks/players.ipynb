{
 "cells": [
  {
   "cell_type": "markdown",
   "metadata": {},
   "source": [
    "# **The ActionTracker class**"
   ]
  },
  {
   "cell_type": "markdown",
   "metadata": {},
   "source": [
    "This notebook provides information about ```ActionTracker``` objects."
   ]
  },
  {
   "cell_type": "markdown",
   "metadata": {},
   "source": [
    "Run the following codeblocks to import the ```ActionTracker``` class into this notebook."
   ]
  },
  {
   "cell_type": "code",
   "execution_count": 1,
   "metadata": {},
   "outputs": [
    {
     "name": "stdout",
     "output_type": "stream",
     "text": [
      "Current Directory: d:\\My Projects\\Programming\\Game Development\\fivecarddraw\n"
     ]
    }
   ],
   "source": [
    "from os import chdir, getcwd\n",
    "\n",
    "if not getcwd().endswith(\"fivecarddraw\"):\n",
    "    chdir(\"..\")\n",
    "    \n",
    "print(f\"Current Directory: {getcwd()}\")"
   ]
  },
  {
   "cell_type": "code",
   "execution_count": 2,
   "metadata": {},
   "outputs": [],
   "source": [
    "from fivecarddraw import ActionTracker"
   ]
  },
  {
   "cell_type": "markdown",
   "metadata": {},
   "source": [
    "## **ActionTracker Functionality**"
   ]
  },
  {
   "cell_type": "markdown",
   "metadata": {},
   "source": [
    "### **Initialisation**"
   ]
  },
  {
   "cell_type": "markdown",
   "metadata": {},
   "source": [
    "The ```ActionTracker``` class is designed to be mediated by ```Dealer``` objects. Upon initialisation:\n",
    "* It creates attributes to track the status of players for use during the ```PlayGame.BettingPhase()``` simulation method.\n",
    "* It creates attributes to track whether players are human or ai, and makes decisions based on that.\n",
    "\n",
    "More details can be found below."
   ]
  },
  {
   "cell_type": "markdown",
   "metadata": {},
   "source": [
    "### **Controlling game flow**"
   ]
  },
  {
   "cell_type": "markdown",
   "metadata": {},
   "source": [
    "The ```ActionTracker``` class has the following methods for controlling game flow:\n",
    "* ```ActionTracker.NewRound()```\n",
    "* ```ActionTracker.ExtendRound()```"
   ]
  },
  {
   "cell_type": "markdown",
   "metadata": {},
   "source": [
    "The methods above control game flow by specifically altering ```has_allin```, ```has_folded``` and ```has_mincalled``` values that are associated with players. More information can be found in [dealer.ipynb](dealer.ipynb)."
   ]
  },
  {
   "cell_type": "markdown",
   "metadata": {},
   "source": [
    "The following methods also provide information related to player statuses:\n",
    "* ```ActionTracker.ShowdownPlayers(dealing_order)```\n",
    "* ```ActionTracker.ActingPlayers(action_order)```"
   ]
  },
  {
   "cell_type": "markdown",
   "metadata": {},
   "source": [
    "### **Catering for humans and AI**"
   ]
  },
  {
   "cell_type": "markdown",
   "metadata": {},
   "source": [
    "The ```ActionTracker``` class has the following methods for tracking humans and ai:\n",
    "* ```ActionTracker.AddHuman(name)```\n",
    "* ```ActionTracker.AddBots(name)```\n",
    "* ```ActionTracker.KickBot(name)```"
   ]
  },
  {
   "cell_type": "markdown",
   "metadata": {},
   "source": [
    "The ```ActionTracker``` class also has the following methods which cater towards both humans and ai:\n",
    "* ```ActionTracker.SelectAmount(name, info)```\n",
    "* ```ActionTracker.SelectDiscards(name, info)```"
   ]
  }
 ],
 "metadata": {
  "interpreter": {
   "hash": "aecd030d4c8316a52bf122072e28f84bcc79844c2684e041fef2e3f1d9f59078"
  },
  "kernelspec": {
   "display_name": "Python 3.10.0 64-bit",
   "language": "python",
   "name": "python3"
  },
  "language_info": {
   "codemirror_mode": {
    "name": "ipython",
    "version": 3
   },
   "file_extension": ".py",
   "mimetype": "text/x-python",
   "name": "python",
   "nbconvert_exporter": "python",
   "pygments_lexer": "ipython3",
   "version": "3.10.0"
  },
  "orig_nbformat": 4
 },
 "nbformat": 4,
 "nbformat_minor": 2
}
