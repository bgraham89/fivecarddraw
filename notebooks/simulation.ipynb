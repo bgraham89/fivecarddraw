{
 "cells": [
  {
   "cell_type": "markdown",
   "metadata": {},
   "source": [
    "# **The FiveCardDraw and Simulation classes**"
   ]
  },
  {
   "cell_type": "markdown",
   "metadata": {},
   "source": [
    "This notebook provides documentaion for the ```FiveCardDraw``` and ```Simulation``` classes."
   ]
  },
  {
   "cell_type": "markdown",
   "metadata": {},
   "source": [
    "Run the following codeblocks to import the ```FiveCardDraw``` and ```Simulation``` class into this notebook."
   ]
  },
  {
   "cell_type": "markdown",
   "metadata": {},
   "source": [
    "## **Importing the FiveCardDraw and Simulation classes**"
   ]
  },
  {
   "cell_type": "code",
   "execution_count": 1,
   "metadata": {},
   "outputs": [
    {
     "name": "stdout",
     "output_type": "stream",
     "text": [
      "Current Directory: d:\\My Projects\\Programming\\Game Theory\\fivecarddraw\n"
     ]
    }
   ],
   "source": [
    "from os import chdir, getcwd\n",
    "\n",
    "if not getcwd().endswith(\"fivecarddraw\"):\n",
    "    chdir(\"..\")\n",
    "    \n",
    "print(f\"Current Directory: {getcwd()}\")"
   ]
  },
  {
   "cell_type": "code",
   "execution_count": 2,
   "metadata": {},
   "outputs": [],
   "source": [
    "from fivecarddraw import FiveCardDraw, Simulation"
   ]
  },
  {
   "cell_type": "markdown",
   "metadata": {},
   "source": [
    "## **The Gameloop**"
   ]
  },
  {
   "cell_type": "markdown",
   "metadata": {},
   "source": [
    "The gameloop consists of 4 main phases."
   ]
  },
  {
   "cell_type": "markdown",
   "metadata": {},
   "source": [
    "### **The ```NewHand()``` function**"
   ]
  },
  {
   "cell_type": "markdown",
   "metadata": {},
   "source": [
    "During this phase, various checks are done to see if a new round of five card draw can start. The checks include: verifying any human players have chips, and verifying atleast 2 players remain at the table (after kicking players without chips from the table). Once the checks are passed, the game begins. The button is moved, everybodies antes are placed into the pot, the deck is shuffled and everybody is dealt a hand. "
   ]
  },
  {
   "cell_type": "markdown",
   "metadata": {},
   "source": [
    "### **The ```BettingPhase()``` loop**"
   ]
  },
  {
   "cell_type": "markdown",
   "metadata": {},
   "source": [
    "The betting phase is a loop that only ends once every player at the table has either folded, gone allin or mincalled. Players are asked to decide an action to peform, in the order they appear at the table. The actions they decide on may increase the amount of chips in the pot, and lower their own chipcount, but it will always set atleast one of their own status attribute to true. More aggressive actions can turn other players status attributes to false; for example a raise sets every other player.has_mincalled to false. Eventually every player will have one status attribute on, either by passive actions taken by everybody, or players running out of chips and being forced to choose passive actions. Then the betting phase ends."
   ]
  },
  {
   "cell_type": "markdown",
   "metadata": {},
   "source": [
    "Currently, players are fed a set of options to choose from, and game state details are printed for everybody to see. This works well for humans, but ai have limited flexibility in strategy due to not knowing anything about any other players, as they can't understand print commands. This is planned to be upgraded in the future, so that ai have access to more gamedata."
   ]
  },
  {
   "cell_type": "markdown",
   "metadata": {},
   "source": [
    "### **The ```SwitchingPhase()``` loop**"
   ]
  },
  {
   "cell_type": "markdown",
   "metadata": {},
   "source": [
    "During the switching phase, any player who hasn't folded gets a chance to swap 3 cards, or 4 cards if they keep an Ace. Once this is done, another round of betting happens. But if only one player remains before the switching phase, then the full gameloop starts again, and the switching phase doesn't happen."
   ]
  },
  {
   "cell_type": "markdown",
   "metadata": {},
   "source": [
    "### **The ```EvaluationPhase()``` loop**"
   ]
  },
  {
   "cell_type": "markdown",
   "metadata": {},
   "source": [
    "The evaluation phase consists of hand evaluation, reward payout, hand collection, and the resetting of player status attributes. Once the evaluation phase is complete, the ```NewHand()``` checks begin again."
   ]
  },
  {
   "cell_type": "markdown",
   "metadata": {},
   "source": [
    "## **Starting a Game of Five Card Draw**"
   ]
  },
  {
   "cell_type": "markdown",
   "metadata": {},
   "source": [
    "### **One Human, Four AI**"
   ]
  },
  {
   "cell_type": "code",
   "execution_count": 3,
   "metadata": {},
   "outputs": [
    {
     "name": "stdout",
     "output_type": "stream",
     "text": [
      "\n",
      "------New Round------\n",
      "Phil Ivey has got the button.\n",
      "Gus Hanson paid 5 chips for the ante.\n",
      "Dan Negreanu paid 5 chips for the ante.\n",
      "Phil Hellmuth paid 5 chips for the ante.\n",
      "Brad paid 5 chips for the ante.\n",
      "Phil Ivey paid 5 chips for the ante.\n",
      "\n",
      "\n",
      "Gus Hanson has checked.\n",
      "Dan Negreanu has raised by 495 and gone allin!\n",
      "Phil Hellmuth has gone all in to call!\n",
      "\n",
      "There are 1015 chips in the pot.\n",
      "The amount to call is 495.\n",
      "You have 495 chips.\n",
      "You have A♡ 6♠ 2♡ 2♢ 8♠.\n",
      "Please select again.\n",
      "\n",
      "There are 1015 chips in the pot.\n",
      "The amount to call is 495.\n",
      "You have 495 chips.\n",
      "You have A♡ 6♠ 2♡ 2♢ 8♠.\n",
      "Please select again.\n",
      "\n",
      "There are 1015 chips in the pot.\n",
      "The amount to call is 495.\n",
      "You have 495 chips.\n",
      "You have A♡ 6♠ 2♡ 2♢ 8♠.\n",
      "Brad has gone all in to call!\n",
      "Phil Ivey has folded.\n",
      "Gus Hanson has gone all in to call!\n",
      "\n",
      "------Mid Round------\n",
      "The remaining players are [Gus Hanson, Dan Negreanu, Phil Hellmuth, Brad].\n",
      "\n",
      "Gus Hanson swapped 2 cards.\n",
      "Dan Negreanu swapped 2 cards.\n",
      "Phil Hellmuth swapped 2 cards.\n",
      "\n",
      "You have A♡ 6♠ 2♡ 2♢ 8♠.\n",
      "You have A♡ 6♠ 2♡ 2♢ 8♠.\n",
      "\n",
      "Nobody needs to bet.\n",
      "\n",
      "Gus Hanson mucked with 10♠ A♢ 6♡ 9♡ K♠ (High card)\n",
      "Dan Negreanu won 2005 chips with 4♠ 5♠ K♢ K♡ Q♡ (pair)\n",
      "Phil Hellmuth mucked.\n",
      "Brad mucked.\n",
      "\n",
      "------End of Round------\n",
      "Gus Hanson has got 0 chips.\n",
      "Dan Negreanu has got 2005 chips.\n",
      "Phil Hellmuth has got 0 chips.\n",
      "Brad has got 0 chips.\n",
      "Phil Ivey has got 495 chips.\n",
      "Game over Brad, better luck next time.\n",
      "Thanks for playing!\n"
     ]
    },
    {
     "data": {
      "text/plain": [
       "[Gus Hanson, Dan Negreanu, Phil Hellmuth, Brad, Phil Ivey]"
      ]
     },
     "execution_count": 3,
     "metadata": {},
     "output_type": "execute_result"
    }
   ],
   "source": [
    "FiveCardDraw()"
   ]
  },
  {
   "cell_type": "markdown",
   "metadata": {},
   "source": [
    "### **Five AI**"
   ]
  },
  {
   "cell_type": "code",
   "execution_count": 3,
   "metadata": {},
   "outputs": [
    {
     "name": "stdout",
     "output_type": "stream",
     "text": [
      "\n",
      "------New Round------\n",
      "Phil Ivey has got the button.\n",
      "Gus Hanson paid 5 chips for the ante.\n",
      "Dan Negreanu paid 5 chips for the ante.\n",
      "Phil Hellmuth paid 5 chips for the ante.\n",
      "Brad Graham paid 5 chips for the ante.\n",
      "Phil Ivey paid 5 chips for the ante.\n",
      "\n",
      "\n",
      "Gus Hanson has raised by 65.\n",
      "Dan Negreanu has called.\n",
      "Phil Hellmuth has raised by 430 and gone allin!\n",
      "Brad Graham has gone all in to call!\n",
      "Phil Ivey has gone all in to call!\n",
      "Gus Hanson has gone all in to call!\n",
      "Dan Negreanu has gone all in to call!\n",
      "\n",
      "------Mid Round------\n",
      "The remaining players are [Gus Hanson, Dan Negreanu, Phil Hellmuth, Brad Graham, Phil Ivey].\n",
      "\n",
      "Gus Hanson swapped 3 cards.\n",
      "Dan Negreanu swapped 1 cards.\n",
      "Phil Hellmuth swapped 2 cards.\n",
      "Brad Graham swapped 2 cards.\n",
      "Phil Ivey swapped 2 cards.\n",
      "Nobody needs to bet.\n",
      "\n"
     ]
    },
    {
     "ename": "AttributeError",
     "evalue": "'BasicAI' object has no attribute 'hand'",
     "output_type": "error",
     "traceback": [
      "\u001b[1;31m---------------------------------------------------------------------------\u001b[0m",
      "\u001b[1;31mAttributeError\u001b[0m                            Traceback (most recent call last)",
      "\u001b[1;32m~\\AppData\\Local\\Temp/ipykernel_9180/2724486124.py\u001b[0m in \u001b[0;36m<module>\u001b[1;34m\u001b[0m\n\u001b[1;32m----> 1\u001b[1;33m \u001b[0mSimulation\u001b[0m\u001b[1;33m(\u001b[0m\u001b[1;33m)\u001b[0m\u001b[1;33m\u001b[0m\u001b[1;33m\u001b[0m\u001b[0m\n\u001b[0m",
      "\u001b[1;32md:\\My Projects\\Programming\\Game Theory\\fivecarddraw\\fivecarddraw.py\u001b[0m in \u001b[0;36m__init__\u001b[1;34m(self)\u001b[0m\n\u001b[0;32m    599\u001b[0m \u001b[1;32mclass\u001b[0m \u001b[0mSimulation\u001b[0m\u001b[1;33m(\u001b[0m\u001b[0mFiveCardDraw\u001b[0m\u001b[1;33m)\u001b[0m\u001b[1;33m:\u001b[0m\u001b[1;33m\u001b[0m\u001b[1;33m\u001b[0m\u001b[0m\n\u001b[0;32m    600\u001b[0m     \u001b[1;32mdef\u001b[0m \u001b[0m__init__\u001b[0m\u001b[1;33m(\u001b[0m\u001b[0mself\u001b[0m\u001b[1;33m)\u001b[0m\u001b[1;33m:\u001b[0m\u001b[1;33m\u001b[0m\u001b[1;33m\u001b[0m\u001b[0m\n\u001b[1;32m--> 601\u001b[1;33m         \u001b[0msuper\u001b[0m\u001b[1;33m(\u001b[0m\u001b[1;33m)\u001b[0m\u001b[1;33m.\u001b[0m\u001b[0m__init__\u001b[0m\u001b[1;33m(\u001b[0m\u001b[1;33m)\u001b[0m\u001b[1;33m\u001b[0m\u001b[1;33m\u001b[0m\u001b[0m\n\u001b[0m\u001b[0;32m    602\u001b[0m \u001b[1;33m\u001b[0m\u001b[0m\n\u001b[0;32m    603\u001b[0m     \u001b[1;32mdef\u001b[0m \u001b[0mConfiguration\u001b[0m\u001b[1;33m(\u001b[0m\u001b[0mself\u001b[0m\u001b[1;33m)\u001b[0m\u001b[1;33m:\u001b[0m\u001b[1;33m\u001b[0m\u001b[1;33m\u001b[0m\u001b[0m\n",
      "\u001b[1;32md:\\My Projects\\Programming\\Game Theory\\fivecarddraw\\fivecarddraw.py\u001b[0m in \u001b[0;36m__init__\u001b[1;34m(self)\u001b[0m\n\u001b[0;32m    474\u001b[0m             \u001b[0mself\u001b[0m\u001b[1;33m.\u001b[0m\u001b[0mSwitchingPhase\u001b[0m\u001b[1;33m(\u001b[0m\u001b[1;33m)\u001b[0m\u001b[1;33m\u001b[0m\u001b[1;33m\u001b[0m\u001b[0m\n\u001b[0;32m    475\u001b[0m             \u001b[0mself\u001b[0m\u001b[1;33m.\u001b[0m\u001b[0mBettingPhase\u001b[0m\u001b[1;33m(\u001b[0m\u001b[1;33m)\u001b[0m\u001b[1;33m\u001b[0m\u001b[1;33m\u001b[0m\u001b[0m\n\u001b[1;32m--> 476\u001b[1;33m             \u001b[0mself\u001b[0m\u001b[1;33m.\u001b[0m\u001b[0mEvaluationPhase\u001b[0m\u001b[1;33m(\u001b[0m\u001b[1;33m)\u001b[0m\u001b[1;33m\u001b[0m\u001b[1;33m\u001b[0m\u001b[0m\n\u001b[0m\u001b[0;32m    477\u001b[0m         \u001b[1;32melse\u001b[0m\u001b[1;33m:\u001b[0m\u001b[1;33m\u001b[0m\u001b[1;33m\u001b[0m\u001b[0m\n\u001b[0;32m    478\u001b[0m             \u001b[0mself\u001b[0m\u001b[1;33m.\u001b[0m\u001b[0mEndGame\u001b[0m\u001b[1;33m(\u001b[0m\u001b[1;33m)\u001b[0m\u001b[1;33m\u001b[0m\u001b[1;33m\u001b[0m\u001b[0m\n",
      "\u001b[1;32md:\\My Projects\\Programming\\Game Theory\\fivecarddraw\\fivecarddraw.py\u001b[0m in \u001b[0;36mEvaluationPhase\u001b[1;34m(self)\u001b[0m\n\u001b[0;32m    584\u001b[0m \u001b[1;33m\u001b[0m\u001b[0m\n\u001b[0;32m    585\u001b[0m     \u001b[1;32mdef\u001b[0m \u001b[0mEvaluationPhase\u001b[0m\u001b[1;33m(\u001b[0m\u001b[0mself\u001b[0m\u001b[1;33m)\u001b[0m\u001b[1;33m:\u001b[0m\u001b[1;33m\u001b[0m\u001b[1;33m\u001b[0m\u001b[0m\n\u001b[1;32m--> 586\u001b[1;33m         \u001b[0mself\u001b[0m\u001b[1;33m.\u001b[0m\u001b[0mPayout\u001b[0m\u001b[1;33m(\u001b[0m\u001b[1;33m)\u001b[0m\u001b[1;33m\u001b[0m\u001b[1;33m\u001b[0m\u001b[0m\n\u001b[0m\u001b[0;32m    587\u001b[0m         \u001b[0mself\u001b[0m\u001b[1;33m.\u001b[0m\u001b[0mCollectCards\u001b[0m\u001b[1;33m(\u001b[0m\u001b[1;33m)\u001b[0m\u001b[1;33m\u001b[0m\u001b[1;33m\u001b[0m\u001b[0m\n\u001b[0;32m    588\u001b[0m         \u001b[0mprint\u001b[0m\u001b[1;33m(\u001b[0m\u001b[1;34m\"\\n------End of Round------\"\u001b[0m\u001b[1;33m)\u001b[0m\u001b[1;33m\u001b[0m\u001b[1;33m\u001b[0m\u001b[0m\n",
      "\u001b[1;32md:\\My Projects\\Programming\\Game Theory\\fivecarddraw\\fivecarddraw.py\u001b[0m in \u001b[0;36mPayout\u001b[1;34m(self)\u001b[0m\n\u001b[0;32m    414\u001b[0m                 \u001b[1;32mif\u001b[0m \u001b[0mhands\u001b[0m\u001b[1;33m[\u001b[0m\u001b[0mself\u001b[0m\u001b[1;33m[\u001b[0m\u001b[0mi\u001b[0m\u001b[1;33m]\u001b[0m\u001b[1;33m.\u001b[0m\u001b[0mname\u001b[0m\u001b[1;33m]\u001b[0m\u001b[1;33m[\u001b[0m\u001b[1;34m\"rank_n\"\u001b[0m\u001b[1;33m]\u001b[0m \u001b[1;33m<=\u001b[0m \u001b[0mbest_rank\u001b[0m\u001b[1;33m:\u001b[0m\u001b[1;33m\u001b[0m\u001b[1;33m\u001b[0m\u001b[0m\n\u001b[0;32m    415\u001b[0m                     \u001b[0mbest_rank\u001b[0m \u001b[1;33m=\u001b[0m \u001b[0mhands\u001b[0m\u001b[1;33m[\u001b[0m\u001b[0mself\u001b[0m\u001b[1;33m[\u001b[0m\u001b[0mi\u001b[0m\u001b[1;33m]\u001b[0m\u001b[1;33m.\u001b[0m\u001b[0mname\u001b[0m\u001b[1;33m]\u001b[0m\u001b[1;33m[\u001b[0m\u001b[1;34m\"rank_n\"\u001b[0m\u001b[1;33m]\u001b[0m\u001b[1;33m\u001b[0m\u001b[1;33m\u001b[0m\u001b[0m\n\u001b[1;32m--> 416\u001b[1;33m                     \u001b[0mprint\u001b[0m\u001b[1;33m(\u001b[0m\u001b[1;34mf\"{self[i]} mucked with {self[i].hand} ({rank})\"\u001b[0m\u001b[1;33m)\u001b[0m\u001b[1;33m\u001b[0m\u001b[1;33m\u001b[0m\u001b[0m\n\u001b[0m\u001b[0;32m    417\u001b[0m                 \u001b[1;32melse\u001b[0m\u001b[1;33m:\u001b[0m\u001b[1;33m\u001b[0m\u001b[1;33m\u001b[0m\u001b[0m\n\u001b[0;32m    418\u001b[0m                     \u001b[0mprint\u001b[0m\u001b[1;33m(\u001b[0m\u001b[1;34mf\"{self[i]} mucked.\"\u001b[0m\u001b[1;33m)\u001b[0m\u001b[1;33m\u001b[0m\u001b[1;33m\u001b[0m\u001b[0m\n",
      "\u001b[1;31mAttributeError\u001b[0m: 'BasicAI' object has no attribute 'hand'"
     ]
    }
   ],
   "source": [
    "Simulation()"
   ]
  }
 ],
 "metadata": {
  "interpreter": {
   "hash": "aecd030d4c8316a52bf122072e28f84bcc79844c2684e041fef2e3f1d9f59078"
  },
  "kernelspec": {
   "display_name": "Python 3.10.0 64-bit",
   "language": "python",
   "name": "python3"
  },
  "language_info": {
   "codemirror_mode": {
    "name": "ipython",
    "version": 3
   },
   "file_extension": ".py",
   "mimetype": "text/x-python",
   "name": "python",
   "nbconvert_exporter": "python",
   "pygments_lexer": "ipython3",
   "version": "3.9.6"
  },
  "orig_nbformat": 4
 },
 "nbformat": 4,
 "nbformat_minor": 2
}
