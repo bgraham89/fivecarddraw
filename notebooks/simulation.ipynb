{
 "cells": [
  {
   "cell_type": "markdown",
   "metadata": {},
   "source": [
    "# **The FiveCardDraw and Simulation classes**"
   ]
  },
  {
   "cell_type": "markdown",
   "metadata": {},
   "source": [
    "This notebook provides documentaion for the ```FiveCardDraw``` and ```Simulation``` classes."
   ]
  },
  {
   "cell_type": "markdown",
   "metadata": {},
   "source": [
    "Run the following codeblocks to import the ```FiveCardDraw``` and ```Simulation``` class into this notebook."
   ]
  },
  {
   "cell_type": "markdown",
   "metadata": {},
   "source": [
    "## **Importing the FiveCardDraw and Simulation classes**"
   ]
  },
  {
   "cell_type": "code",
   "execution_count": 1,
   "metadata": {},
   "outputs": [
    {
     "name": "stdout",
     "output_type": "stream",
     "text": [
      "Current Directory: d:\\My Projects\\Programming\\Game Design\\fivecarddraw\n"
     ]
    }
   ],
   "source": [
    "from os import chdir, getcwd\n",
    "\n",
    "if not getcwd().endswith(\"fivecarddraw\"):\n",
    "    chdir(\"..\")\n",
    "    \n",
    "print(f\"Current Directory: {getcwd()}\")"
   ]
  },
  {
   "cell_type": "code",
   "execution_count": 2,
   "metadata": {},
   "outputs": [],
   "source": [
    "from fivecarddraw import FiveCardDraw, Simulation"
   ]
  },
  {
   "cell_type": "markdown",
   "metadata": {},
   "source": [
    "## **The Gameloop**"
   ]
  },
  {
   "cell_type": "markdown",
   "metadata": {},
   "source": [
    "The gameloop consists of 4 main phases."
   ]
  },
  {
   "cell_type": "markdown",
   "metadata": {},
   "source": [
    "### **The ```NewHand()``` function**"
   ]
  },
  {
   "cell_type": "markdown",
   "metadata": {},
   "source": [
    "During this phase, various checks are done to see if a new round of five card draw can start. The checks include: verifying any human players have chips, and verifying atleast 2 players remain at the table (after kicking players without chips from the table). Once the checks are passed, the game begins. The button is moved, everybodies antes are placed into the pot, the deck is shuffled and everybody is dealt a hand. "
   ]
  },
  {
   "cell_type": "markdown",
   "metadata": {},
   "source": [
    "### **The ```BettingPhase()``` loop**"
   ]
  },
  {
   "cell_type": "markdown",
   "metadata": {},
   "source": [
    "The betting phase is a loop that only ends once every player at the table has either folded, gone allin or mincalled. Players are asked to decide an action to peform, in the order they appear at the table. The actions they decide on may increase the amount of chips in the pot, and lower their own chipcount, but it will always set atleast one of their own status attribute to true. More aggressive actions can turn other players status attributes to false; for example a raise sets every other player.has_mincalled to false. Eventually every player will have one status attribute on, either by passive actions taken by everybody, or players running out of chips and being forced to choose passive actions. Then the betting phase ends."
   ]
  },
  {
   "cell_type": "markdown",
   "metadata": {},
   "source": [
    "Currently, players are fed a set of options to choose from, and game state details are printed for everybody to see. This works well for humans, but ai have limited flexibility in strategy due to not knowing anything about any other players, as they can't understand print commands. This is planned to be upgraded in the future, so that ai have access to more gamedata."
   ]
  },
  {
   "cell_type": "markdown",
   "metadata": {},
   "source": [
    "### **The ```SwitchingPhase()``` loop**"
   ]
  },
  {
   "cell_type": "markdown",
   "metadata": {},
   "source": [
    "During the switching phase, any player who hasn't folded gets a chance to swap 3 cards, or 4 cards if they keep an Ace. Once this is done, another round of betting happens. But if only one player remains before the switching phase, then the full gameloop starts again, and the switching phase doesn't happen."
   ]
  },
  {
   "cell_type": "markdown",
   "metadata": {},
   "source": [
    "### **The ```EvaluationPhase()``` loop**"
   ]
  },
  {
   "cell_type": "markdown",
   "metadata": {},
   "source": [
    "The evaluation phase consists of hand evaluation, reward payout, hand collection, and the resetting of player status attributes. Once the evaluation phase is complete, the ```NewHand()``` checks begin again."
   ]
  },
  {
   "cell_type": "markdown",
   "metadata": {},
   "source": [
    "## **Starting a Game of Five Card Draw**"
   ]
  },
  {
   "cell_type": "markdown",
   "metadata": {},
   "source": [
    "### **One Human, Four AI**"
   ]
  },
  {
   "cell_type": "code",
   "execution_count": 3,
   "metadata": {},
   "outputs": [
    {
     "name": "stdout",
     "output_type": "stream",
     "text": [
      "\n",
      "------New Round------\n",
      "Phil Ivey has got the button.\n",
      "Gus Hanson paid 5 chips for the ante.\n",
      "Dan Negreanu paid 5 chips for the ante.\n",
      "Phil Hellmuth paid 5 chips for the ante.\n",
      "Brad paid 5 chips for the ante.\n",
      "Phil Ivey paid 5 chips for the ante.\n",
      "\n",
      "\n",
      "Gus Hanson has checked.\n",
      "Dan Negreanu has raised by 495 and gone allin!\n",
      "Phil Hellmuth has gone all in to call!\n",
      "\n",
      "There are 1015 chips in the pot.\n",
      "The amount to call is 495.\n",
      "You have 495 chips.\n",
      "You have A♡ 6♠ 2♡ 2♢ 8♠.\n",
      "Please select again.\n",
      "\n",
      "There are 1015 chips in the pot.\n",
      "The amount to call is 495.\n",
      "You have 495 chips.\n",
      "You have A♡ 6♠ 2♡ 2♢ 8♠.\n",
      "Please select again.\n",
      "\n",
      "There are 1015 chips in the pot.\n",
      "The amount to call is 495.\n",
      "You have 495 chips.\n",
      "You have A♡ 6♠ 2♡ 2♢ 8♠.\n",
      "Brad has gone all in to call!\n",
      "Phil Ivey has folded.\n",
      "Gus Hanson has gone all in to call!\n",
      "\n",
      "------Mid Round------\n",
      "The remaining players are [Gus Hanson, Dan Negreanu, Phil Hellmuth, Brad].\n",
      "\n",
      "Gus Hanson swapped 2 cards.\n",
      "Dan Negreanu swapped 2 cards.\n",
      "Phil Hellmuth swapped 2 cards.\n",
      "\n",
      "You have A♡ 6♠ 2♡ 2♢ 8♠.\n",
      "You have A♡ 6♠ 2♡ 2♢ 8♠.\n",
      "\n",
      "Nobody needs to bet.\n",
      "\n",
      "Gus Hanson mucked with 10♠ A♢ 6♡ 9♡ K♠ (High card)\n",
      "Dan Negreanu won 2005 chips with 4♠ 5♠ K♢ K♡ Q♡ (pair)\n",
      "Phil Hellmuth mucked.\n",
      "Brad mucked.\n",
      "\n",
      "------End of Round------\n",
      "Gus Hanson has got 0 chips.\n",
      "Dan Negreanu has got 2005 chips.\n",
      "Phil Hellmuth has got 0 chips.\n",
      "Brad has got 0 chips.\n",
      "Phil Ivey has got 495 chips.\n",
      "Game over Brad, better luck next time.\n",
      "Thanks for playing!\n"
     ]
    },
    {
     "data": {
      "text/plain": [
       "[Gus Hanson, Dan Negreanu, Phil Hellmuth, Brad, Phil Ivey]"
      ]
     },
     "execution_count": 3,
     "metadata": {},
     "output_type": "execute_result"
    }
   ],
   "source": [
    "FiveCardDraw()"
   ]
  },
  {
   "cell_type": "markdown",
   "metadata": {},
   "source": [
    "### **Five AI**"
   ]
  },
  {
   "cell_type": "code",
   "execution_count": 3,
   "metadata": {},
   "outputs": [
    {
     "name": "stdout",
     "output_type": "stream",
     "text": [
      "\n",
      "------New Round------\n",
      "Phil Ivey has got the button.\n",
      "Gus Hanson paid 5 chips for the ante.\n",
      "Dan Negreanu paid 5 chips for the ante.\n",
      "Phil Hellmuth paid 5 chips for the ante.\n",
      "Brad Graham paid 5 chips for the ante.\n",
      "Phil Ivey paid 5 chips for the ante.\n",
      "\n",
      "\n",
      "Gus Hanson has raised by 370.\n",
      "Dan Negreanu has raised by 125 and gone allin!\n",
      "Phil Hellmuth has folded.\n",
      "Brad Graham has gone all in to call!\n",
      "Phil Ivey has gone all in to call!\n",
      "Gus Hanson has folded.\n",
      "\n",
      "------Mid Round------\n",
      "The remaining players are [Dan Negreanu, Brad Graham, Phil Ivey].\n",
      "\n",
      "Dan Negreanu swapped 2 cards.\n",
      "Phil Ivey swapped 3 cards.\n",
      "Nobody needs to bet.\n",
      "\n",
      "Dan Negreanu won 1880 chips with J♠ 6♡ K♠ 4♣ 9♡ (High card)\n",
      "Brad Graham mucked.\n",
      "Phil Ivey mucked.\n",
      "\n",
      "------End of Round------\n",
      "Gus Hanson has got 125 chips.\n",
      "Dan Negreanu has got 1880 chips.\n",
      "Phil Hellmuth has got 495 chips.\n",
      "Brad Graham has got 0 chips.\n",
      "Phil Ivey has got 0 chips.\n",
      "Brad Graham is leaving the table.\n",
      "Phil Ivey is leaving the table.\n",
      "\n",
      "------New Round------\n",
      "Gus Hanson has got the button.\n",
      "Dan Negreanu paid 5 chips for the ante.\n",
      "Phil Hellmuth paid 5 chips for the ante.\n",
      "Gus Hanson paid 5 chips for the ante.\n",
      "\n",
      "\n",
      "Dan Negreanu has raised by 1875 and gone allin!\n",
      "Phil Hellmuth couldn't call but has gone all in with 490 chips.\n",
      "Gus Hanson couldn't call but has gone all in with 120 chips.\n",
      "\n",
      "------Mid Round------\n",
      "The remaining players are [Dan Negreanu, Phil Hellmuth, Gus Hanson].\n",
      "\n",
      "Dan Negreanu swapped 1 cards.\n",
      "Phil Hellmuth swapped 2 cards.\n",
      "Gus Hanson swapped 3 cards.\n",
      "Nobody needs to bet.\n",
      "\n",
      "Dan Negreanu won 1385 chips with 7♢ J♢ 7♡ 5♣ Q♠ (pair)\n",
      "Phil Hellmuth won 1115 chips with 10♣ 8♣ 8♢ 5♠ 9♠ (pair)\n",
      "Gus Hanson mucked.\n",
      "\n",
      "------End of Round------\n",
      "Dan Negreanu has got 1385 chips.\n",
      "Phil Hellmuth has got 1115 chips.\n",
      "Gus Hanson has got 0 chips.\n",
      "Gus Hanson is leaving the table.\n",
      "\n",
      "------New Round------\n",
      "Dan Negreanu has got the button.\n",
      "Phil Hellmuth paid 5 chips for the ante.\n",
      "Dan Negreanu paid 5 chips for the ante.\n",
      "\n",
      "\n",
      "Phil Hellmuth has raised by 1110 and gone allin!\n",
      "Dan Negreanu has raised by 270 and gone allin!\n",
      "\n",
      "------Mid Round------\n",
      "The remaining players are [Phil Hellmuth, Dan Negreanu].\n",
      "\n",
      "Phil Hellmuth swapped 1 cards.\n",
      "Dan Negreanu swapped 3 cards.\n",
      "Nobody needs to bet.\n",
      "\n",
      "Phil Hellmuth mucked with 6♢ 3♡ Q♡ Q♠ 2♠ (pair)\n",
      "Dan Negreanu won 2500 chips with J♠ K♢ 5♣ K♡ 5♡ (two pair)\n",
      "\n",
      "------End of Round------\n",
      "Phil Hellmuth has got 0 chips.\n",
      "Dan Negreanu has got 2500 chips.\n",
      "Phil Hellmuth is leaving the table.\n",
      "Dan Negreanu has done it. Well played.\n",
      "Thanks for playing!\n"
     ]
    },
    {
     "data": {
      "text/plain": [
       "[Dan Negreanu]"
      ]
     },
     "execution_count": 3,
     "metadata": {},
     "output_type": "execute_result"
    }
   ],
   "source": [
    "Simulation()"
   ]
  }
 ],
 "metadata": {
  "interpreter": {
   "hash": "aecd030d4c8316a52bf122072e28f84bcc79844c2684e041fef2e3f1d9f59078"
  },
  "kernelspec": {
   "display_name": "Python 3.10.0 64-bit",
   "language": "python",
   "name": "python3"
  },
  "language_info": {
   "codemirror_mode": {
    "name": "ipython",
    "version": 3
   },
   "file_extension": ".py",
   "mimetype": "text/x-python",
   "name": "python",
   "nbconvert_exporter": "python",
   "pygments_lexer": "ipython3",
   "version": "3.9.6"
  },
  "orig_nbformat": 4
 },
 "nbformat": 4,
 "nbformat_minor": 2
}
