{
 "cells": [
  {
   "cell_type": "markdown",
   "metadata": {},
   "source": [
    "# **The PlayGame and SpectateGame classes**"
   ]
  },
  {
   "cell_type": "markdown",
   "metadata": {},
   "source": [
    "This notebook provides documentaion for the ```PlayGame``` and ```SpectateGame``` classes."
   ]
  },
  {
   "cell_type": "markdown",
   "metadata": {},
   "source": [
    "Run the following codeblocks to import the ```PlayGame``` and ```SpectateGame``` classes into this notebook."
   ]
  },
  {
   "cell_type": "code",
   "execution_count": 1,
   "metadata": {},
   "outputs": [
    {
     "name": "stdout",
     "output_type": "stream",
     "text": [
      "Current Directory: c:\\Users\\Brad\\Documents\\Projects\\Python\\fivecarddraw\n"
     ]
    }
   ],
   "source": [
    "from os import chdir, getcwd\n",
    "\n",
    "if not getcwd().endswith(\"fivecarddraw\"):\n",
    "    chdir(\"..\")\n",
    "    \n",
    "print(f\"Current Directory: {getcwd()}\")"
   ]
  },
  {
   "cell_type": "code",
   "execution_count": 2,
   "metadata": {},
   "outputs": [],
   "source": [
    "from fivecarddraw import PlayGame, SpectateGame"
   ]
  },
  {
   "cell_type": "markdown",
   "metadata": {},
   "source": [
    "## **Initialisation**"
   ]
  },
  {
   "cell_type": "markdown",
   "metadata": {},
   "source": [
    "### **PlayGame()**"
   ]
  },
  {
   "cell_type": "markdown",
   "metadata": {},
   "source": [
    "The ```PlayGame``` object is a single-player, non-asynchronous, fivecarddraw game loop against bots. It accepts the following parameters:\n",
    " * ```chips: int``` for specifying the starting amount of chips for each player, which defaults to 500.\n",
    " * ```ante: int``` for specifying the amount of chips required to pay the ante, which defaults to 5.\n",
    " * ```opponents: list``` for specifying the names of opponents, which defaults to 4 names."
   ]
  },
  {
   "cell_type": "markdown",
   "metadata": {},
   "source": [
    " Upon intialisation, the game begins. The algorithm for the game loop is as follows:\n",
    "\n",
    " 1. ```PlayGame.Configuration()```\n",
    " 2. Loop with the condition: ```PlayGame.NewHand()``` and the contents:  ```PlayGame.BettingPhase()```, ```PlayGame.SwitchingPhase()```, ```PlayGame.BettingPhase()```, ```PlayGame.EvaluationPhase()```.\n",
    " 3.  ```PlayGame.EndGame()```"
   ]
  },
  {
   "cell_type": "markdown",
   "metadata": {},
   "source": [
    "### **SpectateGame()**"
   ]
  },
  {
   "cell_type": "markdown",
   "metadata": {},
   "source": [
    "The ```SpectateGame``` object is a child of the ```PlayGame``` object, instead being a observable, fivecarddraw game loop for only bots. It accepts the same parameters, and only differs from the ```PlayGame``` object by having it's own versions of two methods, namely: ```SpectateGame.Configuration()``` and ```SpectateGame.NewHand()```. "
   ]
  },
  {
   "cell_type": "markdown",
   "metadata": {},
   "source": [
    "## **The Gameloop**"
   ]
  },
  {
   "cell_type": "markdown",
   "metadata": {},
   "source": [
    "### **Configuration()**"
   ]
  },
  {
   "cell_type": "markdown",
   "metadata": {},
   "source": [
    "The ```PlayGame.Configuration()``` method does the following:\n",
    "\n",
    "* It creates a ```Dealer``` object.\n",
    "* It gets the players name and stores that in the ```PlayGame.HUMAN``` attribute.\n",
    "* It calls ```Dealer.InitializeTable()```\n",
    "* It calls ```Dealer.SetAnte()```\n",
    "\n",
    "The ```SpectateGame.Configuration()``` method does exactly the same except it doesn't get the players name ad create the attribute. For information about ```Dealer``` objects see the [dealer.ipynb](dealer.ipynb) notebook."
   ]
  },
  {
   "cell_type": "markdown",
   "metadata": {},
   "source": [
    "### **NewHand()**"
   ]
  },
  {
   "cell_type": "markdown",
   "metadata": {},
   "source": [
    "The ```PlayGame.NewHand()``` method does the following:\n",
    "\n",
    "* It asserts that ```PlayGame.HUMAN``` has chips using the ```ChipTracker``` object, otherwise it returns ```False```.\n",
    "* It kicks bots from the table who dont have enough chips to pay the ante, using ```Dealer.KickPlayer()```.\n",
    "* It asserts that ```PlayGame.HUMAN``` isn't the only player at the table using the ```SeatTracker``` object, otherwise it asserts ```False```.\n",
    "* It moves the button using ```Dealer.MoveButton()```.\n",
    "* It takes the ante from players using ```Dealer.TakeAnte()```.\n",
    "* It deals hands to players using ```Dealer.Dealhands()```.\n",
    "* It returns ```True``` if all the above conditions are met, starting a new round of five card draw.\n",
    "\n",
    "The ```SpectateGame.NewHand()``` method does the same except for the instructions involving ```PlayGame.HUMAN```. For more information about the ```Dealer``` objects see the [dealer.ipynb](dealer.ipynb). For more information about the ```ChipTracker``` object see the [chips.ipynb](chips.ipynb) notebook. For more information about the ```SeatTracker``` object see the [seats.ipynb](seats.ipynb) notebook."
   ]
  },
  {
   "cell_type": "markdown",
   "metadata": {},
   "source": [
    "### **BettingPhase()**"
   ]
  },
  {
   "cell_type": "markdown",
   "metadata": {},
   "source": [
    "The ```PlayGame.BettingPhase()``` method does the following:\n",
    "\n",
    "* It gets the order that players should act in, disregarding their previous actions, using ```SeatTracker.ActionOrder()```.\n",
    "* It asserts that more than one player needs to act in this phase using ```ActionTracker.ActingPlayers()```, otherwise returns ```True```.\n",
    "* It provides information to each relevant player in sequence using ```Dealer.TableView()```, and gives them the opportunity to take an action using ```ActionTracker.SelectAmount()```.\n",
    "* It asserts that no more actions need to be taken using the ```ActionTracker``` object, otherwise the betting phase is extended using ```ActionTracker.ExtendRound()```.\n",
    "* It returns ```True``` if all the above conditions are met, starting the next phase.\n",
    "\n",
    "For more information about the ```Dealer``` objects see the [dealer.ipynb](dealer.ipynb). For more information about the ```ActionTracker``` object see the [players.ipynb](players.ipynb) notebook.\n"
   ]
  },
  {
   "cell_type": "markdown",
   "metadata": {},
   "source": [
    "### **SwitchingPhase()**"
   ]
  },
  {
   "cell_type": "markdown",
   "metadata": {},
   "source": [
    "The ```PlayGame.SwitchingPhase()``` method does the following: \n",
    "\n",
    "* It gets the order that players should act in, disregarding their previous actions, using ```SeatTracker.ActionOrder()```.\n",
    "* It asserts that more than one player can act in this phase using ```ActionTracker.ActingPlayers()```, otherwise returns ```True```.\n",
    "* It provides information to each relevant player in sequence using ```Dealer.TableView()```, and gives them the opportunity to take an action using ```ActionTracker.SelectDiscards()```.\n",
    "* It returns ```True``` if all the above conditions are met, starting the next phase.\n",
    "\n",
    " For more information about the ```ActionTracker``` object see the [players.ipynb](players.ipynb) notebook.For more information about the ```Dealer``` objects see the [dealer.ipynb](dealer.ipynb)."
   ]
  },
  {
   "cell_type": "markdown",
   "metadata": {},
   "source": [
    "### **EvaluationPhase()**"
   ]
  },
  {
   "cell_type": "markdown",
   "metadata": {},
   "source": [
    "The ```PlayGame.EvaluationPhase()``` method does the following:\n",
    "\n",
    "* It calculates and provides rewards to players using ```Dealer.Payout()```.\n",
    "* It collects cards from players using ```Dealer.CollectCards()```.\n",
    "* It prints a summary of player chipstacks using ```Dealer.Summary()```.\n",
    "\n",
    "For more information about the ```Dealer``` objects see the [dealer.ipynb](dealer.ipynb)."
   ]
  },
  {
   "cell_type": "markdown",
   "metadata": {},
   "source": [
    "### **EndGame()**\n",
    "\n",
    "The ```PlayGame.EndGame()``` method literally just prints a goodbye message."
   ]
  },
  {
   "cell_type": "markdown",
   "metadata": {},
   "source": [
    "## **Demos**"
   ]
  },
  {
   "cell_type": "code",
   "execution_count": null,
   "metadata": {},
   "outputs": [],
   "source": [
    "PlayGame()"
   ]
  },
  {
   "cell_type": "code",
   "execution_count": 3,
   "metadata": {},
   "outputs": [
    {
     "name": "stdout",
     "output_type": "stream",
     "text": [
      "[SETUP] All players have been given 500 chips.\n",
      "[SETUP] The ante has been set to 5 chips.\n",
      "\n",
      "[NEW ROUND]\n",
      "[BUTTON] The button was given to Dan Negreanu.\n",
      "[ANTE] Phil Hellmuth paid 5 chips for the ante.\n",
      "[ANTE] Phil Ivey paid 5 chips for the ante.\n",
      "[ANTE] Gus Hanson paid 5 chips for the ante.\n",
      "[ANTE] Dan Negreanu paid 5 chips for the ante.\n",
      "[CARDS] Hands have been dealt.\n",
      "[ACTION] Phil Ivey has checked.\n",
      "[ACTION] Gus Hanson has checked.\n",
      "[ACTION] Dan Negreanu has raised by 40.\n",
      "[ACTION] Phil Hellmuth has called.\n",
      "[ACTION] Phil Ivey has raised by 455 and gone all-in!\n",
      "[ACTION] Gus Hanson has folded.\n",
      "[ACTION] Dan Negreanu has gone all-in to call!\n",
      "[ACTION] Phil Hellmuth has gone all-in to call!\n",
      "[CARDS] Phil Ivey swapped 3 cards.\n",
      "[CARDS] Dan Negreanu swapped 2 cards.\n",
      "[CARDS] Phil Hellmuth swapped 2 cards.\n",
      "[SHOWDOWN] Phil Hellmuth is holding [K♢, 5♢, 5♠, J♡, Q♢]\n",
      "[SHOWDOWN] Phil Ivey mucked.\n",
      "[SHOWDOWN] Dan Negreanu mucked.\n",
      "[REWARDS] Phil Hellmuth won 1505 with a pair\n",
      "[CARDS] Cards have been collected.\n",
      "[CARDS] The deck has been shuffled.\n",
      "[STANDINGS] Dan Negreanu has got 0 chips remaining.\n",
      "[STANDINGS] Phil Hellmuth has got 1505 chips remaining.\n",
      "[STANDINGS] Phil Ivey has got 0 chips remaining.\n",
      "[STANDINGS] Gus Hanson has got 495 chips remaining.\n",
      "[PLAYER] Dan Negreanu is leaving the table.\n",
      "[PLAYER] Phil Ivey is leaving the table.\n",
      "\n",
      "[NEW ROUND]\n",
      "[BUTTON] The button was given to Phil Hellmuth.\n",
      "[ANTE] Gus Hanson paid 5 chips for the ante.\n",
      "[ANTE] Phil Hellmuth paid 5 chips for the ante.\n",
      "[CARDS] Hands have been dealt.\n",
      "[ACTION] Phil Hellmuth has raised by 20.\n",
      "[ACTION] Gus Hanson has raised by 40.\n",
      "[ACTION] Phil Hellmuth has raised by 140.\n",
      "[ACTION] Gus Hanson has raised by 290 and gone all-in!\n",
      "[ACTION] Phil Hellmuth has raised by 290.\n",
      "[CARDS] Phil Hellmuth swapped 3 cards.\n",
      "[CARDS] Gus Hanson swapped 1 cards.\n",
      "[SHOWDOWN] Gus Hanson is holding [9♠, 2♠, A♢, 7♣, A♣]\n",
      "[SHOWDOWN] Phil Hellmuth mucked.\n",
      "[REWARDS] Gus Hanson won 990 with a pair\n",
      "[REWARDS] Phil Hellmuth got 290 chips back.\n",
      "[CARDS] Cards have been collected.\n",
      "[CARDS] The deck has been shuffled.\n",
      "[STANDINGS] Phil Hellmuth has got 1010 chips remaining.\n",
      "[STANDINGS] Gus Hanson has got 990 chips remaining.\n",
      "\n",
      "[NEW ROUND]\n",
      "[BUTTON] The button was given to Gus Hanson.\n",
      "[ANTE] Phil Hellmuth paid 5 chips for the ante.\n",
      "[ANTE] Gus Hanson paid 5 chips for the ante.\n",
      "[CARDS] Hands have been dealt.\n",
      "[ACTION] Gus Hanson has checked.\n",
      "[ACTION] Phil Hellmuth has checked.\n",
      "[CARDS] Gus Hanson swapped 2 cards.\n",
      "[CARDS] Phil Hellmuth swapped 3 cards.\n",
      "[ACTION] Gus Hanson has raised by 985 and gone all-in!\n",
      "[ACTION] Phil Hellmuth has folded.\n",
      "[SHOWDOWN] Gus Hanson won 995 chips.\n",
      "[CARDS] Cards have been collected.\n",
      "[CARDS] The deck has been shuffled.\n",
      "[STANDINGS] Phil Hellmuth has got 1005 chips remaining.\n",
      "[STANDINGS] Gus Hanson has got 0 chips remaining.\n",
      "[PLAYER] Gus Hanson is leaving the table.\n",
      "[END] Phil Hellmuth has won!\n",
      "[END] Thanks for playing!\n"
     ]
    },
    {
     "data": {
      "text/plain": [
       "<fivecarddraw.SpectateGame at 0x2885459e8c0>"
      ]
     },
     "execution_count": 3,
     "metadata": {},
     "output_type": "execute_result"
    }
   ],
   "source": [
    "SpectateGame()"
   ]
  }
 ],
 "metadata": {
  "kernelspec": {
   "display_name": "Python 3.10.3 64-bit",
   "language": "python",
   "name": "python3"
  },
  "language_info": {
   "codemirror_mode": {
    "name": "ipython",
    "version": 3
   },
   "file_extension": ".py",
   "mimetype": "text/x-python",
   "name": "python",
   "nbconvert_exporter": "python",
   "pygments_lexer": "ipython3",
   "version": "3.10.3"
  },
  "orig_nbformat": 4,
  "vscode": {
   "interpreter": {
    "hash": "607db476e417971f05b607c2dd14e77ee8262c2c4c20dea422522c60605a222a"
   }
  }
 },
 "nbformat": 4,
 "nbformat_minor": 2
}
