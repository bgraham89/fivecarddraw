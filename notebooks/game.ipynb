{
 "cells": [
  {
   "cell_type": "markdown",
   "metadata": {},
   "source": [
    "# **The PlayGame and SpectateGame classes**"
   ]
  },
  {
   "cell_type": "markdown",
   "metadata": {},
   "source": [
    "This notebook provides documentaion for the ```PlayGame``` and ```SpectateGame``` classes."
   ]
  },
  {
   "cell_type": "markdown",
   "metadata": {},
   "source": [
    "Run the following codeblocks to import the ```PlayGame``` and ```SpectateGame``` classes into this notebook."
   ]
  },
  {
   "cell_type": "code",
   "execution_count": 3,
   "metadata": {},
   "outputs": [
    {
     "name": "stdout",
     "output_type": "stream",
     "text": [
      "Current Directory: d:\\My Projects\\Programming\\Game Development\\fivecarddraw\n"
     ]
    }
   ],
   "source": [
    "from os import chdir, getcwd\n",
    "\n",
    "if not getcwd().endswith(\"fivecarddraw\"):\n",
    "    chdir(\"..\")\n",
    "    \n",
    "print(f\"Current Directory: {getcwd()}\")"
   ]
  },
  {
   "cell_type": "code",
   "execution_count": 4,
   "metadata": {},
   "outputs": [],
   "source": [
    "from fivecarddraw import PlayGame, SpectateGame"
   ]
  },
  {
   "cell_type": "markdown",
   "metadata": {},
   "source": [
    "## **The Gameloop**"
   ]
  },
  {
   "cell_type": "markdown",
   "metadata": {},
   "source": [
    "The gameloop consists of 3 main phases:\n",
    "* ```BettingPhase()```\n",
    "* ```SwitchingPhase()```\n",
    "* ```EvaluationPhase()```"
   ]
  },
  {
   "cell_type": "markdown",
   "metadata": {},
   "source": [
    "## **Starting a Game of Five Card Draw**"
   ]
  },
  {
   "cell_type": "markdown",
   "metadata": {},
   "source": [
    "### **One Human, Four AI**"
   ]
  },
  {
   "cell_type": "code",
   "execution_count": 5,
   "metadata": {},
   "outputs": [
    {
     "name": "stdout",
     "output_type": "stream",
     "text": [
      "\n",
      "\n",
      "[SETUP] All players have been given 500 chips.\n",
      "[SETUP] The ante has been set to 5 chips.\n",
      "\n",
      "[NEW ROUND]\n",
      "[BUTTON] The button was given to Phil Hellmuth.\n",
      "[ANTE] Brad paid 5 chips for the ante.\n",
      "[ANTE] Gus Hanson paid 5 chips for the ante.\n",
      "[ANTE] Phil Ivey paid 5 chips for the ante.\n",
      "[ANTE] Dan Negreanu paid 5 chips for the ante.\n",
      "[ANTE] Phil Hellmuth paid 5 chips for the ante.\n",
      "[CARDS] Hands have been dealt.\n",
      "[INFO] Your cards are [9♡, A♠, 6♡, 8♣, J♣]\n",
      "[INFO] There are 25 chips in the pot.\n",
      "[INFO] You have 495 chips remaining.\n",
      "[INFO] The amount to call is 0 chips.\n",
      "[ACTION] Brad has raised by 495 and gone all-in!\n",
      "[ACTION] Gus Hanson has gone all-in to call!\n",
      "[ACTION] Phil Ivey has gone all-in to call!\n",
      "[ACTION] Dan Negreanu has gone all-in to call!\n",
      "[ACTION] Phil Hellmuth has gone all-in to call!\n",
      "[INFO] Your cards are [9♡, A♠, 6♡, 8♣, J♣]\n",
      "[CARDS] Brad didn't swap any cards.\n",
      "[CARDS] Gus Hanson swapped 2 cards.\n",
      "[CARDS] Phil Ivey swapped 3 cards.\n",
      "[CARDS] Dan Negreanu swapped 2 cards.\n",
      "[CARDS] Phil Hellmuth swapped 1 cards.\n",
      "[SHOWDOWN] Brad is holding [9♡, A♠, 6♡, 8♣, J♣]\n",
      "[SHOWDOWN] Gus Hanson is holding [3♠, 3♡, Q♣, 4♡, 4♢]\n",
      "[SHOWDOWN] Phil Ivey is holding [A♡, 6♣, Q♢, 3♣, A♣]\n",
      "[SHOWDOWN] Dan Negreanu is holding [2♡, 5♢, 4♣, 7♠, 10♠]\n",
      "[SHOWDOWN] Phil Hellmuth is holding [9♣, 3♢, 5♡, K♡, 10♣]\n",
      "[REWARDS] Gus Hanson won 2500 with a two pair\n",
      "[CARDS] Hands have been collected.\n",
      "[CARDS] The deck has been shuffled.\n",
      "[STANDINGS] Phil Hellmuth has got 0 chips remaining.\n",
      "[STANDINGS] Brad has got 0 chips remaining.\n",
      "[STANDINGS] Gus Hanson has got 2500 chips remaining.\n",
      "[STANDINGS] Phil Ivey has got 0 chips remaining.\n",
      "[STANDINGS] Dan Negreanu has got 0 chips remaining.\n",
      "[END] Game over Brad, better luck next time.\n",
      "[END] Thanks for playing!\n"
     ]
    },
    {
     "data": {
      "text/plain": [
       "<fivecarddraw.PlayGame at 0x1dc26d7ed10>"
      ]
     },
     "execution_count": 5,
     "metadata": {},
     "output_type": "execute_result"
    }
   ],
   "source": [
    "PlayGame()"
   ]
  },
  {
   "cell_type": "markdown",
   "metadata": {},
   "source": [
    "### **Four AI**"
   ]
  },
  {
   "cell_type": "code",
   "execution_count": 6,
   "metadata": {},
   "outputs": [
    {
     "name": "stdout",
     "output_type": "stream",
     "text": [
      "\n",
      "\n",
      "[SETUP] All players have been given 500 chips.\n",
      "[SETUP] The ante has been set to 5 chips.\n",
      "\n",
      "[NEW ROUND]\n",
      "[BUTTON] The button was given to Phil Ivey.\n",
      "[ANTE] Gus Hanson paid 5 chips for the ante.\n",
      "[ANTE] Dan Negreanu paid 5 chips for the ante.\n",
      "[ANTE] Phil Hellmuth paid 5 chips for the ante.\n",
      "[ANTE] Phil Ivey paid 5 chips for the ante.\n",
      "[CARDS] Hands have been dealt.\n",
      "[ACTION] Dan Negreanu has checked.\n",
      "[ACTION] Phil Hellmuth has checked.\n",
      "[ACTION] Phil Ivey has raised by 40.\n",
      "[ACTION] Gus Hanson has raised by 80.\n",
      "[ACTION] Dan Negreanu has raised by 240.\n",
      "[ACTION] Phil Hellmuth has raised by 135 and gone all-in!\n",
      "[ACTION] Phil Ivey has gone all-in to call!\n",
      "[ACTION] Gus Hanson has folded.\n",
      "[ACTION] Dan Negreanu has gone all-in to call!\n",
      "[CARDS] Dan Negreanu swapped 3 cards.\n",
      "[CARDS] Phil Hellmuth swapped 3 cards.\n",
      "[CARDS] Phil Ivey swapped 2 cards.\n",
      "[SHOWDOWN] Dan Negreanu is holding [7♢, 4♣, K♢, A♣, 6♣]\n",
      "[SHOWDOWN] Phil Hellmuth is holding [5♡, Q♡, 4♢, 2♣, 10♣]\n",
      "[SHOWDOWN] Phil Ivey is holding [2♠, Q♢, 6♠, A♢, 3♡]\n",
      "[REWARDS] Dan Negreanu won 1625 with a High card\n",
      "[CARDS] Hands have been collected.\n",
      "[CARDS] The deck has been shuffled.\n",
      "[STANDINGS] Phil Ivey has got 0 chips remaining.\n",
      "[STANDINGS] Gus Hanson has got 375 chips remaining.\n",
      "[STANDINGS] Dan Negreanu has got 1625 chips remaining.\n",
      "[STANDINGS] Phil Hellmuth has got 0 chips remaining.\n",
      "[PLAYER] Phil Ivey is leaving the table.\n",
      "[PLAYER] Phil Hellmuth is leaving the table.\n",
      "\n",
      "[NEW ROUND]\n",
      "[BUTTON] The button was given to Gus Hanson.\n",
      "[ANTE] Dan Negreanu paid 5 chips for the ante.\n",
      "[ANTE] Gus Hanson paid 5 chips for the ante.\n",
      "[CARDS] Hands have been dealt.\n",
      "[ACTION] Gus Hanson has raised by 20.\n",
      "[ACTION] Dan Negreanu has raised by 10.\n",
      "[ACTION] Gus Hanson has raised by 340 and gone all-in!\n",
      "[ACTION] Dan Negreanu has raised by 480.\n",
      "[CARDS] Gus Hanson swapped 4 cards.\n",
      "[CARDS] Dan Negreanu swapped 3 cards.\n",
      "[SHOWDOWN] Dan Negreanu is holding [4♢, 7♠, 2♢, 2♠, 4♣]\n",
      "[SHOWDOWN] Gus Hanson is holding [A♡, 9♡, K♠, A♠, 4♡]\n",
      "[REWARDS] Dan Negreanu won 1230 with a two pair\n",
      "[CARDS] Hands have been collected.\n",
      "[CARDS] The deck has been shuffled.\n",
      "[STANDINGS] Gus Hanson has got 0 chips remaining.\n",
      "[STANDINGS] Dan Negreanu has got 2000 chips remaining.\n",
      "[PLAYER] Gus Hanson is leaving the table.\n",
      "[END] Dan Negreanu has won!\n",
      "[END] Thanks for playing!\n"
     ]
    },
    {
     "data": {
      "text/plain": [
       "<fivecarddraw.SpectateGame at 0x1dc26d7d420>"
      ]
     },
     "execution_count": 6,
     "metadata": {},
     "output_type": "execute_result"
    }
   ],
   "source": [
    "SpectateGame()"
   ]
  }
 ],
 "metadata": {
  "interpreter": {
   "hash": "aecd030d4c8316a52bf122072e28f84bcc79844c2684e041fef2e3f1d9f59078"
  },
  "kernelspec": {
   "display_name": "Python 3.10.0 64-bit",
   "language": "python",
   "name": "python3"
  },
  "language_info": {
   "codemirror_mode": {
    "name": "ipython",
    "version": 3
   },
   "file_extension": ".py",
   "mimetype": "text/x-python",
   "name": "python",
   "nbconvert_exporter": "python",
   "pygments_lexer": "ipython3",
   "version": "3.10.0"
  },
  "orig_nbformat": 4
 },
 "nbformat": 4,
 "nbformat_minor": 2
}
