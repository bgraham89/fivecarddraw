{
 "cells": [
  {
   "cell_type": "markdown",
   "metadata": {},
   "source": [
    "# **The SeatTracker class**"
   ]
  },
  {
   "cell_type": "markdown",
   "metadata": {},
   "source": [
    "This notebook provides information about ```SeatTracker``` objects."
   ]
  },
  {
   "cell_type": "markdown",
   "metadata": {},
   "source": [
    "Run the following codeblocks to import the ```SeatTracker``` class into this notebook."
   ]
  },
  {
   "cell_type": "code",
   "execution_count": 5,
   "metadata": {},
   "outputs": [
    {
     "name": "stdout",
     "output_type": "stream",
     "text": [
      "Current Directory: d:\\My Projects\\Programming\\Game Development\\fivecarddraw\n"
     ]
    }
   ],
   "source": [
    "from os import chdir, getcwd\n",
    "\n",
    "if not getcwd().endswith(\"fivecarddraw\"):\n",
    "    chdir(\"..\")\n",
    "    \n",
    "print(f\"Current Directory: {getcwd()}\")"
   ]
  },
  {
   "cell_type": "code",
   "execution_count": 6,
   "metadata": {},
   "outputs": [],
   "source": [
    "from fivecarddraw import SeatTracker"
   ]
  },
  {
   "cell_type": "markdown",
   "metadata": {},
   "source": [
    "## **SeatTracker Functionality**"
   ]
  },
  {
   "cell_type": "markdown",
   "metadata": {},
   "source": [
    "### **Initialisation**"
   ]
  },
  {
   "cell_type": "markdown",
   "metadata": {},
   "source": [
    "The ```SeatTracker``` class is designed to be mediated by ```Dealer``` objects. Upon initialisation:\n",
    "* It creates attributes to track an amount of seats, and the occupants of those seats.\n",
    "* It creates attributes to track which seat has the button, big blind and small blind.\n",
    "* It creates attributes to track which seat the next player to act is occupying.\n",
    "\n",
    "More details can be found below."
   ]
  },
  {
   "cell_type": "markdown",
   "metadata": {},
   "source": [
    "### **Seating players**"
   ]
  },
  {
   "cell_type": "markdown",
   "metadata": {},
   "source": [
    "```SeatTracker``` objects have the following attributes for tracking an amount of seats and the occupants of those seats:\n",
    "* ```SeatTracker.count``` which is the amount of seats to track as an ```int```. \n",
    "* ```SeatTracker.seats``` which is a ```list``` with indices corresponding to seats, and ```string``` values that are the names of occupants (otherwise empty).\n",
    "* ```SeatTracker.players``` which is a ```dict``` that stores information about the occupants being tracked, namely an ```int``` corresponding to a seat."
   ]
  },
  {
   "cell_type": "code",
   "execution_count": 3,
   "metadata": {},
   "outputs": [
    {
     "name": "stdout",
     "output_type": "stream",
     "text": [
      "Amount of seats being tracked: 6\n",
      "Occupants: ['', '', '', '', '', '']\n"
     ]
    }
   ],
   "source": [
    "tracker = SeatTracker(6)\n",
    "print(f\"Amount of seats being tracked: {tracker.count}\")\n",
    "print(f\"Occupants: {tracker.seats}\")"
   ]
  },
  {
   "cell_type": "markdown",
   "metadata": {},
   "source": [
    "The intended way to add an occupant to a seat is to use the ```SeatTracker.AddPlayer(name, seat)``` method. This results in ```SeatTracker.seats``` and ```SeatTracker.players``` being tracked correctly."
   ]
  },
  {
   "cell_type": "code",
   "execution_count": 5,
   "metadata": {},
   "outputs": [
    {
     "name": "stdout",
     "output_type": "stream",
     "text": [
      "seats: ['', '', '', 'Brad', '', '']\n",
      "player details: {'Brad': {'seat': 3}}\n"
     ]
    }
   ],
   "source": [
    "tracker = SeatTracker(6)\n",
    "tracker.AddPlayer(\"Brad\", 3)\n",
    "print(f\"seats: {tracker.seats}\")\n",
    "print(f\"player details: {tracker.players}\")"
   ]
  },
  {
   "cell_type": "markdown",
   "metadata": {},
   "source": [
    "The intended way to remove an occupant to a seat is to use the ```SeatTracker.KickPlayer(name)``` method. This results in ```SeatTracker.seats``` and ```SeatTracker.players``` being tracked correctly."
   ]
  },
  {
   "cell_type": "code",
   "execution_count": 6,
   "metadata": {},
   "outputs": [
    {
     "name": "stdout",
     "output_type": "stream",
     "text": [
      "seats: ['', '', '', '', '', '']\n",
      "player details: {}\n"
     ]
    }
   ],
   "source": [
    "tracker.KickPlayer(\"Brad\")\n",
    "print(f\"seats: {tracker.seats}\")\n",
    "print(f\"player details: {tracker.players}\")"
   ]
  },
  {
   "cell_type": "markdown",
   "metadata": {},
   "source": [
    "Alternatively, occupants can be added using the ```SeatTracker.AddPlayers(players)``` method, which fills any empty seats it can with the occupants specified."
   ]
  },
  {
   "cell_type": "code",
   "execution_count": 3,
   "metadata": {},
   "outputs": [
    {
     "name": "stdout",
     "output_type": "stream",
     "text": [
      "seats: ['Brad', 'Phil', 'Gus', '', '', '']\n",
      "player details: {'Brad': {'seat': 0}, 'Phil': {'seat': 1}, 'Gus': {'seat': 2}}\n"
     ]
    }
   ],
   "source": [
    "players = (\"Brad\", \"Phil\", \"Gus\")\n",
    "\n",
    "tracker = SeatTracker(6)\n",
    "tracker.AddPlayers(players)\n",
    "print(f\"seats: {tracker.seats}\")\n",
    "print(f\"player details: {tracker.players}\")\n"
   ]
  },
  {
   "cell_type": "markdown",
   "metadata": {},
   "source": [
    "### **Tracking a button**"
   ]
  },
  {
   "cell_type": "markdown",
   "metadata": {},
   "source": [
    "```SeatTracker``` objects have the following attributes for tracking a button:\n",
    "* ```SeatTracker.button``` which is a ```dict``` that contains information about the button, including:\n",
    "    * ```SeatTracker.button[\"seat\"]``` which is an ```int``` corresponding to a seat.\n",
    "    * ```SeatTracker.button[\"player\"]``` which is a ```string``` specifying an occupants name (otherwise empty).\n",
    "    * ```SeatTracker.button[\"queue\"]``` which is a ```list``` of occupants in _dealing order_.\n",
    "\n",
    "The intended way to move the button is to use the ```SeatTracker.NextButtonPlayer()``` method, which moves the button to the next player determined by seat indices, if possible. Otherwise the button is moved to the next empty seat."
   ]
  },
  {
   "cell_type": "code",
   "execution_count": 3,
   "metadata": {},
   "outputs": [
    {
     "data": {
      "text/plain": [
       "{'Brad': {'seat': 0}, 'Phil': {'seat': 1}, 'Gus': {'seat': 2}}"
      ]
     },
     "execution_count": 3,
     "metadata": {},
     "output_type": "execute_result"
    }
   ],
   "source": [
    "players = (\"Brad\", \"Phil\", \"Gus\")\n",
    "\n",
    "tracker = SeatTracker(6)\n",
    "tracker.AddPlayers(players)"
   ]
  },
  {
   "cell_type": "code",
   "execution_count": 8,
   "metadata": {},
   "outputs": [
    {
     "name": "stdout",
     "output_type": "stream",
     "text": [
      "Button seat: 1\n",
      "Button player: Phil\n",
      "Dealing order: ['Gus', 'Brad', 'Phil']\n"
     ]
    }
   ],
   "source": [
    "tracker.NextButtonPlayer()\n",
    "print(f\"Button seat: {tracker.button['seat']}\")\n",
    "print(f\"Button player: {tracker.button['player']}\")\n",
    "print(f\"Dealing order: {tracker.button['queue']}\")"
   ]
  },
  {
   "cell_type": "markdown",
   "metadata": {},
   "source": [
    "## **Convenience Methods**"
   ]
  },
  {
   "cell_type": "markdown",
   "metadata": {},
   "source": [
    "```SeatTracker``` objects have the following additional convenience methods:\n",
    "* ```SeatTracker.DealingOrder()``` - returns player names in correct order for dealing to.\n",
    "* ```SeatTracker.ActionOrder()``` - returns player names in correct order for taking actions.\n",
    "* ```SeatTracker.Names()``` - returns player names.\n",
    "* ```SeatTracker.AvailableSeats()``` - returns the indices of seats that aren't occupied.\n"
   ]
  },
  {
   "cell_type": "code",
   "execution_count": 7,
   "metadata": {},
   "outputs": [
    {
     "name": "stdout",
     "output_type": "stream",
     "text": [
      "Button player: Brad\n"
     ]
    }
   ],
   "source": [
    "players = (\"Brad\", \"Phil\", \"Gus\")\n",
    "\n",
    "tracker = SeatTracker(6)\n",
    "tracker.AddPlayers(players)\n",
    "tracker.NextButtonPlayer()\n",
    "print(f\"Button player: {tracker.button['player']}\")"
   ]
  },
  {
   "cell_type": "code",
   "execution_count": 8,
   "metadata": {},
   "outputs": [
    {
     "name": "stdout",
     "output_type": "stream",
     "text": [
      "Names: ['Brad', 'Phil', 'Gus']\n",
      "Dealing Order: ['Phil', 'Gus', 'Brad']\n",
      "Action Order: ['Brad', 'Phil', 'Gus']\n",
      "Empty Seats: [3, 4, 5]\n"
     ]
    }
   ],
   "source": [
    "print(f\"Names: {tracker.Names()}\")\n",
    "print(f\"Dealing Order: {tracker.DealingOrder()}\")\n",
    "print(f\"Action Order: {tracker.ActionOrder()}\")\n",
    "print(f\"Empty Seats: {tracker.AvailableSeats()}\")"
   ]
  }
 ],
 "metadata": {
  "interpreter": {
   "hash": "085635c7bab703e7bb5a41fe64c7278518d529ae783e191374674f75ba478b45"
  },
  "kernelspec": {
   "display_name": "Python 3.10.3 64-bit",
   "language": "python",
   "name": "python3"
  },
  "language_info": {
   "codemirror_mode": {
    "name": "ipython",
    "version": 3
   },
   "file_extension": ".py",
   "mimetype": "text/x-python",
   "name": "python",
   "nbconvert_exporter": "python",
   "pygments_lexer": "ipython3",
   "version": "3.10.0"
  },
  "orig_nbformat": 4
 },
 "nbformat": 4,
 "nbformat_minor": 2
}
