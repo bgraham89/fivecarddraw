{
 "cells": [
  {
   "cell_type": "markdown",
   "metadata": {},
   "source": [
    "# The Dealer class"
   ]
  },
  {
   "cell_type": "markdown",
   "metadata": {},
   "source": [
    "This notebook provides some documentation about Dealer objects."
   ]
  },
  {
   "cell_type": "markdown",
   "metadata": {},
   "source": [
    "## Importing the Dealer class"
   ]
  },
  {
   "cell_type": "markdown",
   "metadata": {},
   "source": [
    "The current working directory needs to be \"fivecarddraw\" in order to run the code cells of this notebook. Assuming the fivecarddraw repository has been cloned, then this notebook is contained within the \"fivecarddraw/notebooks\" folder. To change the current working directory, run the next cell."
   ]
  },
  {
   "cell_type": "code",
   "execution_count": 15,
   "metadata": {},
   "outputs": [
    {
     "name": "stdout",
     "output_type": "stream",
     "text": [
      "Current Directory: d:\\My Projects\\Python\\Games\\fivecarddraw\n"
     ]
    }
   ],
   "source": [
    "from os import chdir, getcwd\n",
    "\n",
    "if not getcwd().endswith(\"fivecarddraw\"):\n",
    "    chdir(\"..\")\n",
    "    \n",
    "print(f\"Current Directory: {getcwd()}\")"
   ]
  },
  {
   "cell_type": "markdown",
   "metadata": {},
   "source": [
    "Then the Dealer class can be imported in the usual pythonic way."
   ]
  },
  {
   "cell_type": "code",
   "execution_count": 16,
   "metadata": {},
   "outputs": [],
   "source": [
    "from fivecarddraw import Dealer"
   ]
  },
  {
   "cell_type": "markdown",
   "metadata": {},
   "source": [
    "## Creating a Dealer"
   ]
  },
  {
   "cell_type": "markdown",
   "metadata": {},
   "source": [
    "The Dealer class is a subclass of the Table class, which is essentially a list of Player objects, with a Deck and a pot. The Dealer class can therefore access any gamestate related data, to perform any actions it needs to. A consequence of the inheritence is that Dealers need to be initialised with a list of Player objects.  "
   ]
  },
  {
   "cell_type": "code",
   "execution_count": 17,
   "metadata": {},
   "outputs": [
    {
     "name": "stdout",
     "output_type": "stream",
     "text": [
      "Players: [Player 1, Player 2, Player 3, Player 4, Player 5]\n"
     ]
    }
   ],
   "source": [
    "from fivecarddraw import Player\n",
    "\n",
    "players = [Player(f\"Player {i+1}\") for i in range(5)]\n",
    "print(f\"Players: {players}\")"
   ]
  },
  {
   "cell_type": "markdown",
   "metadata": {},
   "source": [
    "Initialising the dealer will take a moment as the dealer object will populate 3 quite large lookup tables. The lookup tables play a part in hand evaluation, which is outlined in more detail in the hand.ipynb notebook."
   ]
  },
  {
   "cell_type": "code",
   "execution_count": 18,
   "metadata": {},
   "outputs": [
    {
     "name": "stdout",
     "output_type": "stream",
     "text": [
      "Players: [Player 1, Player 2, Player 3, Player 4, Player 5]\n",
      "Deck: [2♠, 3♠, 4♠, 5♠, 6♠, 7♠, 8♠, 9♠, 10♠, J♠, Q♠, K♠, A♠, 2♡, 3♡, 4♡, 5♡, 6♡, 7♡, 8♡, 9♡, 10♡, J♡, Q♡, K♡, A♡, 2♢, 3♢, 4♢, 5♢, 6♢, 7♢, 8♢, 9♢, 10♢, J♢, Q♢, K♢, A♢, 2♣, 3♣, 4♣, 5♣, 6♣, 7♣, 8♣, 9♣, 10♣, J♣, Q♣, K♣, A♣]\n"
     ]
    }
   ],
   "source": [
    "dealer = Dealer(players)\n",
    "\n",
    "print(f\"Players: {dealer}\")\n",
    "print(f\"Deck: {dealer.deck}\")"
   ]
  },
  {
   "cell_type": "markdown",
   "metadata": {},
   "source": [
    "## Tracking the Table Button "
   ]
  },
  {
   "cell_type": "markdown",
   "metadata": {},
   "source": [
    "The table button is tracked by maintaining a sequence of players, that mimics player seat positions clockwise around a table; and cycling the sequence, so that the player who has the button is last in the sequence. This means that turn order begins with the player at index 0 of the dealer."
   ]
  },
  {
   "cell_type": "code",
   "execution_count": 12,
   "metadata": {},
   "outputs": [
    {
     "name": "stdout",
     "output_type": "stream",
     "text": [
      "Players: [Player 1, Player 2, Player 3, Player 4, Player 5]\n",
      "Button player: Player 5\n"
     ]
    }
   ],
   "source": [
    "dealer.MoveButton()\n",
    "print(f\"Players: {dealer}\")\n",
    "print(f\"Button player: {dealer[-1]}\")"
   ]
  },
  {
   "cell_type": "markdown",
   "metadata": {},
   "source": [
    "## Dealing, Evaluating and Collecting Hands"
   ]
  },
  {
   "cell_type": "markdown",
   "metadata": {},
   "source": [
    "The way that Dealers deal hands mimics the way that casino dealers deal hands at casinos. The deck is shuffled. Then a card is given to each player starting from index 0, and then another card is dealt to each 4 more times. Evaluation and collection is outlined in the hand.ipynb notebook. "
   ]
  },
  {
   "cell_type": "code",
   "execution_count": 29,
   "metadata": {},
   "outputs": [
    {
     "name": "stdout",
     "output_type": "stream",
     "text": [
      "Player 1's hand: A♢ J♢ 3♢ 4♢ 9♢ (The number 653 best possible hand with flush.)\n",
      "Player 2's hand: 8♣ Q♡ 7♣ 7♠ 2♢ (The number 4991 best possible hand with pair.)\n",
      "Player 3's hand: 8♠ Q♢ 3♠ 7♢ 9♠ (The number 7150 best possible hand with high card.)\n",
      "Player 4's hand: 5♠ 7♡ 10♢ 9♡ K♢ (The number 6889 best possible hand with high card.)\n",
      "Player 5's hand: 2♡ 4♠ 2♠ Q♣ K♠ (The number 6028 best possible hand with pair.)\n"
     ]
    }
   ],
   "source": [
    "dealer.ShuffleDeck()\n",
    "dealer.DealHands()\n",
    "rankings = dealer.EvaluateHands()\n",
    "\n",
    "for i in range(len(dealer)):\n",
    "    rating, hit = rankings[str(dealer[i])], dealer.Lookup(rankings[str(dealer[i])])\n",
    "    print(f\"{dealer[i]}'s hand: {dealer[i].hand} (The number {rating} best possible hand with {hit}.)\")\n",
    "\n",
    "dealer.CollectCards()"
   ]
  },
  {
   "cell_type": "markdown",
   "metadata": {},
   "source": [
    "## Taking Bets"
   ]
  },
  {
   "cell_type": "markdown",
   "metadata": {},
   "source": [
    "The Dealer class is given the responsibility to take bets from players and put them in the pot, and this is mainly to ensure that the bets are legal, and are communicated to everybody. The semantics of this process might look a little bit off, but the gameplay loop itself is a subclass of the Dealer class, so when these methods are used in an actual game by the FiveCardDraw object, the semantics make more sense. "
   ]
  },
  {
   "cell_type": "code",
   "execution_count": 19,
   "metadata": {},
   "outputs": [
    {
     "name": "stdout",
     "output_type": "stream",
     "text": [
      "Player 1 has 100 chips.\n",
      "Player 2 has 100 chips.\n",
      "Player 3 has 100 chips.\n",
      "Player 4 has 100 chips.\n",
      "Player 5 has 100 chips.\n"
     ]
    }
   ],
   "source": [
    "for player in dealer:\n",
    "    player.chips += 100\n",
    "    print(f\"{player} has {player.chips} chips.\")\n",
    "\n",
    "dealer.ante = 10\n",
    "dealer.TakeAnte()\n"
   ]
  }
 ],
 "metadata": {
  "interpreter": {
   "hash": "aecd030d4c8316a52bf122072e28f84bcc79844c2684e041fef2e3f1d9f59078"
  },
  "kernelspec": {
   "display_name": "Python 3.10.0 64-bit",
   "language": "python",
   "name": "python3"
  },
  "language_info": {
   "codemirror_mode": {
    "name": "ipython",
    "version": 3
   },
   "file_extension": ".py",
   "mimetype": "text/x-python",
   "name": "python",
   "nbconvert_exporter": "python",
   "pygments_lexer": "ipython3",
   "version": "3.10.0"
  },
  "orig_nbformat": 4
 },
 "nbformat": 4,
 "nbformat_minor": 2
}
