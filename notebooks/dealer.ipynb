{
 "cells": [
  {
   "cell_type": "markdown",
   "metadata": {},
   "source": [
    "# **The Dealer class**"
   ]
  },
  {
   "cell_type": "markdown",
   "metadata": {},
   "source": [
    "This notebook provides some documentation about ```Dealer``` objects."
   ]
  },
  {
   "cell_type": "markdown",
   "metadata": {},
   "source": [
    "Run the following codeblocks to import the ```Dealer``` class into this notebook."
   ]
  },
  {
   "cell_type": "code",
   "execution_count": 2,
   "metadata": {},
   "outputs": [
    {
     "name": "stdout",
     "output_type": "stream",
     "text": [
      "Current Directory: d:\\My Projects\\Python\\Games\\fivecarddraw\n"
     ]
    }
   ],
   "source": [
    "from os import chdir, getcwd\n",
    "\n",
    "if not getcwd().endswith(\"fivecarddraw\"):\n",
    "    chdir(\"..\")\n",
    "    \n",
    "print(f\"Current Directory: {getcwd()}\")"
   ]
  },
  {
   "cell_type": "code",
   "execution_count": 40,
   "metadata": {},
   "outputs": [],
   "source": [
    "from fivecarddraw import Dealer"
   ]
  },
  {
   "cell_type": "markdown",
   "metadata": {},
   "source": [
    "## **Dealer Functionality**"
   ]
  },
  {
   "cell_type": "markdown",
   "metadata": {},
   "source": [
    "### **Initialisation**"
   ]
  },
  {
   "cell_type": "markdown",
   "metadata": {},
   "source": [
    "The ```Dealer``` class creates the following attributes upon initialisation::\n",
    "* ```Dealer.cards = HandTracker()``` for card based logic.\n",
    "* ```Dealer.seats = SeatTracker()``` for seat based logic.\n",
    "* ```Dealer.chips = ChipTracker()``` for chips based logic.\n",
    "* ```Dealer.action = ActionTracker()``` for player based logic.\n",
    "\n",
    "More details can be found below. "
   ]
  },
  {
   "cell_type": "markdown",
   "metadata": {},
   "source": [
    "### **Providing high-level functionality**"
   ]
  },
  {
   "cell_type": "markdown",
   "metadata": {},
   "source": [
    "The ```Dealer``` class has the following high-level methods:\n",
    "* ```Dealer.MoveButton()``` \n",
    "* ```Dealer.DealHands()```\n",
    "* ```Dealer.EditHand(name, discards)```\n",
    "* ```Dealer.CollectCards()```\n",
    "* ```Dealer.KickPlayer(name)```\n",
    "* ```Dealer.TakeAnte()```\n",
    "* ```Dealer.TakeBet(name, amount)```\n",
    "* ```Dealer.Payout()```        "
   ]
  },
  {
   "cell_type": "markdown",
   "metadata": {},
   "source": [
    "### **Setting up game**"
   ]
  },
  {
   "cell_type": "markdown",
   "metadata": {},
   "source": [
    "The ```Dealer``` class has the following methods for setting up a game:\n",
    "* ```Dealer.StartingChips(amount)``` \n",
    "* ```Dealer.Ante(amount)``` "
   ]
  },
  {
   "cell_type": "markdown",
   "metadata": {},
   "source": [
    "### **Providing game info**"
   ]
  },
  {
   "cell_type": "markdown",
   "metadata": {},
   "source": [
    "The ```Dealer``` class has the following methods for providing game info:\n",
    "* ```Dealer.PlayerInfo()``` \n",
    "* ```Dealer.TableView(name)```\n",
    "* ```Dealer.Summary()```\n"
   ]
  }
 ],
 "metadata": {
  "interpreter": {
   "hash": "aecd030d4c8316a52bf122072e28f84bcc79844c2684e041fef2e3f1d9f59078"
  },
  "kernelspec": {
   "display_name": "Python 3.10.0 64-bit",
   "language": "python",
   "name": "python3"
  },
  "language_info": {
   "codemirror_mode": {
    "name": "ipython",
    "version": 3
   },
   "file_extension": ".py",
   "mimetype": "text/x-python",
   "name": "python",
   "nbconvert_exporter": "python",
   "pygments_lexer": "ipython3",
   "version": "3.9.6"
  },
  "orig_nbformat": 4
 },
 "nbformat": 4,
 "nbformat_minor": 2
}
