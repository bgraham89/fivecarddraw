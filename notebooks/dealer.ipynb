{
 "cells": [
  {
   "cell_type": "markdown",
   "metadata": {},
   "source": [
    "# The Dealer class"
   ]
  },
  {
   "cell_type": "markdown",
   "metadata": {},
   "source": [
    "This notebook provides some documentation about Dealer objects."
   ]
  },
  {
   "cell_type": "markdown",
   "metadata": {},
   "source": [
    "## Importing the Dealer class"
   ]
  },
  {
   "cell_type": "markdown",
   "metadata": {},
   "source": [
    "The current working directory needs to be \"fivecarddraw\" in order to run the code cells of this notebook. Assuming the fivecarddraw repository has been cloned, then this notebook is contained within the \"fivecarddraw/notebooks\" folder. To change the current working directory, run the next cell."
   ]
  },
  {
   "cell_type": "code",
   "execution_count": 2,
   "metadata": {},
   "outputs": [
    {
     "name": "stdout",
     "output_type": "stream",
     "text": [
      "Current Directory: d:\\My Projects\\Python\\Games\\fivecarddraw\n"
     ]
    }
   ],
   "source": [
    "from os import chdir, getcwd\n",
    "\n",
    "if not getcwd().endswith(\"fivecarddraw\"):\n",
    "    chdir(\"..\")\n",
    "    \n",
    "print(f\"Current Directory: {getcwd()}\")"
   ]
  },
  {
   "cell_type": "markdown",
   "metadata": {},
   "source": [
    "Then the Dealer class can be imported in the usual pythonic way."
   ]
  },
  {
   "cell_type": "code",
   "execution_count": 40,
   "metadata": {},
   "outputs": [],
   "source": [
    "from fivecarddraw import Dealer"
   ]
  },
  {
   "cell_type": "markdown",
   "metadata": {},
   "source": [
    "## Creating a Dealer"
   ]
  },
  {
   "cell_type": "markdown",
   "metadata": {},
   "source": [
    "The Dealer class is a subclass of the Table class, which is essentially a list of Player objects, with a Deck and a pot. The Dealer class can therefore access any gamestate related data, to perform any actions it needs to. A consequence of the inheritence is that Dealers need to be initialised with a list of Player objects.  "
   ]
  },
  {
   "cell_type": "code",
   "execution_count": 41,
   "metadata": {},
   "outputs": [
    {
     "name": "stdout",
     "output_type": "stream",
     "text": [
      "Players: [Player 1, Player 2, Player 3, Player 4, Player 5]\n"
     ]
    }
   ],
   "source": [
    "from fivecarddraw import Player\n",
    "\n",
    "players = [Player(f\"Player {i+1}\") for i in range(5)]\n",
    "print(f\"Players: {players}\")"
   ]
  },
  {
   "cell_type": "markdown",
   "metadata": {},
   "source": [
    "Initialising the dealer will take a moment as the dealer object will populate 3 quite large lookup tables. The lookup tables play a part in hand evaluation, which is outlined in more detail in the hand.ipynb notebook."
   ]
  },
  {
   "cell_type": "code",
   "execution_count": 42,
   "metadata": {},
   "outputs": [
    {
     "name": "stdout",
     "output_type": "stream",
     "text": [
      "Players: [Player 1, Player 2, Player 3, Player 4, Player 5]\n",
      "Deck: [2♠, 3♠, 4♠, 5♠, 6♠, 7♠, 8♠, 9♠, 10♠, J♠, Q♠, K♠, A♠, 2♡, 3♡, 4♡, 5♡, 6♡, 7♡, 8♡, 9♡, 10♡, J♡, Q♡, K♡, A♡, 2♢, 3♢, 4♢, 5♢, 6♢, 7♢, 8♢, 9♢, 10♢, J♢, Q♢, K♢, A♢, 2♣, 3♣, 4♣, 5♣, 6♣, 7♣, 8♣, 9♣, 10♣, J♣, Q♣, K♣, A♣]\n"
     ]
    }
   ],
   "source": [
    "dealer = Dealer(players)\n",
    "\n",
    "print(f\"Players: {dealer}\")\n",
    "print(f\"Deck: {dealer.deck}\")"
   ]
  },
  {
   "cell_type": "markdown",
   "metadata": {},
   "source": [
    "## Tracking the Table Button "
   ]
  },
  {
   "cell_type": "markdown",
   "metadata": {},
   "source": [
    "The table button is tracked by maintaining a sequence of players, that mimics player seat positions clockwise around a table; and cycling the sequence, so that the player who has the button is last in the sequence. This means that turn order begins with the player at index 0 of the dealer."
   ]
  },
  {
   "cell_type": "code",
   "execution_count": 43,
   "metadata": {},
   "outputs": [
    {
     "name": "stdout",
     "output_type": "stream",
     "text": [
      "Players: [Player 2, Player 3, Player 4, Player 5, Player 1]\n",
      "Button player: Player 1\n"
     ]
    }
   ],
   "source": [
    "dealer.MoveButton()\n",
    "print(f\"Players: {dealer}\")\n",
    "print(f\"Button player: {dealer[-1]}\")"
   ]
  },
  {
   "cell_type": "markdown",
   "metadata": {},
   "source": [
    "## Dealing, Evaluating and Collecting Hands"
   ]
  },
  {
   "cell_type": "markdown",
   "metadata": {},
   "source": [
    "The way that Dealers deal hands mimics the way that casino dealers deal hands at casinos. The deck is shuffled. Then a card is given to each player starting from index 0, and then another card is dealt to each 4 more times. Evaluation and collection is outlined in the hand.ipynb notebook. "
   ]
  },
  {
   "cell_type": "code",
   "execution_count": 44,
   "metadata": {},
   "outputs": [
    {
     "name": "stdout",
     "output_type": "stream",
     "text": [
      "Player 2's hand: 8♢ A♠ J♣ 10♣ 10♢ (The number 4226 best possible hand with pair.)\n",
      "Player 3's hand: 8♡ 4♡ K♣ 10♡ 3♠ (The number 6915 best possible hand with high card.)\n",
      "Player 4's hand: 2♢ K♡ 7♢ A♡ 6♢ (The number 6333 best possible hand with high card.)\n",
      "Player 5's hand: J♠ 9♡ 6♣ 6♡ 5♣ (The number 5231 best possible hand with pair.)\n",
      "Player 1's hand: 9♢ 4♠ 9♠ K♠ Q♡ (The number 4487 best possible hand with pair.)\n"
     ]
    }
   ],
   "source": [
    "dealer.ShuffleDeck()\n",
    "dealer.DealHands()\n",
    "rankings = dealer.EvaluateHands()\n",
    "\n",
    "for i in range(len(dealer)):\n",
    "    rating, hit = rankings[dealer[i].name], dealer.Lookup(rankings[dealer[i].name])\n",
    "    print(f\"{dealer[i]}'s hand: {dealer[i].hand} (The number {rating} best possible hand with {hit}.)\")\n",
    "\n",
    "dealer.CollectCards()"
   ]
  },
  {
   "cell_type": "markdown",
   "metadata": {},
   "source": [
    "## Taking Bets"
   ]
  },
  {
   "cell_type": "markdown",
   "metadata": {},
   "source": [
    "The Dealer class is given the responsibility to take bets from players and put them in the pot, and this is mainly to ensure that the bets are legal, and are communicated to everybody. The semantics of this process might look a little bit off, but the gameplay loop itself is a subclass of the Dealer class, so when these methods are used in an actual game by the FiveCardDraw object, the semantics make more sense. "
   ]
  },
  {
   "cell_type": "code",
   "execution_count": 45,
   "metadata": {},
   "outputs": [
    {
     "name": "stdout",
     "output_type": "stream",
     "text": [
      "Player 2 paid 10 chips for the ante.\n",
      "Player 3 paid 10 chips for the ante.\n",
      "Player 4 paid 10 chips for the ante.\n",
      "Player 5 paid 10 chips for the ante.\n",
      "Player 1 paid 10 chips for the ante.\n"
     ]
    }
   ],
   "source": [
    "for player in dealer:\n",
    "    player.chips += 100\n",
    "\n",
    "dealer.ante = 10\n",
    "dealer.TakeAnte()\n"
   ]
  },
  {
   "cell_type": "markdown",
   "metadata": {},
   "source": [
    "The TakeBet() method not only adds chips to a pot, it also categorises an action depending on how many chips are in the pot."
   ]
  },
  {
   "cell_type": "code",
   "execution_count": 47,
   "metadata": {},
   "outputs": [
    {
     "name": "stdout",
     "output_type": "stream",
     "text": [
      "Player 2 has checked.\n",
      "Player 3 has raised by 10.\n",
      "Player 4 has called.\n",
      "Player 5 has folded.\n",
      "Player 1 has raised by 90 and gone allin!\n"
     ]
    }
   ],
   "source": [
    "for player in dealer:\n",
    "    player.chips += 100\n",
    "\n",
    "dealer.TakeBet(dealer[0], 0)\n",
    "dealer.TakeBet(dealer[1], 10)\n",
    "dealer.TakeBet(dealer[2], 10)\n",
    "dealer.TakeBet(dealer[3], 0)\n",
    "dealer.TakeBet(dealer[4], dealer[4].chips)\n",
    "\n",
    "for player in dealer:\n",
    "    dealer.pot[player.name] = 0"
   ]
  },
  {
   "cell_type": "markdown",
   "metadata": {},
   "source": [
    "The TakeBet() method also updates Player attributes which track whether the player has folded, min-called, or has gone all-in. This helps control the gameplay loop during FiveCardDraw.BettingPhase(). The players states are treated as mutually exclusive. "
   ]
  },
  {
   "cell_type": "code",
   "execution_count": 48,
   "metadata": {},
   "outputs": [
    {
     "name": "stdout",
     "output_type": "stream",
     "text": [
      "Player 2 has mincalled: False    Player 2 has allin: False    Player 2 has folded: False\n",
      "Player 3 has mincalled: False    Player 3 has allin: False    Player 3 has folded: False\n",
      "Player 4 has mincalled: False    Player 4 has allin: False    Player 4 has folded: False\n",
      "Player 5 has mincalled: False    Player 5 has allin: False    Player 5 has folded: False\n",
      "Player 1 has mincalled: False    Player 1 has allin: True    Player 1 has folded: False\n"
     ]
    }
   ],
   "source": [
    "for player in dealer:\n",
    "    print(f\"{player} has mincalled: {player.has_mincalled}   \", f\"{player} has allin: {player.has_allin}   \", f\"{player} has folded: {player.has_mincalled}\")"
   ]
  },
  {
   "cell_type": "markdown",
   "metadata": {},
   "source": [
    "Validation of a bet amount is currently performed by the FiveCardDraw object, although this may change in the future. For more information about the FiveCardDraw object, see the Simulation.ipynb notebook."
   ]
  },
  {
   "cell_type": "markdown",
   "metadata": {},
   "source": [
    "## Rewarding Players"
   ]
  },
  {
   "cell_type": "markdown",
   "metadata": {},
   "source": [
    "Rewarding players involves a few different stages. The first step is to evaluate the hands of all of the players. "
   ]
  },
  {
   "cell_type": "markdown",
   "metadata": {},
   "source": [
    "### Evaluating Hands"
   ]
  },
  {
   "cell_type": "code",
   "execution_count": 5,
   "metadata": {},
   "outputs": [
    {
     "name": "stdout",
     "output_type": "stream",
     "text": [
      "Player 1's hand: 8♠ 2♠ 3♡ 7♢ K♡ (The number 6982 best possible hand with high card.)\n",
      "Player 2's hand: 2♡ J♣ Q♠ 10♣ J♠ (The number 4093 best possible hand with pair.)\n",
      "Player 3's hand: 9♠ 4♣ A♢ 3♠ 3♢ (The number 5784 best possible hand with pair.)\n",
      "Player 4's hand: K♢ 9♡ 8♣ A♠ 9♣ (The number 4429 best possible hand with pair.)\n",
      "Player 5's hand: 6♢ K♣ 8♡ Q♣ J♡ (The number 6694 best possible hand with high card.)\n"
     ]
    }
   ],
   "source": [
    "from fivecarddraw import Dealer, Player\n",
    "\n",
    "players = [Player(f\"Player {i+1}\") for i in range(5)]\n",
    "dealer = Dealer(players)\n",
    "\n",
    "dealer.ShuffleDeck()\n",
    "dealer.DealHands()\n",
    "\n",
    "ratings = dealer.EvaluateHands()\n",
    "for i in range(len(dealer)):\n",
    "    rating, hit = ratings[dealer[i].name], dealer.Lookup(ratings[dealer[i].name])\n",
    "    print(f\"{dealer[i]}'s hand: {dealer[i].hand} (The number {rating} best possible hand with {hit}.)\")\n",
    "\n"
   ]
  },
  {
   "cell_type": "markdown",
   "metadata": {},
   "source": [
    "### Deciding Reward Priority"
   ]
  },
  {
   "cell_type": "markdown",
   "metadata": {},
   "source": [
    "The next stage is to determine which players haven't folded, and sort them by their hand strength. This creates a priority list of what order to determine the rewards of players. Rewards are determined for players with stronger hands first.   "
   ]
  },
  {
   "cell_type": "code",
   "execution_count": 8,
   "metadata": {},
   "outputs": [
    {
     "name": "stdout",
     "output_type": "stream",
     "text": [
      "Total chips in pot: 500\n",
      "Players in order of strength of hand: [(Player 2, 4093), (Player 4, 4429), (Player 3, 5784), (Player 5, 6694), (Player 1, 6982)]\n"
     ]
    }
   ],
   "source": [
    "for i in range(len(dealer)):\n",
    "    dealer[i].has_allin = True\n",
    "    dealer.pot[dealer[i].name] = 100\n",
    "\n",
    "print(f\"Total chips in pot: {sum(dealer.pot.values())}\")\n",
    "\n",
    "players = [player for player in dealer if not player.has_folded]\n",
    "players.sort(key = lambda x: (ratings[x.name], dealer.pot[x.name]))\n",
    "\n",
    "print(f\"Players in order of strength of hand: {[(player, ratings[player.name]) for player in players]}\")\n",
    "\n"
   ]
  },
  {
   "cell_type": "markdown",
   "metadata": {},
   "source": [
    "### Calculating Rewards"
   ]
  },
  {
   "cell_type": "markdown",
   "metadata": {},
   "source": [
    "Rewards are then calculated and given to each player in sequence, until no more chips remain in the pot."
   ]
  },
  {
   "cell_type": "markdown",
   "metadata": {},
   "source": [
    "#### Handling Side Pots"
   ]
  },
  {
   "cell_type": "markdown",
   "metadata": {},
   "source": [
    "To account for side pots, dealer.pot is actually a dict with player.names as keys. The maximum a player can take from the pot is capped by how much they have contributed to the pot. They cannot take more than that much out of any other players contribution."
   ]
  },
  {
   "cell_type": "code",
   "execution_count": 9,
   "metadata": {},
   "outputs": [
    {
     "name": "stdout",
     "output_type": "stream",
     "text": [
      "Number of side pots: 0\n"
     ]
    }
   ],
   "source": [
    "print(f\"Number of side pots: {len(set(dealer.pot.values()))-1}\")"
   ]
  },
  {
   "cell_type": "markdown",
   "metadata": {},
   "source": [
    "#### Handling Split Pots"
   ]
  },
  {
   "cell_type": "markdown",
   "metadata": {},
   "source": [
    "To account for split pots, the groupby function of itertools is used to group players who have exactly the same ranked hands."
   ]
  },
  {
   "cell_type": "code",
   "execution_count": 11,
   "metadata": {},
   "outputs": [
    {
     "name": "stdout",
     "output_type": "stream",
     "text": [
      "Players grouped by the strength of their hands: [[Player 2], [Player 4], [Player 3], [Player 5], [Player 1]]\n",
      "Number of players with the same ranked hands: 0\n"
     ]
    }
   ],
   "source": [
    "from itertools import groupby\n",
    "\n",
    "splits =  [list(players) for _, players in groupby(iterable = players, key = lambda x : ratings[x.name])]\n",
    "\n",
    "print(f\"Players grouped by the strength of their hands: {splits}\")\n",
    "print(f\"Number of players with the same ranked hands: {len(players) - len(splits)}\")"
   ]
  },
  {
   "cell_type": "markdown",
   "metadata": {},
   "source": [
    "If players share the same strength hand, and a reward is to be distributed to them, then the players are sorted by how much they have contributed. Excess rewards are claimed and shared between players who have paid excess. Remaining rewards are shared between everybody. "
   ]
  },
  {
   "cell_type": "code",
   "execution_count": 12,
   "metadata": {},
   "outputs": [
    {
     "name": "stdout",
     "output_type": "stream",
     "text": [
      "All Contributors: {'person1': 100, 'person2': 150, 'person3': 200, 'person4': 150, 'person5': 200, 'folded1': 100, 'folded2': 150}\n",
      "Winners: [('person1', 100), ('person2', 150), ('person4', 150), ('person3', 200), ('person5', 200)]\n",
      "person1 won 140 chips.\n",
      "person2 won 202 chips.\n",
      "person4 won 202 chips.\n",
      "person3 won 253 chips.\n",
      "person5 won 253 chips.\n"
     ]
    }
   ],
   "source": [
    "contributions = {\"person1\": 100, \"person2\" : 150, \"person3\" : 200, \"person4\" : 150, \"person5\" : 200, \"folded1\" : 100, \"folded2\" : 150}\n",
    "people = sorted([\"person1\", \"person2\", \"person3\", \"person4\", \"person5\"], key = lambda x : contributions[x])\n",
    "print(f\"All Contributors: {contributions}\")\n",
    "print(f\"Winners: {[(person, contributions[person]) for person in people]}\")\n",
    "\n",
    "total = 0 \n",
    "for i, winner in enumerate(people):\n",
    "    if any(contributions.values()):\n",
    "        contributers = sorted(contributions.keys(), key = lambda x: contributions[x], reverse = True)\n",
    "    \n",
    "    for contributer in contributers:\n",
    "        if not contributions[contributer]:\n",
    "            break\n",
    "        if contributer == winner:\n",
    "            continue\n",
    "        \n",
    "        if contributions[contributer] > contributions[winner]:\n",
    "            total += contributions[winner]\n",
    "            contributions[contributer] -= contributions[winner]\n",
    "        else:\n",
    "            total += contributions[contributer]\n",
    "            contributions[contributer] = 0\n",
    "    \n",
    "    total += contributions[winner]\n",
    "    contributions[winner] = 0\n",
    "    \n",
    "    reward = total // (len(people) - i)\n",
    "    total -= reward\n",
    "    \n",
    "    if reward:\n",
    "        print(f\"{winner} won {reward} chips.\")"
   ]
  },
  {
   "cell_type": "markdown",
   "metadata": {},
   "source": [
    "### Paying Players"
   ]
  },
  {
   "cell_type": "markdown",
   "metadata": {},
   "source": [
    "Next, rewards are paid directly to players, and information about player rewards are printed. The hands of players are revealed in turn order, unless a player holds a weaker hand than a hand that is already revealed."
   ]
  },
  {
   "cell_type": "code",
   "execution_count": 13,
   "metadata": {},
   "outputs": [
    {
     "name": "stdout",
     "output_type": "stream",
     "text": [
      "Chips in the pot 500\n",
      "Player 1 mucked with 8♠ 2♠ 3♡ 7♢ K♡ (high card)\n",
      "Player 2 won 500 chips with 2♡ J♣ Q♠ 10♣ J♠ (pair)\n",
      "Player 3 mucked.\n",
      "Player 4 mucked.\n",
      "Player 5 mucked.\n"
     ]
    }
   ],
   "source": [
    "print(f\"Chips in the pot {sum(dealer.pot.values())}\")\n",
    "dealer.Payout()"
   ]
  }
 ],
 "metadata": {
  "interpreter": {
   "hash": "aecd030d4c8316a52bf122072e28f84bcc79844c2684e041fef2e3f1d9f59078"
  },
  "kernelspec": {
   "display_name": "Python 3.10.0 64-bit",
   "language": "python",
   "name": "python3"
  },
  "language_info": {
   "codemirror_mode": {
    "name": "ipython",
    "version": 3
   },
   "file_extension": ".py",
   "mimetype": "text/x-python",
   "name": "python",
   "nbconvert_exporter": "python",
   "pygments_lexer": "ipython3",
   "version": "3.10.0"
  },
  "orig_nbformat": 4
 },
 "nbformat": 4,
 "nbformat_minor": 2
}
