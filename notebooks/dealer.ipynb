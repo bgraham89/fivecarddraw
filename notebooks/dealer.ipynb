{
 "cells": [
  {
   "cell_type": "markdown",
   "metadata": {},
   "source": [
    "# **The Dealer class**"
   ]
  },
  {
   "cell_type": "markdown",
   "metadata": {},
   "source": [
    "This notebook provides some documentation about ```Dealer``` objects."
   ]
  },
  {
   "cell_type": "markdown",
   "metadata": {},
   "source": [
    "Run the following codeblocks to import the ```Dealer``` class into this notebook."
   ]
  },
  {
   "cell_type": "code",
   "execution_count": 1,
   "metadata": {},
   "outputs": [
    {
     "name": "stdout",
     "output_type": "stream",
     "text": [
      "Current Directory: c:\\Users\\Brad\\Documents\\Projects\\Python\\fivecarddraw\n"
     ]
    }
   ],
   "source": [
    "from os import chdir, getcwd\n",
    "\n",
    "if not getcwd().endswith(\"fivecarddraw\"):\n",
    "    chdir(\"..\")\n",
    "    \n",
    "print(f\"Current Directory: {getcwd()}\")"
   ]
  },
  {
   "cell_type": "code",
   "execution_count": 2,
   "metadata": {},
   "outputs": [],
   "source": [
    "from fivecarddraw import Dealer"
   ]
  },
  {
   "cell_type": "markdown",
   "metadata": {},
   "source": [
    "## **Initialization**"
   ]
  },
  {
   "cell_type": "markdown",
   "metadata": {},
   "source": [
    "The ```Dealer``` object is a mediator object, that creates ```Dealer.ChipTracker```, ```Dealer.SeatTracker```, ```Dealer.HandTracker``` and ```Dealer.ActionTracker``` upon intialisation. "
   ]
  },
  {
   "cell_type": "code",
   "execution_count": 3,
   "metadata": {},
   "outputs": [
    {
     "name": "stdout",
     "output_type": "stream",
     "text": [
      "SeatTracker: <fivecarddraw.SeatTracker object at 0x000001F5DE637580>\n",
      "HandTracker: <fivecarddraw.HandTracker object at 0x000001F5DE637010>\n",
      "ChipTracker: <fivecarddraw.ChipTracker object at 0x000001F5DE6375E0>\n",
      "ActionTracker: <fivecarddraw.ActionTracker object at 0x000001F5DE637640>\n"
     ]
    }
   ],
   "source": [
    "dealer = Dealer()\n",
    "\n",
    "print(f\"SeatTracker: {dealer.seats}\")\n",
    "print(f\"HandTracker: {dealer.cards}\")\n",
    "print(f\"ChipTracker: {dealer.chips}\")\n",
    "print(f\"ActionTracker: {dealer.action}\")"
   ]
  },
  {
   "cell_type": "markdown",
   "metadata": {},
   "source": [
    "```Dealer``` objects can be given an additional parameter, ```num_seats```, which determines how many seats the ```Dealer.SeatTracker``` will track. It currently defaults to 6. "
   ]
  },
  {
   "cell_type": "markdown",
   "metadata": {},
   "source": [
    "## **Functionality**"
   ]
  },
  {
   "cell_type": "markdown",
   "metadata": {},
   "source": [
    "The ```Dealer.ChipTracker```, ```Dealer.SeatTracker```, ```Dealer.HandTracker``` and ```Dealer.ActionTracker``` objects are designed to return data, which is then integrated by the ```Dealer``` object to provide a bunch of top level methods that enable a game of five card draw. More information about them can be found in the [chips.ipynb](chips.ipynb), [seats.ipynb](seats.ipynb), [hand.ipynb](hand.ipynb), and [players.ipynb](players.ipynb) notebooks respectively. \n",
    "\n",
    "The ```Dealer``` object is extended by the ```PlayGame``` object which controls game flow. More information can be found in the [game.ipynb](game.ipynb) notebook."
   ]
  },
  {
   "cell_type": "markdown",
   "metadata": {},
   "source": [
    "### **Tracking the Table Button** "
   ]
  },
  {
   "cell_type": "markdown",
   "metadata": {},
   "source": [
    "The table button is tracked using in the ```SeatTracker.button``` attribute and the ```SeatTracker.NextButtonPlayer()``` method. More information about them can be found the [seats.ipynb](seats.ipynb) notebook. The ```Dealer.MoveButton()``` method provides a console log and returns a ```Bool``` indicating if a player was given the button or not."
   ]
  },
  {
   "cell_type": "code",
   "execution_count": 6,
   "metadata": {},
   "outputs": [
    {
     "data": {
      "text/plain": [
       "{'player 1': {'seat': 0},\n",
       " 'player 2': {'seat': 1},\n",
       " 'player 3': {'seat': 2},\n",
       " 'player 4': {'seat': 3},\n",
       " 'player 5': {'seat': 4},\n",
       " 'player 6': {'seat': 5}}"
      ]
     },
     "execution_count": 6,
     "metadata": {},
     "output_type": "execute_result"
    }
   ],
   "source": [
    "dealer = Dealer()\n",
    "players = [f\"player {i+1}\" for i in range(6)]\n",
    "dealer.seats.AddPlayers(players)"
   ]
  },
  {
   "cell_type": "code",
   "execution_count": 12,
   "metadata": {},
   "outputs": [
    {
     "name": "stdout",
     "output_type": "stream",
     "text": [
      "[BUTTON] The button was given to player 6.\n",
      "button information: {'seat': 5, 'player': 'player 6', 'queue': ['player 1', 'player 2', 'player 3', 'player 4', 'player 5', 'player 6']}\n"
     ]
    }
   ],
   "source": [
    "dealer.MoveButton()\n",
    "print(f\"button information: {dealer.seats.button}\")"
   ]
  },
  {
   "cell_type": "markdown",
   "metadata": {},
   "source": [
    "### **Dealing Hands**"
   ]
  },
  {
   "cell_type": "markdown",
   "metadata": {},
   "source": [
    "```Dealer``` objects try to mimic the process of dealing hands typical of casino. That includes dealing the cards to players in a certain order, one-by-one. The ```SeatTracker.DealingOrder()``` method is able to provide the order that cards should be dealt. More information about that can be found in the [seats.ipynb](seats.ipynb) notebook. Cards are actually dealt using the ```HandTracker.DealHands()``` method which tracks player's hands using the ```HandTracker.hands``` attribute. More information about that can be found in the [hands.ipynb](hands.ipynb) notebook."
   ]
  },
  {
   "cell_type": "markdown",
   "metadata": {},
   "source": [
    "The ```Dealer.DealHands()``` method provides the following additional functionality:\n",
    "\n",
    "* Hands are evaluated upon being dealt, using the ```HandTracker.EvaluateHands()``` method and stored in the ```HandTracker.hands``` attribute. More information can be found in the [hands.ipynb](hands.ipynb) notebook.\n",
    "* The action status of each player is reset using the ```ActionTracker.NewRound()``` method. More information can be found in the [players.ipynb](players.ipynb) notebook.\n",
    "* A console log is provided."
   ]
  },
  {
   "cell_type": "code",
   "execution_count": 19,
   "metadata": {},
   "outputs": [
    {
     "name": "stdout",
     "output_type": "stream",
     "text": [
      "[CARDS] Hands have been dealt.\n",
      "Player hands: {'player 1': {'cards': [J♡, 9♣, J♢, K♢, 10♠], 'rank_n': 4050, 'rank_c': 'pair'}, 'player 2': {'cards': [5♠, 2♠, J♠, 10♢, 8♢], 'rank_n': 7248, 'rank_c': 'High card'}, 'player 3': {'cards': [2♡, 6♡, 4♢, Q♠, 8♡], 'rank_n': 7196, 'rank_c': 'High card'}, 'player 4': {'cards': [K♡, 7♢, 10♡, 3♣, 3♡], 'rank_n': 5820, 'rank_c': 'pair'}, 'player 5': {'cards': [A♢, Q♣, 2♣, K♣, 10♣], 'rank_n': 6201, 'rank_c': 'High card'}, 'player 6': {'cards': [K♠, A♣, 2♢, 3♢, 9♢], 'rank_n': 6314, 'rank_c': 'High card'}}\n",
      "\n",
      "Player statuses: {'player 1': {'has_allin': False, 'has_mincalled': False, 'has_folded': False}, 'player 2': {'has_allin': False, 'has_mincalled': False, 'has_folded': False}, 'player 3': {'has_allin': False, 'has_mincalled': False, 'has_folded': False}, 'player 4': {'has_allin': False, 'has_mincalled': False, 'has_folded': False}, 'player 5': {'has_allin': False, 'has_mincalled': False, 'has_folded': False}, 'player 6': {'has_allin': False, 'has_mincalled': False, 'has_folded': False}}\n"
     ]
    }
   ],
   "source": [
    "\n",
    "dealer = Dealer()\n",
    "players = [f\"player {i+1}\" for i in range(6)]\n",
    "dealer.seats.AddPlayers(players)\n",
    "\n",
    "dealer.DealHands()\n",
    "print(f\"Player hands: {dealer.cards.hands}\\n\")\n",
    "print(f\"Player statuses: {dealer.action.players}\")\n"
   ]
  },
  {
   "cell_type": "markdown",
   "metadata": {},
   "source": [
    "### **Swapping Cards in Hands**"
   ]
  },
  {
   "cell_type": "markdown",
   "metadata": {},
   "source": [
    "Cards can swapped using the ```Dealer.EditHand(name, discards)``` method, as long as the swap obeys the game rules governing card swaps in five card draw poker. The obedience of a swap is determined by the ```HandTracker.ApproveDiscards()``` method. The actual swap is performed by the ```HandTracker.EditHand()``` method. Lastly, if a swap was done, then the hand is evaluated using the ```HandTracker.EvaluatedHand()``` method. For more information about these methods see the [hand.ipynb](hand.ipynb) notebook. The ```Dealer.EditHand(name, discards)``` method also provides a console log, and returns a ```Bool``` indicating whether a swap was made."
   ]
  },
  {
   "cell_type": "code",
   "execution_count": 24,
   "metadata": {},
   "outputs": [
    {
     "name": "stdout",
     "output_type": "stream",
     "text": [
      "[CARDS] Hands have been dealt.\n",
      "player 1's old hand: [6♠, 2♠, 2♣, Q♠, 4♠]\n",
      "[CARDS] player 1 swapped 3 cards.\n",
      "player 1's new hand: [Q♠, 4♠, 9♠, J♡, A♡]\n"
     ]
    }
   ],
   "source": [
    "\n",
    "dealer = Dealer()\n",
    "players = [f\"player {i+1}\" for i in range(6)]\n",
    "dealer.seats.AddPlayers(players)\n",
    "\n",
    "name = dealer.seats.Names()[0]\n",
    "dealer.DealHands()\n",
    "cards = dealer.cards.hands[name][\"cards\"]\n",
    "print(f\"{name}'s old hand: {cards}\")\n",
    "\n",
    "discards = cards[:3]\n",
    "dealer.EditHand(name, discards)\n",
    "cards = dealer.cards.hands[name][\"cards\"]\n",
    "print(f\"{name}'s new hand: {cards}\")"
   ]
  },
  {
   "cell_type": "markdown",
   "metadata": {},
   "source": [
    "### **Collecting Cards**"
   ]
  },
  {
   "cell_type": "markdown",
   "metadata": {},
   "source": [
    "Cards can be collected using ```Dealer.CollectCards()``` which calls the ```HandTracker.CollectHands()``` method and provides a console log. For more information about the ```HandTracker.CollectHands()``` method see the [hand.ipynb](hand.ipynb) notebook."
   ]
  },
  {
   "cell_type": "code",
   "execution_count": 29,
   "metadata": {},
   "outputs": [
    {
     "name": "stdout",
     "output_type": "stream",
     "text": [
      "[CARDS] Hands have been dealt.\n",
      "Player hands: {'player 1': {'cards': [2♣, A♠, 5♣, J♢, K♣], 'rank_n': 6262, 'rank_c': 'High card'}, 'player 2': {'cards': [10♣, 2♠, J♡, K♢, 9♢], 'rank_n': 6804, 'rank_c': 'High card'}, 'player 3': {'cards': [4♠, 9♡, Q♡, 4♣, A♣], 'rank_n': 5538, 'rank_c': 'pair'}, 'player 4': {'cards': [9♠, 6♠, 3♣, 10♢, A♢], 'rank_n': 6567, 'rank_c': 'High card'}, 'player 5': {'cards': [6♢, K♡, 2♡, 3♠, 7♣], 'rank_n': 6998, 'rank_c': 'High card'}, 'player 6': {'cards': [K♠, 2♢, 9♣, 7♢, J♣], 'rank_n': 6836, 'rank_c': 'High card'}}\n",
      "\n",
      "[CARDS] Hands have been collected.\n",
      "[CARDS] The deck has been shuffled.\n",
      "Player hands: {}\n",
      "\n"
     ]
    }
   ],
   "source": [
    "dealer = Dealer()\n",
    "players = [f\"player {i+1}\" for i in range(6)]\n",
    "dealer.seats.AddPlayers(players)\n",
    "\n",
    "dealer.DealHands()\n",
    "print(f\"Player hands: {dealer.cards.hands}\\n\")\n",
    "dealer.CollectCards()\n",
    "print(f\"Player hands: {dealer.cards.hands}\\n\")"
   ]
  },
  {
   "cell_type": "markdown",
   "metadata": {},
   "source": [
    "### **Providing Starting Chips**"
   ]
  },
  {
   "cell_type": "markdown",
   "metadata": {},
   "source": [
    "The ```Dealer.StartingChips(amount)``` methd can be used to give all players ```amount``` chips, and logs it in the console. It uses the ```ChipTracker.AddChipsPlayer(name, amount)``` method. More information can be found in the [chips.ipynb](chips.ipynb) notebook."
   ]
  },
  {
   "cell_type": "code",
   "execution_count": 5,
   "metadata": {},
   "outputs": [
    {
     "name": "stdout",
     "output_type": "stream",
     "text": [
      "[SETUP] All players have been given 500 chips.\n",
      "Player chips: {'player 1': {'stack': 500, 'contribution': 0}, 'player 2': {'stack': 500, 'contribution': 0}, 'player 3': {'stack': 500, 'contribution': 0}, 'player 4': {'stack': 500, 'contribution': 0}, 'player 5': {'stack': 500, 'contribution': 0}, 'player 6': {'stack': 500, 'contribution': 0}}\n"
     ]
    }
   ],
   "source": [
    "dealer = Dealer()\n",
    "players = [f\"player {i+1}\" for i in range(6)]\n",
    "dealer.seats.AddPlayers(players)\n",
    "\n",
    "dealer.StartingChips(500)\n",
    "print(f\"Player chips: {dealer.chips.players}\")\n"
   ]
  },
  {
   "cell_type": "markdown",
   "metadata": {},
   "source": [
    "### **Taking the Ante**"
   ]
  },
  {
   "cell_type": "markdown",
   "metadata": {},
   "source": [
    "The ```Dealer.SetAnte()``` method can be used to set an ante. The ```Dealer.TakeAnte()``` method can be used to collect the ante off players who can afford it.  Further details:\n",
    "* The ```Chiptracker.BetChipsPlayer()``` method is used to take the chips from the players. \n",
    "* The chips are taken in the order returned by ```SeatTracker.DealingOrder()```. \n",
    "* The ```Actiontracker.SetAllIn(name)``` method is called if a player goes all in to pay the ante.\n",
    "\n",
    "More information about these details can be found in the [chips.ipynb](chips.ipynb), [seats.ipynb](seats.ipynb) and [players.ipynb](players.ipynb) notebooks."
   ]
  },
  {
   "cell_type": "code",
   "execution_count": 9,
   "metadata": {},
   "outputs": [
    {
     "name": "stdout",
     "output_type": "stream",
     "text": [
      "[SETUP] The ante has been set to 50 chips.\n",
      "[SETUP] All players have been given 500 chips.\n",
      "[ANTE] player 1 paid 50 chips for the ante.\n",
      "[ANTE] player 2 paid 50 chips for the ante.\n",
      "[ANTE] player 3 paid 50 chips for the ante.\n",
      "[ANTE] player 4 paid 50 chips for the ante.\n",
      "[ANTE] player 5 paid 50 chips for the ante.\n",
      "[ANTE] player 6 paid 50 chips for the ante.\n"
     ]
    }
   ],
   "source": [
    "dealer = Dealer()\n",
    "\n",
    "players = [f\"player {i+1}\" for i in range(6)]\n",
    "dealer.seats.AddPlayers(players)\n",
    "dealer.SetAnte(50)\n",
    "dealer.StartingChips(500)\n",
    "dealer.TakeAnte()"
   ]
  },
  {
   "cell_type": "markdown",
   "metadata": {},
   "source": [
    "### **Taking a Bet**"
   ]
  },
  {
   "cell_type": "markdown",
   "metadata": {},
   "source": [
    "The ```Dealer.TakeBet()``` method can be used to take bets from players, which seeks approval for a bet using ```ChipTracker.ApproveBet()```, and if it's approved; it classifies the bet using ```ChipTracker.BetStatus()```, it updates the ```ActionTracker``` depending on the bet's classification with either ```ActionTracker.ExtendRound()```, ```ActionTracker.SetAllin()```, ```ActionTracker.SetMincalled()```, or ```ActionTracker.Folded()```, it logs the bet in the console and it adds chips to the pot and removes them from the player. It also returns a ```Bool``` specifiying whether the bet was approved or not. More details can be found in the [chips.ipynb](chips.ipynb) and [players.ipynb](players.ipynb) notebooks. "
   ]
  },
  {
   "cell_type": "code",
   "execution_count": 3,
   "metadata": {},
   "outputs": [
    {
     "name": "stdout",
     "output_type": "stream",
     "text": [
      "[SETUP] All players have been given 500 chips.\n",
      "[ACTION] player 1 has checked.\n",
      "player 1 action status is: {'has_allin': False, 'has_mincalled': True, 'has_folded': False}\n",
      "\n",
      "[ACTION] player 2 has raised by 10.\n",
      "player 2 action status is: {'has_allin': False, 'has_mincalled': True, 'has_folded': False}\n",
      "player 1 action status is: {'has_allin': False, 'has_mincalled': False, 'has_folded': False}\n",
      "\n",
      "[ACTION] player 3 has called.\n",
      "player 3 action status is: {'has_allin': False, 'has_mincalled': True, 'has_folded': False}\n",
      "player 2 action status is: {'has_allin': False, 'has_mincalled': True, 'has_folded': False}\n",
      "player 1 action status is: {'has_allin': False, 'has_mincalled': False, 'has_folded': False}\n",
      "\n",
      "[ACTION] player 4 has folded.\n",
      "player 4 action status is: {'has_allin': False, 'has_mincalled': False, 'has_folded': True}\n",
      "player 3 action status is: {'has_allin': False, 'has_mincalled': True, 'has_folded': False}\n",
      "player 2 action status is: {'has_allin': False, 'has_mincalled': True, 'has_folded': False}\n",
      "player 1 action status is: {'has_allin': False, 'has_mincalled': False, 'has_folded': False}\n",
      "\n",
      "[ACTION] player 5 has raised by 490 and gone all-in!\n",
      "player 5 action status is: {'has_allin': True, 'has_mincalled': False, 'has_folded': False}\n",
      "player 4 action status is: {'has_allin': False, 'has_mincalled': False, 'has_folded': True}\n",
      "player 3 action status is: {'has_allin': False, 'has_mincalled': False, 'has_folded': False}\n",
      "player 2 action status is: {'has_allin': False, 'has_mincalled': False, 'has_folded': False}\n",
      "player 1 action status is: {'has_allin': False, 'has_mincalled': False, 'has_folded': False}\n",
      "\n",
      "player chips: {'player 1': {'stack': 500, 'contribution': 0}, 'player 2': {'stack': 490, 'contribution': 10}, 'player 3': {'stack': 490, 'contribution': 10}, 'player 4': {'stack': 500, 'contribution': 0}, 'player 5': {'stack': 0, 'contribution': 500}}\n"
     ]
    }
   ],
   "source": [
    "dealer = Dealer(5)\n",
    "\n",
    "players = [f\"player {i+1}\" for i in range(5)]\n",
    "dealer.seats.AddPlayers(players)\n",
    "dealer.StartingChips(500)\n",
    "dealer.action.NewRound(players)\n",
    "\n",
    "dealer.TakeBet(players[0], 0)\n",
    "print(f\"{players[0]} action status is: {dealer.action.players[players[0]]}\\n\")\n",
    "dealer.TakeBet(players[1], 10)\n",
    "print(f\"{players[1]} action status is: {dealer.action.players[players[1]]}\")\n",
    "print(f\"{players[0]} action status is: {dealer.action.players[players[0]]}\\n\")\n",
    "dealer.TakeBet(players[2], 10)\n",
    "print(f\"{players[2]} action status is: {dealer.action.players[players[2]]}\")\n",
    "print(f\"{players[1]} action status is: {dealer.action.players[players[1]]}\")\n",
    "print(f\"{players[0]} action status is: {dealer.action.players[players[0]]}\\n\")\n",
    "dealer.TakeBet(players[3], 0)\n",
    "print(f\"{players[3]} action status is: {dealer.action.players[players[3]]}\")\n",
    "print(f\"{players[2]} action status is: {dealer.action.players[players[2]]}\")\n",
    "print(f\"{players[1]} action status is: {dealer.action.players[players[1]]}\")\n",
    "print(f\"{players[0]} action status is: {dealer.action.players[players[0]]}\\n\")\n",
    "dealer.TakeBet(players[4], dealer.chips.ChipStacks()[players[4]])\n",
    "print(f\"{players[4]} action status is: {dealer.action.players[players[4]]}\")\n",
    "print(f\"{players[3]} action status is: {dealer.action.players[players[3]]}\")\n",
    "print(f\"{players[2]} action status is: {dealer.action.players[players[2]]}\")\n",
    "print(f\"{players[1]} action status is: {dealer.action.players[players[1]]}\")\n",
    "print(f\"{players[0]} action status is: {dealer.action.players[players[0]]}\\n\")\n",
    "print(f\"player chips: {dealer.chips.players}\")\n"
   ]
  },
  {
   "cell_type": "markdown",
   "metadata": {},
   "source": [
    "### **Rewarding Players**"
   ]
  },
  {
   "cell_type": "markdown",
   "metadata": {},
   "source": [
    "The ```Dealer.Payout()``` method involves three different stages to rewarding players. \n",
    "\n",
    "1. The first step is to combine data from the ```ActionTracker```, ```ChipsTracker```, ```SeatTracker``` and ```HandTracker``` objects into a single ```player_info``` variable which contains all the relevant information for evaluating hands, and calculating rewards, including in split pot and side pot scenarios. The merging of data is achieved using the ```Dealer.PlayerInfo()``` method, that returns JSON formatted game data. \n",
    "2. The second step then is to feed that data into the ```ChipTracker.CalculateRewards(player_info)``` method that returns a ```dict``` of player keys and rewards values. \n",
    "3. The third step is to actually distribute those rewards to players, in order, and force players to either muck their hand or share their hand to everybody else. The order is found using using ```ActionTracker.ShowdownPlayers()```. Players who muck but have paid a surplass recieve their rewards without revealing their cards. \n",
    "\n",
    "For more information about the ```ChipTracker.CalculateRewards()``` method see the [chips.ipynb](chips.ipynb) notebook which describes the algorithm."
   ]
  },
  {
   "cell_type": "code",
   "execution_count": 5,
   "metadata": {},
   "outputs": [
    {
     "name": "stdout",
     "output_type": "stream",
     "text": [
      "[SETUP] All players have been given 500 chips.\n",
      "[CARDS] Hands have been dealt.\n",
      "[ACTION] player 1 has raised by 300.\n",
      "[ACTION] player 2 has called.\n",
      "Player info: {'player 1': {'hand': {'cards': [8♡, 2♢, K♢, K♡, 7♡], 'rank_n': 3735, 'rank_c': 'pair'}, 'seat': {'seat': 0}, 'chips': {'stack': 200, 'contribution': 300}, 'status': {'has_allin': False, 'has_mincalled': True, 'has_folded': False}}, 'player 2': {'hand': {'cards': [Q♠, 4♠, J♢, 9♠, J♣], 'rank_n': 4098, 'rank_c': 'pair'}, 'seat': {'seat': 1}, 'chips': {'stack': 200, 'contribution': 300}, 'status': {'has_allin': False, 'has_mincalled': True, 'has_folded': False}}}\n",
      "\n",
      "[SHOWDOWN] player 1 is holding [8♡, 2♢, K♢, K♡, 7♡]\n",
      "[SHOWDOWN] player 2 mucked.\n",
      "[REWARDS] player 1 won 600 with a pair\n"
     ]
    }
   ],
   "source": [
    "dealer = Dealer(2)\n",
    "\n",
    "players = [f\"player {i+1}\" for i in range(2)]\n",
    "dealer.seats.AddPlayers(players)\n",
    "dealer.StartingChips(500)\n",
    "dealer.action.NewRound(players)\n",
    "dealer.DealHands()\n",
    "dealer.TakeBet(players[0], 300)\n",
    "dealer.TakeBet(players[1], 300)\n",
    "info = dealer.PlayerInfo()\n",
    "print(f\"Player info: {info}\\n\")\n",
    "dealer.Payout()\n"
   ]
  },
  {
   "cell_type": "markdown",
   "metadata": {},
   "source": [
    "#### **Split Pot Scenario**"
   ]
  },
  {
   "cell_type": "code",
   "execution_count": 3,
   "metadata": {},
   "outputs": [
    {
     "name": "stdout",
     "output_type": "stream",
     "text": [
      "[SETUP] All players have been given 500 chips.\n",
      "[ACTION] player 1 has raised by 300.\n",
      "[ACTION] player 2 has called.\n",
      "Player info: {'player 1': {'hand': {'cards': [2♠, 3♠, 4♠, 5♠, 6♠], 'rank_n': 9, 'rank_c': 'straight flush'}, 'seat': {'seat': 0}, 'chips': {'stack': 200, 'contribution': 300}, 'status': {'has_allin': False, 'has_mincalled': True, 'has_folded': False}}, 'player 2': {'hand': {'cards': [2♡, 3♡, 4♡, 5♡, 6♡], 'rank_n': 9, 'rank_c': 'straight flush'}, 'seat': {'seat': 1}, 'chips': {'stack': 200, 'contribution': 300}, 'status': {'has_allin': False, 'has_mincalled': True, 'has_folded': False}}}\n",
      "\n",
      "[SHOWDOWN] player 1 is holding [2♠, 3♠, 4♠, 5♠, 6♠]\n",
      "[SHOWDOWN] player 2 is holding [2♡, 3♡, 4♡, 5♡, 6♡]\n",
      "[REWARDS] player 1 won 300 with a straight flush\n",
      "[REWARDS] player 2 won 300 with a straight flush\n"
     ]
    }
   ],
   "source": [
    "from fivecarddraw import Card\n",
    "dealer = Dealer(2)\n",
    "\n",
    "players = [f\"player {i+1}\" for i in range(2)]\n",
    "dealer.seats.AddPlayers(players)\n",
    "dealer.StartingChips(500)\n",
    "dealer.cards.GiveHand(players[0], [Card(i, 0) for i in range(5)])\n",
    "dealer.cards.GiveHand(players[1], [Card(i, 1) for i in range(5)])\n",
    "dealer.cards.EvaluateHands()\n",
    "dealer.action.NewRound(players)\n",
    "dealer.TakeBet(players[0], 300)\n",
    "dealer.TakeBet(players[1], 300)\n",
    "info = dealer.PlayerInfo()\n",
    "print(f\"Player info: {info}\\n\")\n",
    "dealer.Payout()"
   ]
  },
  {
   "cell_type": "markdown",
   "metadata": {},
   "source": [
    "#### **Side Pot Scenario**"
   ]
  },
  {
   "cell_type": "code",
   "execution_count": 4,
   "metadata": {},
   "outputs": [
    {
     "name": "stdout",
     "output_type": "stream",
     "text": [
      "[ACTION] player 1 has raised by 500 and gone all-in!\n",
      "[ACTION] player 2 has raised by 100.\n",
      "[ACTION] player 3 has called.\n",
      "Player info: {'player 1': {'hand': {'cards': [2♠, 3♠, 4♠, 5♠, 6♠], 'rank_n': 9, 'rank_c': 'straight flush'}, 'seat': {'seat': 0}, 'chips': {'stack': 0, 'contribution': 500}, 'status': {'has_allin': True, 'has_mincalled': False, 'has_folded': False}}, 'player 2': {'hand': {'cards': [2♡, 3♡, 4♡, 5♡, 6♡], 'rank_n': 9, 'rank_c': 'straight flush'}, 'seat': {'seat': 1}, 'chips': {'stack': 100, 'contribution': 600}, 'status': {'has_allin': False, 'has_mincalled': True, 'has_folded': False}}, 'player 3': {'hand': {'cards': [2♢, 3♣, 4♢, 5♣, 6♢], 'rank_n': 1608, 'rank_c': 'straight'}, 'seat': {'seat': 2}, 'chips': {'stack': 100, 'contribution': 600}, 'status': {'has_allin': False, 'has_mincalled': True, 'has_folded': False}}}\n",
      "\n",
      "[SHOWDOWN] player 1 is holding [2♠, 3♠, 4♠, 5♠, 6♠]\n",
      "[SHOWDOWN] player 2 is holding [2♡, 3♡, 4♡, 5♡, 6♡]\n",
      "[SHOWDOWN] player 3 mucked.\n",
      "[REWARDS] player 1 won 750 with a straight flush\n",
      "[REWARDS] player 2 won 950 with a straight flush\n"
     ]
    }
   ],
   "source": [
    "from fivecarddraw import Card\n",
    "dealer = Dealer(3)\n",
    "\n",
    "players = [f\"player {i+1}\" for i in range(3)]\n",
    "dealer.seats.AddPlayers(players)\n",
    "dealer.chips.AddChipsPlayer(players[0], 500)\n",
    "dealer.chips.AddChipsPlayer(players[1], 700)\n",
    "dealer.chips.AddChipsPlayer(players[2], 700)\n",
    "dealer.cards.GiveHand(players[0], [Card(i, 0) for i in range(5)])\n",
    "dealer.cards.GiveHand(players[1], [Card(i, 1) for i in range(5)])\n",
    "dealer.cards.GiveHand(players[2], [Card(i, (2,3)[i%2]) for i in range(5)])\n",
    "dealer.cards.EvaluateHands()\n",
    "dealer.action.NewRound(players)\n",
    "dealer.TakeBet(players[0], 500)\n",
    "dealer.TakeBet(players[1], 600)\n",
    "dealer.TakeBet(players[2], 600)\n",
    "info = dealer.PlayerInfo()\n",
    "print(f\"Player info: {info}\\n\")\n",
    "dealer.Payout()"
   ]
  },
  {
   "cell_type": "markdown",
   "metadata": {},
   "source": [
    "### **Initialising the Table**"
   ]
  },
  {
   "cell_type": "markdown",
   "metadata": {},
   "source": [
    "The ```Dealer.InitializeTable(humans, bots, starting_chips)``` is a method to set-up the table at the beginning of a game of five card draw. It's the recommended way of setting-up a table because it feeds data to the different trackers. It does the following:\n",
    "\n",
    "* It seats all players randomly in the available seats, using ```math.shuffle(players)``` and ```SeatTracker.AddPlayers(players)```.\n",
    "* It gives everybody ```starting_chips``` amount of chips using ```ChipTracker.AddChipsPlayer()```.\n",
    "* It records who is human and who is a bot using ```ActionTracker.AddBots()``` and ```ActionTracker.AddHumans()```.\n",
    "\n",
    "For more information about the trackers see the [seats.ipynb](seats.ipynb), [chips.ipynb](chips.ipynb) and [players.ipynb](players.ipynb) notebooks.\n"
   ]
  },
  {
   "cell_type": "code",
   "execution_count": 3,
   "metadata": {},
   "outputs": [
    {
     "name": "stdout",
     "output_type": "stream",
     "text": [
      "[SETUP] All players have been given 0 chips.\n",
      "[WARNING] Nobody has a status.\n",
      "[WARNING] Nobody has a hand.\n",
      "player info: {'player 2': {'seat': {'seat': 0}, 'chips': {'stack': 0, 'contribution': 0}}, 'player 5': {'seat': {'seat': 1}, 'chips': {'stack': 0, 'contribution': 0}}, 'player 1': {'seat': {'seat': 2}, 'chips': {'stack': 0, 'contribution': 0}}, 'player 6': {'seat': {'seat': 3}, 'chips': {'stack': 0, 'contribution': 0}}, 'player 4': {'seat': {'seat': 4}, 'chips': {'stack': 0, 'contribution': 0}}, 'player 3': {'seat': {'seat': 5}, 'chips': {'stack': 0, 'contribution': 0}}}\n"
     ]
    }
   ],
   "source": [
    "dealer = Dealer(6)\n",
    "players = [f\"player {i+1}\" for i in range(6)]\n",
    "dealer.InitializeTable(players[:3], players[3:], 0)\n",
    "info = dealer.PlayerInfo()\n",
    "\n",
    "print(f\"player info: {info}\")"
   ]
  },
  {
   "cell_type": "markdown",
   "metadata": {},
   "source": [
    "Only bots can be kicked from a table because there is currently no multiplayer functionality. The method to use is ```Dealer.KickPlayer()```."
   ]
  },
  {
   "cell_type": "code",
   "execution_count": 4,
   "metadata": {},
   "outputs": [
    {
     "name": "stdout",
     "output_type": "stream",
     "text": [
      "[SETUP] All players have been given 0 chips.\n",
      "Players at the table: ['player 3', 'player 5', 'player 2', 'player 6', 'player 1', 'player 4']\n",
      "\n",
      "[PLAYER] player 4 is leaving the table.\n",
      "Players at the table: ['player 3', 'player 5', 'player 2', 'player 6', 'player 1']\n"
     ]
    }
   ],
   "source": [
    "dealer = Dealer(6)\n",
    "players = [f\"player {i+1}\" for i in range(6)]\n",
    "dealer.InitializeTable(players[:3], players[3:], 0)\n",
    "print(f\"Players at the table: {dealer.seats.Names()}\\n\")\n",
    "dealer.KickPlayer(players[3])\n",
    "print(f\"Players at the table: {dealer.seats.Names()}\")"
   ]
  },
  {
   "cell_type": "markdown",
   "metadata": {},
   "source": [
    "## **Summary Methods**"
   ]
  },
  {
   "cell_type": "markdown",
   "metadata": {},
   "source": [
    "There are currently 3 different summary methods:\n",
    "\n",
    "1. ```Dealer.PlayerInfo()``` which returns json describing the table state.\n",
    "2. ```Dealer.Summary()``` which prints how many chips each player has.\n",
    "3. ```Dealer.TableView(viewer)``` which returns json describing the table state, suitable for a player during a betting round."
   ]
  },
  {
   "cell_type": "code",
   "execution_count": 6,
   "metadata": {},
   "outputs": [
    {
     "name": "stdout",
     "output_type": "stream",
     "text": [
      "[SETUP] All players have been given 500 chips.\n",
      "[CARDS] Hands have been dealt.\n",
      "player info: {'player 5': {'seat': {'seat': 0}, 'chips': {'stack': 500, 'contribution': 0}, 'hand': {'cards': [K♠, Q♢, 9♡, 7♣, 4♣], 'rank_n': 6750, 'rank_c': 'High card'}, 'status': {'has_allin': False, 'has_mincalled': False, 'has_folded': False}}, 'player 3': {'seat': {'seat': 1}, 'chips': {'stack': 500, 'contribution': 0}, 'hand': {'cards': [5♡, A♡, 7♠, 7♢, J♠], 'rank_n': 4889, 'rank_c': 'pair'}, 'status': {'has_allin': False, 'has_mincalled': False, 'has_folded': False}}, 'player 2': {'seat': {'seat': 2}, 'chips': {'stack': 500, 'contribution': 0}, 'hand': {'cards': [10♠, A♢, 6♢, 9♢, 5♢], 'rank_n': 6565, 'rank_c': 'High card'}, 'status': {'has_allin': False, 'has_mincalled': False, 'has_folded': False}}, 'player 6': {'seat': {'seat': 3}, 'chips': {'stack': 500, 'contribution': 0}, 'hand': {'cards': [5♠, 6♠, J♡, 8♡, 4♢], 'rank_n': 7317, 'rank_c': 'High card'}, 'status': {'has_allin': False, 'has_mincalled': False, 'has_folded': False}}}\n"
     ]
    }
   ],
   "source": [
    "dealer = Dealer(4)\n",
    "players = [f\"player {i+1}\" for i in range(6)]\n",
    "dealer.InitializeTable(players[:2], players[2:], 500)\n",
    "dealer.DealHands()\n",
    "\n",
    "info = dealer.PlayerInfo()\n",
    "print(f\"player info: {info}\")"
   ]
  },
  {
   "cell_type": "code",
   "execution_count": 3,
   "metadata": {},
   "outputs": [
    {
     "name": "stdout",
     "output_type": "stream",
     "text": [
      "[SETUP] All players have been given 500 chips.\n",
      "[STANDINGS] player 3 has got 500 chips remaining.\n",
      "[STANDINGS] player 5 has got 500 chips remaining.\n",
      "[STANDINGS] player 6 has got 500 chips remaining.\n",
      "[STANDINGS] player 2 has got 500 chips remaining.\n"
     ]
    }
   ],
   "source": [
    "dealer = Dealer(4)\n",
    "players = [f\"player {i+1}\" for i in range(6)]\n",
    "dealer.InitializeTable(players[:2], players[2:], 500)\n",
    "\n",
    "dealer.Summary()"
   ]
  },
  {
   "cell_type": "code",
   "execution_count": 3,
   "metadata": {},
   "outputs": [
    {
     "name": "stdout",
     "output_type": "stream",
     "text": [
      "[SETUP] All players have been given 500 chips.\n",
      "[CARDS] Hands have been dealt.\n",
      "table view for player 1: {'self': {'seat': {'seat': 2}, 'chips': {'stack': 500, 'contribution': 0}, 'status': {'has_allin': False, 'has_mincalled': False, 'has_folded': False}, 'hand': {'cards': [5♡, J♣, 10♣, 3♢, 3♠], 'rank_n': 5886, 'rank_c': 'pair'}}, 'others': {'player 3': {'seat': {'seat': 0}, 'chips': {'stack': 500, 'contribution': 0}, 'status': {'has_allin': False, 'has_mincalled': False, 'has_folded': False}, 'hand': []}, 'player 4': {'seat': {'seat': 1}, 'chips': {'stack': 500, 'contribution': 0}, 'status': {'has_allin': False, 'has_mincalled': False, 'has_folded': False}, 'hand': []}, 'player 6': {'seat': {'seat': 3}, 'chips': {'stack': 500, 'contribution': 0}, 'status': {'has_allin': False, 'has_mincalled': False, 'has_folded': False}, 'hand': []}}, 'game': {'call': 0, 'pot': 0}}\n"
     ]
    }
   ],
   "source": [
    "dealer = Dealer(4)\n",
    "players = [f\"player {i+1}\" for i in range(6)]\n",
    "dealer.InitializeTable(players[:2], players[2:], 500)\n",
    "dealer.DealHands()\n",
    "\n",
    "viewer = players[0]\n",
    "view = dealer.TableView(viewer)\n",
    "print(f\"table view for {viewer}: {view}\")"
   ]
  }
 ],
 "metadata": {
  "kernelspec": {
   "display_name": "Python 3.10.3 64-bit",
   "language": "python",
   "name": "python3"
  },
  "language_info": {
   "codemirror_mode": {
    "name": "ipython",
    "version": 3
   },
   "file_extension": ".py",
   "mimetype": "text/x-python",
   "name": "python",
   "nbconvert_exporter": "python",
   "pygments_lexer": "ipython3",
   "version": "3.10.3"
  },
  "orig_nbformat": 4,
  "vscode": {
   "interpreter": {
    "hash": "607db476e417971f05b607c2dd14e77ee8262c2c4c20dea422522c60605a222a"
   }
  }
 },
 "nbformat": 4,
 "nbformat_minor": 2
}
