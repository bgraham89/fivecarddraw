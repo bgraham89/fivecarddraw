{
 "cells": [
  {
   "cell_type": "markdown",
   "metadata": {},
   "source": [
    "# The Deck class"
   ]
  },
  {
   "cell_type": "markdown",
   "metadata": {},
   "source": [
    "This notebook provides some documentation about Deck objects."
   ]
  },
  {
   "cell_type": "markdown",
   "metadata": {},
   "source": [
    "## Importing the Deck class"
   ]
  },
  {
   "cell_type": "markdown",
   "metadata": {},
   "source": [
    "The current working directory needs to be \"fivecarddraw\" in order to run the code cells of this notebook. Assuming the fivecarddraw repository has been cloned, then this notebook is contained within the \"fivecarddraw/notebooks\" folder. To change the current working directory, run the next cell."
   ]
  },
  {
   "cell_type": "code",
   "execution_count": 1,
   "metadata": {},
   "outputs": [
    {
     "name": "stdout",
     "output_type": "stream",
     "text": [
      "Current Directory: d:\\My Projects\\Python\\Games\\fivecarddraw\n"
     ]
    }
   ],
   "source": [
    "from os import chdir, getcwd\n",
    "\n",
    "if not getcwd().endswith(\"fivecarddraw\"):\n",
    "    chdir(\"..\")\n",
    "    \n",
    "print(f\"Current Directory: {getcwd()}\")"
   ]
  },
  {
   "cell_type": "markdown",
   "metadata": {},
   "source": [
    "Then the Deck class can be imported in the usual pythonic way."
   ]
  },
  {
   "cell_type": "code",
   "execution_count": 3,
   "metadata": {},
   "outputs": [],
   "source": [
    "from fivecarddraw import Deck"
   ]
  },
  {
   "cell_type": "markdown",
   "metadata": {},
   "source": [
    "## Creating a Deck"
   ]
  },
  {
   "cell_type": "markdown",
   "metadata": {},
   "source": [
    "A Deck is inherently a list of Card objects. This gives it access to list methods and the capability to be indexed. Other methods created for the Deck class include .Shuffle(), .Cut() and .Deal()."
   ]
  },
  {
   "cell_type": "code",
   "execution_count": 5,
   "metadata": {},
   "outputs": [
    {
     "name": "stdout",
     "output_type": "stream",
     "text": [
      "Deck: [2♠, 3♠, 4♠, 5♠, 6♠, 7♠, 8♠, 9♠, 10♠, J♠, Q♠, K♠, A♠, 2♡, 3♡, 4♡, 5♡, 6♡, 7♡, 8♡, 9♡, 10♡, J♡, Q♡, K♡, A♡, 2♢, 3♢, 4♢, 5♢, 6♢, 7♢, 8♢, 9♢, 10♢, J♢, Q♢, K♢, A♢, 2♣, 3♣, 4♣, 5♣, 6♣, 7♣, 8♣, 9♣, 10♣, J♣, Q♣, K♣, A♣]\n"
     ]
    }
   ],
   "source": [
    "deck = Deck()\n",
    "print(f\"Deck: {deck}\")"
   ]
  },
  {
   "cell_type": "code",
   "execution_count": 6,
   "metadata": {},
   "outputs": [
    {
     "name": "stdout",
     "output_type": "stream",
     "text": [
      "Amount of cards: 52\n",
      "Spades: [2♠, 3♠, 4♠, 5♠, 6♠, 7♠, 8♠, 9♠, 10♠, J♠, Q♠, K♠, A♠]\n",
      "Hearts: [2♡, 3♡, 4♡, 5♡, 6♡, 7♡, 8♡, 9♡, 10♡, J♡, Q♡, K♡, A♡]\n",
      "Diamonds: [2♢, 3♢, 4♢, 5♢, 6♢, 7♢, 8♢, 9♢, 10♢, J♢, Q♢, K♢, A♢]\n",
      "Clubs: [2♣, 3♣, 4♣, 5♣, 6♣, 7♣, 8♣, 9♣, 10♣, J♣, Q♣, K♣, A♣]\n"
     ]
    }
   ],
   "source": [
    "print(f\"Amount of cards: {len(deck)}\")\n",
    "print(f\"Spades: {deck[:13]}\")\n",
    "print(f\"Hearts: {deck[13:26]}\")\n",
    "print(f\"Diamonds: {deck[26:39]}\")\n",
    "print(f\"Clubs: {deck[39:52]}\")\n"
   ]
  },
  {
   "cell_type": "markdown",
   "metadata": {},
   "source": [
    "## Shuffling a Deck"
   ]
  },
  {
   "cell_type": "code",
   "execution_count": 14,
   "metadata": {},
   "outputs": [
    {
     "name": "stdout",
     "output_type": "stream",
     "text": [
      "Deck: [7♡, 8♢, J♢, 8♡, K♡, 9♣, 6♢, 3♡, Q♣, 3♠, 8♠, 4♢, 4♡, 2♢, J♡, Q♡, K♣, 5♣, A♢, 4♠, 5♡, A♡, 3♣, Q♠, A♠, 10♡, 9♡, 2♡, 10♣, 9♢, 6♠, 7♣, A♣, 3♢, 2♠, 7♢, 2♣, 9♠, K♠, 10♠, 10♢, J♣, Q♢, 5♠, 5♢, 7♠, 6♣, 6♡, 8♣, K♢, J♠, 4♣]\n"
     ]
    }
   ],
   "source": [
    "deck.Shuffle()\n",
    "print(f\"Deck: {deck}\")\n"
   ]
  },
  {
   "cell_type": "markdown",
   "metadata": {},
   "source": [
    "An alternative to shuffling a deck is to just cut the deck, which doesn't ever change the order of cards, but instead changes which card is first."
   ]
  },
  {
   "cell_type": "code",
   "execution_count": 122,
   "metadata": {},
   "outputs": [
    {
     "name": "stdout",
     "output_type": "stream",
     "text": [
      "Deck: [4♡, 10♠, A♠, J♣, 9♢, 6♢, J♠, 9♣, 2♢, 5♢, A♣, 10♡, 3♡, 7♠, Q♣, Q♠, 10♢, A♡, 9♡, 5♠, 8♣, 7♣, 2♠, 6♡, A♢, 8♢, 10♣, 5♣, K♣, 4♣, 9♠, 8♠, 3♠, Q♢, 7♡, Q♡, 3♣, 8♡, J♡, 2♣, 6♠, K♢, 2♡, K♠, 7♢, 4♢, 6♣, J♢, 4♠, K♡, 3♢, 5♡]\n"
     ]
    }
   ],
   "source": [
    "deck.Cut()\n",
    "print(f\"Deck: {deck}\")"
   ]
  },
  {
   "cell_type": "markdown",
   "metadata": {},
   "source": [
    "The deck.Shuffle() method has an inbuilt chance of cutting the deck whenever it shuffles. If it cuts the deck then it will always shuffle again."
   ]
  },
  {
   "cell_type": "markdown",
   "metadata": {},
   "source": [
    "## Dealing Cards from a Deck"
   ]
  },
  {
   "cell_type": "markdown",
   "metadata": {},
   "source": [
    "Dealing cards from the deck can be done with deck.Deal(). This creates a new generator object from the current state of the deck, which yields a card in the order they were indexed within the deck. "
   ]
  },
  {
   "cell_type": "code",
   "execution_count": 15,
   "metadata": {},
   "outputs": [],
   "source": [
    "card = deck.Deal()"
   ]
  },
  {
   "cell_type": "code",
   "execution_count": 36,
   "metadata": {},
   "outputs": [
    {
     "name": "stdout",
     "output_type": "stream",
     "text": [
      "Deck: [7♡, 8♢, J♢, 8♡, K♡, 9♣, 6♢, 3♡, Q♣, 3♠, 8♠, 4♢, 4♡, 2♢, J♡, Q♡, K♣, 5♣, A♢, 4♠, 5♡, A♡, 3♣, Q♠, A♠, 10♡, 9♡, 2♡, 10♣, 9♢, 6♠, 7♣, A♣, 3♢, 2♠, 7♢, 2♣, 9♠, K♠, 10♠, 10♢, J♣, Q♢, 5♠, 5♢, 7♠, 6♣, 6♡, 8♣, K♢, J♠, 4♣]\n",
      "Card: 5♡\n"
     ]
    }
   ],
   "source": [
    "print(f\"Deck: {deck}\")\n",
    "print(f\"Card: {next(card)}\")"
   ]
  },
  {
   "cell_type": "markdown",
   "metadata": {},
   "source": [
    "If the deck is transformed in any way, such as with deck.Shuffle() or deck.Cut(), then a new generator object should be created. This is handled by the Dealer() object in the current implementation of fivecarddraw, although that may be updated in the future. More details can be found in the Dealer.ipynb notebook."
   ]
  }
 ],
 "metadata": {
  "interpreter": {
   "hash": "c3636d30ddb2a12da24c45608848bcc691d291634008b756de8d8e99dcb20a9d"
  },
  "kernelspec": {
   "display_name": "Python 3.8.10 64-bit ('base': conda)",
   "language": "python",
   "name": "python3"
  },
  "language_info": {
   "codemirror_mode": {
    "name": "ipython",
    "version": 3
   },
   "file_extension": ".py",
   "mimetype": "text/x-python",
   "name": "python",
   "nbconvert_exporter": "python",
   "pygments_lexer": "ipython3",
   "version": "3.8.10"
  },
  "orig_nbformat": 4
 },
 "nbformat": 4,
 "nbformat_minor": 2
}
