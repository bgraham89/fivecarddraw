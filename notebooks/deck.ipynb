{
 "cells": [
  {
   "cell_type": "markdown",
   "metadata": {},
   "source": [
    "# **The Deck class**"
   ]
  },
  {
   "cell_type": "markdown",
   "metadata": {},
   "source": [
    "This notebook provides some documentation about ```Deck``` objects."
   ]
  },
  {
   "cell_type": "markdown",
   "metadata": {},
   "source": [
    "Run the following codeblocks to import the ```Deck``` class into this notebook."
   ]
  },
  {
   "cell_type": "code",
   "execution_count": 1,
   "metadata": {},
   "outputs": [
    {
     "name": "stdout",
     "output_type": "stream",
     "text": [
      "Current Directory: d:\\My Projects\\Programming\\Game Design\\fivecarddraw\n"
     ]
    }
   ],
   "source": [
    "from os import chdir, getcwd\n",
    "\n",
    "if not getcwd().endswith(\"fivecarddraw\"):\n",
    "    chdir(\"..\")\n",
    "    \n",
    "print(f\"Current Directory: {getcwd()}\")"
   ]
  },
  {
   "cell_type": "code",
   "execution_count": 2,
   "metadata": {},
   "outputs": [],
   "source": [
    "from fivecarddraw import Deck"
   ]
  },
  {
   "cell_type": "markdown",
   "metadata": {},
   "source": [
    "## **Deck Attributes**"
   ]
  },
  {
   "cell_type": "markdown",
   "metadata": {},
   "source": [
    "```Deck``` objects have the following attributes upon which it's representation and functionality depend:\n",
    "\n",
    "* ```Deck.state``` which is a ```list``` of 52 ```Card``` objects, so as to have mutable order.\n",
    "* ```Deck.t``` which is an ```int``` that gives the location of a ```Card``` object analagous to *the top card of a deck*.  "
   ]
  },
  {
   "cell_type": "markdown",
   "metadata": {},
   "source": [
    "## **Deck Representation**"
   ]
  },
  {
   "cell_type": "markdown",
   "metadata": {},
   "source": [
    "```Deck``` objects have no attributes that specifically exist for representation purposes. Instead the representation of a ```Deck``` object is the ```list``` computed as ```Deck.state[Deck.t:]```, which is analagous to *the remaining cards of a deck*. It's contents depend upon the representation of ```Card``` objects."
   ]
  },
  {
   "cell_type": "markdown",
   "metadata": {},
   "source": [
    "### **Example - Creating a full Deck of Cards**"
   ]
  },
  {
   "cell_type": "code",
   "execution_count": 3,
   "metadata": {},
   "outputs": [
    {
     "name": "stdout",
     "output_type": "stream",
     "text": [
      "Full Deck: [2♠, 2♡, 2♢, 2♣, 3♠, 3♡, 3♢, 3♣, 4♠, 4♡, 4♢, 4♣, 5♠, 5♡, 5♢, 5♣, 6♠, 6♡, 6♢, 6♣, 7♠, 7♡, 7♢, 7♣, 8♠, 8♡, 8♢, 8♣, 9♠, 9♡, 9♢, 9♣, 10♠, 10♡, 10♢, 10♣, J♠, J♡, J♢, J♣, Q♠, Q♡, Q♢, Q♣, K♠, K♡, K♢, K♣, A♠, A♡, A♢, A♣]\n"
     ]
    }
   ],
   "source": [
    "deck = Deck()\n",
    "print(f\"Full Deck: {deck}\")"
   ]
  },
  {
   "cell_type": "markdown",
   "metadata": {},
   "source": [
    "### **Example - Creating a partial Deck of Cards**"
   ]
  },
  {
   "cell_type": "code",
   "execution_count": 4,
   "metadata": {},
   "outputs": [
    {
     "name": "stdout",
     "output_type": "stream",
     "text": [
      "Partial Deck: [6♢, 6♣, 7♠, 7♡, 7♢, 7♣, 8♠, 8♡, 8♢, 8♣, 9♠, 9♡, 9♢, 9♣, 10♠, 10♡, 10♢, 10♣, J♠, J♡, J♢, J♣, Q♠, Q♡, Q♢, Q♣, K♠, K♡, K♢, K♣, A♠, A♡, A♢, A♣]\n"
     ]
    }
   ],
   "source": [
    "from random import randint\n",
    "\n",
    "deck = Deck()\n",
    "deck.t = randint(0,51)\n",
    "\n",
    "print(f\"Partial Deck: {deck}\")"
   ]
  },
  {
   "cell_type": "markdown",
   "metadata": {},
   "source": [
    "## **Deck Functionality**"
   ]
  },
  {
   "cell_type": "markdown",
   "metadata": {},
   "source": [
    "### **Intialisation**"
   ]
  },
  {
   "cell_type": "markdown",
   "metadata": {},
   "source": [
    "```Deck``` objects create all 52 possible ```Card``` objects upon initialisation."
   ]
  },
  {
   "cell_type": "code",
   "execution_count": 5,
   "metadata": {},
   "outputs": [
    {
     "name": "stdout",
     "output_type": "stream",
     "text": [
      "Number of cards: 52\n",
      "The spades: [2♠, 3♠, 4♠, 5♠, 6♠, 7♠, 8♠, 9♠, 10♠, J♠, Q♠, K♠, A♠]\n",
      "The hearts: [2♡, 3♡, 4♡, 5♡, 6♡, 7♡, 8♡, 9♡, 10♡, J♡, Q♡, K♡, A♡]\n",
      "The diamonds: [2♢, 3♢, 4♢, 5♢, 6♢, 7♢, 8♢, 9♢, 10♢, J♢, Q♢, K♢, A♢]\n",
      "The clubs: [2♣, 3♣, 4♣, 5♣, 6♣, 7♣, 8♣, 9♣, 10♣, J♣, Q♣, K♣, A♣]\n"
     ]
    }
   ],
   "source": [
    "deck = Deck()\n",
    "print(f\"Number of cards: {len(deck.state)}\")\n",
    "print(f\"The spades: {deck.state[::4]}\")\n",
    "print(f\"The hearts: {deck.state[1::4]}\")\n",
    "print(f\"The diamonds: {deck.state[2::4]}\")\n",
    "print(f\"The clubs: {deck.state[3::4]}\")"
   ]
  },
  {
   "cell_type": "markdown",
   "metadata": {},
   "source": [
    "### **Shuffling**"
   ]
  },
  {
   "cell_type": "markdown",
   "metadata": {},
   "source": [
    "```Deck``` objects have one method; namely ```Deck.shuffle()```.\n",
    "* ```Deck.shuffle()``` shuffles the order of the ```Card``` objects in ```Deck.state```\n",
    "* ```Deck.shuffle()``` sets ```Deck.t = 0``` by default, which can be changed through the ```reset``` parameter. "
   ]
  },
  {
   "cell_type": "code",
   "execution_count": 6,
   "metadata": {},
   "outputs": [
    {
     "name": "stdout",
     "output_type": "stream",
     "text": [
      "Shuffled deck: [8♡, 7♣, 9♠, 3♠, Q♠, 3♣, 6♢, A♢, 6♠, 9♣, 9♢, 8♢, 8♣, 6♣, 10♢, 5♢, 4♡, K♡, K♢, 2♢, K♠, J♢, 2♡, Q♣, 10♣, 7♠, K♣, Q♢, 10♠, A♣, J♣, 4♣, 2♣, 4♢, 4♠, 5♡, Q♡, J♡, 7♡, A♡, A♠, 2♠, 9♡, 5♠, 7♢, 8♠, 3♡, 6♡, 5♣, 10♡, 3♢, J♠]\n"
     ]
    }
   ],
   "source": [
    "deck = Deck()\n",
    "print(f\"Shuffled deck: {deck.Shuffle()}\")"
   ]
  },
  {
   "cell_type": "markdown",
   "metadata": {},
   "source": [
    "### **Taking the top card**"
   ]
  },
  {
   "cell_type": "markdown",
   "metadata": {},
   "source": [
    "```Deck``` objects are types of ```iterator```."
   ]
  },
  {
   "cell_type": "code",
   "execution_count": 3,
   "metadata": {},
   "outputs": [
    {
     "name": "stdout",
     "output_type": "stream",
     "text": [
      "__iter__ magic method: True\n",
      "__next__ magic method: True\n"
     ]
    }
   ],
   "source": [
    "deck = Deck()\n",
    "print(f\"__iter__ magic method: {hasattr(deck, '__iter__')}\")\n",
    "print(f\"__next__ magic method: {hasattr(deck, '__next__')}\")"
   ]
  },
  {
   "cell_type": "markdown",
   "metadata": {},
   "source": [
    "The act of *taking the top card from a deck* can be simulated using ```next(Deck)```. This essentially returns the ```Card``` object at ```Deck.state[Deck.t]```, and increments ```Deck.t``` by one. The act of *counting the remaining cards in a deck* is simulated by ```Deck.CountRemaining()```."
   ]
  },
  {
   "cell_type": "code",
   "execution_count": 5,
   "metadata": {},
   "outputs": [
    {
     "name": "stdout",
     "output_type": "stream",
     "text": [
      "Top card: 2♡\n",
      "Amount of cards remaining in deck: 50\n",
      "Remaining cards: [2♢, 2♣, 3♠, 3♡, 3♢, 3♣, 4♠, 4♡, 4♢, 4♣, 5♠, 5♡, 5♢, 5♣, 6♠, 6♡, 6♢, 6♣, 7♠, 7♡, 7♢, 7♣, 8♠, 8♡, 8♢, 8♣, 9♠, 9♡, 9♢, 9♣, 10♠, 10♡, 10♢, 10♣, J♠, J♡, J♢, J♣, Q♠, Q♡, Q♢, Q♣, K♠, K♡, K♢, K♣, A♠, A♡, A♢, A♣]\n"
     ]
    }
   ],
   "source": [
    "print(f\"Top card: {next(deck)}\")\n",
    "print(f\"Amount of cards remaining in deck: {deck.CountRemaining()}\")\n",
    "print(f\"Remaining cards: {deck}\")"
   ]
  },
  {
   "cell_type": "markdown",
   "metadata": {},
   "source": [
    "The intended way of restarting the ```Deck``` as an ```iterator```, is to use the method ```Deck.Shuffle()``` which both shuffles ```Deck.state``` and resets ```Deck.t```. That's sufficient for the purpose of ```FiveCardDraw```. Otherwise you can use ```Deck.RestartIterator()``` to avoid changes to ```Deck.state```."
   ]
  },
  {
   "cell_type": "markdown",
   "metadata": {},
   "source": [
    "### **Example - Getting Cards to Deal**"
   ]
  },
  {
   "cell_type": "code",
   "execution_count": 6,
   "metadata": {},
   "outputs": [
    {
     "name": "stdout",
     "output_type": "stream",
     "text": [
      "Shuffled deck: [K♠, A♠, Q♡, Q♠, 10♢, 2♠, 3♣, 4♣, 3♠, 6♢, 2♣, 7♣, Q♢, 8♣, 10♣, 10♠, 5♡, 9♠, 9♣, 7♡, K♡, J♠, A♣, 8♢, 9♡, 6♡, K♢, J♣, 7♠, 2♡, 10♡, 4♢, 3♡, 5♠, 4♡, J♢, 2♢, 6♠, 8♠, 5♣, A♢, A♡, K♣, 9♢, 8♡, 5♢, Q♣, 6♣, J♡, 3♢, 4♠, 7♢]\n"
     ]
    }
   ],
   "source": [
    "deck = Deck()\n",
    "deck.Shuffle()\n",
    "print(f\"Shuffled deck: {deck}\")"
   ]
  },
  {
   "cell_type": "code",
   "execution_count": 8,
   "metadata": {},
   "outputs": [
    {
     "name": "stdout",
     "output_type": "stream",
     "text": [
      "Card to deal: A♠\n",
      "Amount of cards remaining in deck: 50\n",
      "Remaining cards in deck: [Q♡, Q♠, 10♢, 2♠, 3♣, 4♣, 3♠, 6♢, 2♣, 7♣, Q♢, 8♣, 10♣, 10♠, 5♡, 9♠, 9♣, 7♡, K♡, J♠, A♣, 8♢, 9♡, 6♡, K♢, J♣, 7♠, 2♡, 10♡, 4♢, 3♡, 5♠, 4♡, J♢, 2♢, 6♠, 8♠, 5♣, A♢, A♡, K♣, 9♢, 8♡, 5♢, Q♣, 6♣, J♡, 3♢, 4♠, 7♢]\n"
     ]
    }
   ],
   "source": [
    "print(f\"Card to deal: {next(deck)}\")\n",
    "print(f\"Amount of cards remaining in deck: {deck.CountRemaining()}\")\n",
    "print(f\"Remaining cards in deck: {deck}\")"
   ]
  },
  {
   "cell_type": "markdown",
   "metadata": {},
   "source": [
    "#### **Example - Preparing Deck for a New Round of Five Card Draw Poker**"
   ]
  },
  {
   "cell_type": "markdown",
   "metadata": {},
   "source": [
    "In the current implementation of ```FiveCardDraw```, the act of *collecting cards* is taken care of by the ```Dealer``` object.\n",
    "So at the start of a new round of poker, it's recommended to use ```Deck.Shuffle()``` which complements that by default. Essentially, the value of ```Deck.CountRemaining()``` will reset to 52, in preparation for dealing. For more information about *collecting cards*, see [dealer.ipynb](../notebooks/dealer.ipynb) "
   ]
  },
  {
   "cell_type": "code",
   "execution_count": 15,
   "metadata": {},
   "outputs": [
    {
     "name": "stdout",
     "output_type": "stream",
     "text": [
      "Amount of cards remaining in deck before shuffling: 47\n",
      "Amount of cards remaining in deck after shuffling: 52\n"
     ]
    }
   ],
   "source": [
    "print(f\"Amount of cards remaining in deck before shuffling: {deck.CountRemaining()}\")\n",
    "deck.Shuffle()\n",
    "print(f\"Amount of cards remaining in deck after shuffling: {deck.CountRemaining()}\")"
   ]
  },
  {
   "cell_type": "code",
   "execution_count": 14,
   "metadata": {},
   "outputs": [
    {
     "name": "stdout",
     "output_type": "stream",
     "text": [
      "Next card to deal: Q♡\n",
      "Amount of cards remaining in deck: 47\n",
      "Remaining cards in deck: [6♢, A♡, A♠, 10♡, 3♣, 4♢, 8♢, 9♠, 9♡, K♡, A♢, 5♠, 10♠, 6♡, 10♣, 6♣, A♣, 8♡, 2♢, 2♡, 5♡, J♣, 4♡, 9♣, K♣, 6♠, J♢, 7♢, 10♢, 5♣, 9♢, J♠, Q♣, K♠, Q♠, 3♠, Q♢, 8♠, 4♣, 7♡, 7♠, 3♡, 7♣, 4♠, 8♣, 5♢, 2♠]\n"
     ]
    }
   ],
   "source": [
    "print(f\"Next card to deal: {next(deck)}\")\n",
    "print(f\"Amount of cards remaining in deck: {deck.CountRemaining()}\")\n",
    "print(f\"Remaining cards in deck: {deck}\")"
   ]
  }
 ],
 "metadata": {
  "interpreter": {
   "hash": "c3636d30ddb2a12da24c45608848bcc691d291634008b756de8d8e99dcb20a9d"
  },
  "kernelspec": {
   "display_name": "Python 3.8.10 64-bit ('base': conda)",
   "language": "python",
   "name": "python3"
  },
  "language_info": {
   "codemirror_mode": {
    "name": "ipython",
    "version": 3
   },
   "file_extension": ".py",
   "mimetype": "text/x-python",
   "name": "python",
   "nbconvert_exporter": "python",
   "pygments_lexer": "ipython3",
   "version": "3.9.6"
  },
  "orig_nbformat": 4
 },
 "nbformat": 4,
 "nbformat_minor": 2
}
