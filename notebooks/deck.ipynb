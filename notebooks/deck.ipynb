{
 "cells": [
  {
   "cell_type": "markdown",
   "metadata": {},
   "source": [
    "# **The Deck class**"
   ]
  },
  {
   "cell_type": "markdown",
   "metadata": {},
   "source": [
    "This notebook provides some documentation about ```Deck``` objects."
   ]
  },
  {
   "cell_type": "markdown",
   "metadata": {},
   "source": [
    "Run the following codeblocks to import the ```Deck``` class into this notebook."
   ]
  },
  {
   "cell_type": "code",
   "execution_count": 2,
   "metadata": {},
   "outputs": [
    {
     "name": "stdout",
     "output_type": "stream",
     "text": [
      "Current Directory: c:\\Users\\Brad\\Documents\\Projects\\Python\\fivecarddraw\n"
     ]
    }
   ],
   "source": [
    "from os import chdir, getcwd\n",
    "\n",
    "if not getcwd().endswith(\"fivecarddraw\"):\n",
    "    chdir(\"..\")\n",
    "    \n",
    "print(f\"Current Directory: {getcwd()}\")"
   ]
  },
  {
   "cell_type": "code",
   "execution_count": 3,
   "metadata": {},
   "outputs": [],
   "source": [
    "from fivecarddraw import Deck"
   ]
  },
  {
   "cell_type": "markdown",
   "metadata": {},
   "source": [
    "## **Initialization**"
   ]
  },
  {
   "cell_type": "markdown",
   "metadata": {},
   "source": [
    "```Deck``` objects create all 52 possible ```Card``` objects upon initialisation."
   ]
  },
  {
   "cell_type": "code",
   "execution_count": 4,
   "metadata": {},
   "outputs": [
    {
     "name": "stdout",
     "output_type": "stream",
     "text": [
      "Full Deck: [2♠, 2♡, 2♢, 2♣, 3♠, 3♡, 3♢, 3♣, 4♠, 4♡, 4♢, 4♣, 5♠, 5♡, 5♢, 5♣, 6♠, 6♡, 6♢, 6♣, 7♠, 7♡, 7♢, 7♣, 8♠, 8♡, 8♢, 8♣, 9♠, 9♡, 9♢, 9♣, 10♠, 10♡, 10♢, 10♣, J♠, J♡, J♢, J♣, Q♠, Q♡, Q♢, Q♣, K♠, K♡, K♢, K♣, A♠, A♡, A♢, A♣]\n"
     ]
    }
   ],
   "source": [
    "deck = Deck()\n",
    "print(f\"Full Deck: {deck}\")\n"
   ]
  },
  {
   "cell_type": "markdown",
   "metadata": {},
   "source": [
    "## **Deck State**"
   ]
  },
  {
   "cell_type": "markdown",
   "metadata": {},
   "source": [
    "```Deck``` objects always contain 52 ```Card``` objects. The state of a deck is indicated by the following two attributes:\n",
    "\n",
    "* ```Deck.state``` is a ```list``` of the 52 ```Card``` objects, providing their order.\n",
    "* ```Deck.t``` is an ```int``` that gives the index of the ```Card``` object analagous to the top card of a deck.\n",
    "\n",
    "These two attributes govern the representation of the deck."
   ]
  },
  {
   "cell_type": "markdown",
   "metadata": {},
   "source": [
    "### **Shuffling**"
   ]
  },
  {
   "cell_type": "markdown",
   "metadata": {},
   "source": [
    "```Deck``` objects have one method; namely ```Deck.shuffle()``` for shuffling the deck.\n",
    "* ```Deck.shuffle()``` shuffles the order of the ```Card``` objects in ```Deck.state```\n",
    "* ```Deck.shuffle(reset=True)``` sets ```Deck.t = 0``` by default. "
   ]
  },
  {
   "cell_type": "code",
   "execution_count": 14,
   "metadata": {},
   "outputs": [
    {
     "name": "stdout",
     "output_type": "stream",
     "text": [
      "Shuffled deck: [3♠, 8♡, J♡, 8♢, 10♡, 4♢, 4♡, 3♣, 2♠, J♢, Q♡, 8♣, K♠, 7♡, 10♠, Q♣, K♢, K♣, J♠, 2♢, 4♣, Q♢, J♣, 7♠, A♢, 6♡, 5♡, 2♡, 5♣, K♡, 5♢, 8♠, 6♠, 6♢, 9♠, 10♣, 9♣, 6♣, 2♣, 10♢, 3♢, 3♡, Q♠, 7♣, 7♢, 9♢, A♠, A♡, 4♠, 9♡, A♣, 5♠]\n"
     ]
    }
   ],
   "source": [
    "deck = Deck()\n",
    "print(f\"Shuffled deck: {deck.Shuffle()}\")"
   ]
  },
  {
   "cell_type": "code",
   "execution_count": 37,
   "metadata": {},
   "outputs": [
    {
     "name": "stdout",
     "output_type": "stream",
     "text": [
      "Shuffled deck: [10♣, 10♠, 4♡, Q♡, A♢, A♣, 7♡, 4♠, 2♠, 7♠, 4♢, J♠, K♠, A♡, J♡, K♡, 5♡, K♢, 9♡, 8♣, J♢, 7♣, 6♡, Q♢, J♣, Q♣, 5♢, 3♠, 9♠, 3♢, K♣, 8♡]\n",
      "Amount of card remaining: 32\n"
     ]
    }
   ],
   "source": [
    "from cgitb import reset\n",
    "\n",
    "\n",
    "deck = Deck()\n",
    "deck.t = 20\n",
    "print(f\"Shuffled deck: {deck.Shuffle(reset=False)}\")\n",
    "print(f\"Amount of card remaining: {deck.CountRemaining()}\")"
   ]
  },
  {
   "cell_type": "markdown",
   "metadata": {},
   "source": [
    "### **Taking the top card**"
   ]
  },
  {
   "cell_type": "markdown",
   "metadata": {},
   "source": [
    "```Deck``` objects behave as generators, having ```Deck.__iter__``` and ```Deck.__next__``` magic methods. The act of taking the top card from a deck is done using ```next(Deck)```. This essentially returns the ```Card``` object at ```Deck.state[Deck.t]```, and increments ```Deck.t``` by one."
   ]
  },
  {
   "cell_type": "code",
   "execution_count": 57,
   "metadata": {},
   "outputs": [
    {
     "data": {
      "text/plain": [
       "[4♠, 7♡, 2♣, 9♣, K♠, 6♡, Q♢, 7♣, 3♣, 6♠, 4♣, 8♡, J♠, 2♡, 9♢, 8♠, K♢, 7♠, 5♢, 9♡, 5♣, 2♠, A♣, A♠, 6♣, 4♡, 10♢, K♡, 3♡, Q♡, A♡, 5♠, 3♢, 8♣, J♢, 9♠, 8♢, K♣, 3♠, 7♢, 5♡, 10♣, 2♢, A♢, J♡, 10♡, Q♣, 4♢, Q♠, J♣, 6♢, 10♠]"
      ]
     },
     "execution_count": 57,
     "metadata": {},
     "output_type": "execute_result"
    }
   ],
   "source": [
    "deck = Deck()\n",
    "deck.Shuffle()"
   ]
  },
  {
   "cell_type": "code",
   "execution_count": 58,
   "metadata": {},
   "outputs": [
    {
     "name": "stdout",
     "output_type": "stream",
     "text": [
      "Top card: 4♠\n",
      "Amount of cards remaining in deck: 51\n",
      "Remaining cards: [7♡, 2♣, 9♣, K♠, 6♡, Q♢, 7♣, 3♣, 6♠, 4♣, 8♡, J♠, 2♡, 9♢, 8♠, K♢, 7♠, 5♢, 9♡, 5♣, 2♠, A♣, A♠, 6♣, 4♡, 10♢, K♡, 3♡, Q♡, A♡, 5♠, 3♢, 8♣, J♢, 9♠, 8♢, K♣, 3♠, 7♢, 5♡, 10♣, 2♢, A♢, J♡, 10♡, Q♣, 4♢, Q♠, J♣, 6♢, 10♠]\n"
     ]
    }
   ],
   "source": [
    "print(f\"Top card: {next(deck)}\")\n",
    "print(f\"Amount of cards remaining in deck: {deck.CountRemaining()}\")\n",
    "print(f\"Remaining cards: {deck}\")"
   ]
  },
  {
   "cell_type": "markdown",
   "metadata": {},
   "source": [
    "This is the way that ```HandTracker``` objects deal cards. For more information see the [hand.ipynb](hand.ipynb) notebook."
   ]
  }
 ],
 "metadata": {
  "kernelspec": {
   "display_name": "Python 3.10.3 64-bit",
   "language": "python",
   "name": "python3"
  },
  "language_info": {
   "codemirror_mode": {
    "name": "ipython",
    "version": 3
   },
   "file_extension": ".py",
   "mimetype": "text/x-python",
   "name": "python",
   "nbconvert_exporter": "python",
   "pygments_lexer": "ipython3",
   "version": "3.10.3"
  },
  "orig_nbformat": 4,
  "vscode": {
   "interpreter": {
    "hash": "607db476e417971f05b607c2dd14e77ee8262c2c4c20dea422522c60605a222a"
   }
  }
 },
 "nbformat": 4,
 "nbformat_minor": 2
}
