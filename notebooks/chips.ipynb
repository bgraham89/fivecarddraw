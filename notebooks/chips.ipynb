{
 "cells": [
  {
   "cell_type": "markdown",
   "metadata": {},
   "source": [
    "# **The ChipTracker Class**"
   ]
  },
  {
   "cell_type": "markdown",
   "metadata": {},
   "source": [
    "This notebook provides information about the ```ChipTracker``` objects."
   ]
  },
  {
   "cell_type": "markdown",
   "metadata": {},
   "source": [
    "Run the following codeblocks to import the ```ChipTracker``` class into this notebook."
   ]
  },
  {
   "cell_type": "code",
   "execution_count": 1,
   "metadata": {},
   "outputs": [
    {
     "name": "stdout",
     "output_type": "stream",
     "text": [
      "Current Directory: d:\\My Projects\\Programming\\Game Development\\fivecarddraw\n"
     ]
    }
   ],
   "source": [
    "from os import chdir, getcwd\n",
    "\n",
    "if not getcwd().endswith(\"fivecarddraw\"):\n",
    "    chdir(\"..\")\n",
    "    \n",
    "print(f\"Current Directory: {getcwd()}\")"
   ]
  },
  {
   "cell_type": "code",
   "execution_count": 2,
   "metadata": {},
   "outputs": [],
   "source": [
    "from fivecarddraw import ChipTracker"
   ]
  },
  {
   "cell_type": "markdown",
   "metadata": {},
   "source": [
    "## **ChipTracker Functionality**"
   ]
  },
  {
   "cell_type": "markdown",
   "metadata": {},
   "source": [
    "### **Initialisation**"
   ]
  },
  {
   "cell_type": "markdown",
   "metadata": {},
   "source": [
    "The ```ChipTracker``` class is designed to run as a backend-subclass for ```Dealer``` objects. Upon initialisation:\n",
    "* It creates attributes to track game parameters, such as the ante amount.\n",
    "* It creates attributes to track the chipstacks and any contributions to the pot made by players.\n",
    "\n",
    "More details can be found below."
   ]
  },
  {
   "cell_type": "markdown",
   "metadata": {},
   "source": [
    "### **Assigning chips to players**"
   ]
  },
  {
   "cell_type": "markdown",
   "metadata": {},
   "source": [
    "The recommended way to assign chips to a player is using ```ChipTracker.AddChipsPlayer(name, amount)``` which correctly updates ```ChipTracker.players```."
   ]
  },
  {
   "cell_type": "code",
   "execution_count": 3,
   "metadata": {},
   "outputs": [
    {
     "name": "stdout",
     "output_type": "stream",
     "text": [
      "Player Chipstacks: {'Brad': 500}\n"
     ]
    }
   ],
   "source": [
    "player = \"Brad\"\n",
    "\n",
    "tracker = ChipTracker()\n",
    "tracker.AddChipsPlayer(player, 500)\n",
    "print(f\"Player Chipstacks: {tracker.ChipStacks()}\")"
   ]
  },
  {
   "cell_type": "markdown",
   "metadata": {},
   "source": [
    "```ChipTracker.WithdrawChipsPlayer(name)``` can be used to delete all information about a player."
   ]
  },
  {
   "cell_type": "code",
   "execution_count": 4,
   "metadata": {},
   "outputs": [
    {
     "name": "stdout",
     "output_type": "stream",
     "text": [
      "Player Chipstacks: {}\n"
     ]
    }
   ],
   "source": [
    "tracker.WithdrawChipsPlayer(player)\n",
    "print(f\"Player Chipstacks: {tracker.ChipStacks()}\")"
   ]
  },
  {
   "cell_type": "markdown",
   "metadata": {},
   "source": [
    "### **Contributing chips to the pot**"
   ]
  },
  {
   "cell_type": "markdown",
   "metadata": {},
   "source": [
    "The recommended way to contribute chips to a player is using ```ChipTracker.BetChipsPlayer(name, amount)``` which correctly updates ```ChipTracker.players``` to track both chipstacks and contributions."
   ]
  },
  {
   "cell_type": "code",
   "execution_count": 7,
   "metadata": {},
   "outputs": [
    {
     "name": "stdout",
     "output_type": "stream",
     "text": [
      "Player Chips before bet: {'Brad': {'stack': 500, 'contribution': 0}}\n",
      "Player Chips after bet: {'Brad': {'stack': 400, 'contribution': 100}}\n"
     ]
    }
   ],
   "source": [
    "player = \"Brad\"\n",
    "\n",
    "tracker = ChipTracker()\n",
    "tracker.AddChipsPlayer(player, 500)\n",
    "print(f\"Player Chips before bet: {tracker.players}\")\n",
    "tracker.BetChipsPlayer(player, 100)\n",
    "print(f\"Player Chips after bet: {tracker.players}\")"
   ]
  },
  {
   "cell_type": "markdown",
   "metadata": {},
   "source": [
    "To ensure a player has bet a legal amount, the ```ChipTracker.ApproveBet(name, amount)``` can be used."
   ]
  },
  {
   "cell_type": "code",
   "execution_count": 8,
   "metadata": {},
   "outputs": [
    {
     "name": "stdout",
     "output_type": "stream",
     "text": [
      "Player Chips before bet: {'Brad': {'stack': 500, 'contribution': 0}}\n",
      "Bet to approve: 700\n",
      "Approval: False\n"
     ]
    }
   ],
   "source": [
    "player = \"Brad\"\n",
    "bet = 700\n",
    "\n",
    "tracker = ChipTracker()\n",
    "tracker.AddChipsPlayer(player, 500)\n",
    "print(f\"Player Chips before bet: {tracker.players}\")\n",
    "print(f\"Bet to approve: {bet}\")\n",
    "print(f\"Approval: {tracker.ApproveBet(player, 700)}\")"
   ]
  },
  {
   "cell_type": "markdown",
   "metadata": {},
   "source": [
    "### **Rewarding chips from a pot**"
   ]
  },
  {
   "cell_type": "markdown",
   "metadata": {},
   "source": [
    "```ChipTracker.RewardChipsPlayer(name, amount)``` can be used to add an amount of chips to a player. `\n",
    "\n",
    "**Warning:** ```ChipTracker.RewardChipsPlayer(name, amount)``` does not modify player contribution values, so it's recommended to clear contributions using ```ChipTracker.ClearPot()``` once all players have received their rewards."
   ]
  },
  {
   "cell_type": "code",
   "execution_count": 12,
   "metadata": {},
   "outputs": [
    {
     "name": "stdout",
     "output_type": "stream",
     "text": [
      "Player Chips before rewarding: {'Brad': {'stack': 400, 'contribution': 100}, 'Phil': {'stack': 400, 'contribution': 100}}\n",
      "Player Chips after rewarding, after pot is cleared: {'Brad': {'stack': 600, 'contribution': 0}, 'Phil': {'stack': 400, 'contribution': 0}}\n"
     ]
    }
   ],
   "source": [
    "player = \"Brad\"\n",
    "\n",
    "tracker = ChipTracker()\n",
    "tracker.AddChipsPlayer(player, 500)\n",
    "tracker.AddChipsPlayer(\"Phil\", 500)\n",
    "tracker.BetChipsPlayer(player, 100)\n",
    "tracker.BetChipsPlayer(\"Phil\", 100)\n",
    "print(f\"Player Chips before rewarding: {tracker.players}\")\n",
    "tracker.RewardChipsPlayer(player, 200)\n",
    "tracker.ClearPot()\n",
    "print(f\"Player Chips after rewarding, after pot is cleared: {tracker.players}\")"
   ]
  },
  {
   "cell_type": "markdown",
   "metadata": {},
   "source": [
    "In order to calculate rewards for players, ```ChipTracker.CalculateRewards(player_info)``` can be used which returns a ```dict``` of ```name : reward```  pairs. Rewards are calculated by inspecting player contributions, action statuses and hand ranks, taking into account split and side pots too. For more information, see the [dealer.ipynb](dealer.ipynb) notebook which outlines this procedure while describing the ```Dealer.Payout()``` method."
   ]
  },
  {
   "cell_type": "markdown",
   "metadata": {},
   "source": [
    "### **Classifying transactions**"
   ]
  },
  {
   "cell_type": "markdown",
   "metadata": {},
   "source": [
    "```ChipTracker``` objects have the following methods that help classify transactions:\n",
    "* ```ChipTracker.FeeStatus(name, amount)```\n",
    "* ```ChipTracker.BetStatus(name, amount)```"
   ]
  },
  {
   "cell_type": "markdown",
   "metadata": {},
   "source": [
    "#### **Paying Fees**"
   ]
  },
  {
   "cell_type": "markdown",
   "metadata": {},
   "source": [
    "The ```ChipTracker.FeeStatus(name, amount)``` method checks a fee against a players chipstack, and returns a dictionary of indicators that inform an action to take.\n",
    "* ```has_enough``` indicates wether the player can pay the fee.\n",
    "* ```has_allin``` indicates wether the player needs to go allin to pay the fee.\n",
    "* ```has_passed``` indicates wether there is a fee or not.\n"
   ]
  },
  {
   "cell_type": "code",
   "execution_count": 13,
   "metadata": {},
   "outputs": [
    {
     "data": {
      "text/plain": [
       "{'has_enough': True, 'has_allin': False, 'has_passed': False}"
      ]
     },
     "execution_count": 13,
     "metadata": {},
     "output_type": "execute_result"
    }
   ],
   "source": [
    "player = \"Brad\"\n",
    "fee = 5\n",
    "\n",
    "tracker = ChipTracker()\n",
    "tracker.AddChipsPlayer(player, 500)\n",
    "tracker.FeeStatus(player, fee)"
   ]
  },
  {
   "cell_type": "markdown",
   "metadata": {},
   "source": [
    "#### **Making Actions**"
   ]
  }
 ],
 "metadata": {
  "interpreter": {
   "hash": "aecd030d4c8316a52bf122072e28f84bcc79844c2684e041fef2e3f1d9f59078"
  },
  "kernelspec": {
   "display_name": "Python 3.10.0 64-bit",
   "language": "python",
   "name": "python3"
  },
  "language_info": {
   "codemirror_mode": {
    "name": "ipython",
    "version": 3
   },
   "file_extension": ".py",
   "mimetype": "text/x-python",
   "name": "python",
   "nbconvert_exporter": "python",
   "pygments_lexer": "ipython3",
   "version": "3.10.0"
  },
  "orig_nbformat": 4
 },
 "nbformat": 4,
 "nbformat_minor": 2
}
