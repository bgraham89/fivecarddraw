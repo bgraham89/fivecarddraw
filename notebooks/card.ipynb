{
 "cells": [
  {
   "cell_type": "markdown",
   "metadata": {},
   "source": [
    "# The <b>Card</b> class"
   ]
  },
  {
   "cell_type": "markdown",
   "metadata": {},
   "source": [
    "This notebook provides some documentation about Card objects."
   ]
  },
  {
   "cell_type": "markdown",
   "metadata": {},
   "source": [
    "## <b>Importing the Card class</b>"
   ]
  },
  {
   "cell_type": "markdown",
   "metadata": {},
   "source": [
    "The current working directory needs to be \"fivecarddraw\" in order to run the code cells of this notebook. Assuming the fivecarddraw repository has been cloned, then this notebook is contained within the \"fivecarddraw/notebooks\" folder. To change the current working directory, run the next cell."
   ]
  },
  {
   "cell_type": "code",
   "execution_count": 2,
   "metadata": {},
   "outputs": [
    {
     "name": "stdout",
     "output_type": "stream",
     "text": [
      "Current Directory: d:\\My Projects\\Python\\Games\\fivecarddraw\n"
     ]
    }
   ],
   "source": [
    "from os import chdir, getcwd\n",
    "\n",
    "if not getcwd().endswith(\"fivecarddraw\"):\n",
    "    chdir(\"..\")\n",
    "    \n",
    "print(f\"Current Directory: {getcwd()}\")"
   ]
  },
  {
   "cell_type": "markdown",
   "metadata": {},
   "source": [
    "Then the Card class can be imported in the usual pythonic way."
   ]
  },
  {
   "cell_type": "code",
   "execution_count": 3,
   "metadata": {},
   "outputs": [],
   "source": [
    "from fivecarddraw import Card"
   ]
  },
  {
   "cell_type": "markdown",
   "metadata": {},
   "source": [
    "## <b>Creating an Ace of Spades</b>"
   ]
  },
  {
   "cell_type": "code",
   "execution_count": 4,
   "metadata": {},
   "outputs": [
    {
     "name": "stdout",
     "output_type": "stream",
     "text": [
      "Card: A♠\n"
     ]
    }
   ],
   "source": [
    "ace_of_spades = Card(12,0)\n",
    "print(f\"Card: {ace_of_spades}\")"
   ]
  },
  {
   "cell_type": "markdown",
   "metadata": {},
   "source": [
    "Card takes two arguments. The first argument is \"value\" and it takes a number between 0 and 12, to represent any of the 13 possible cards values a card can have. The second argument is \"suit\" and it takes a number between 0 and 3, to represent any of the 4 possible suits a card can have."
   ]
  },
  {
   "cell_type": "markdown",
   "metadata": {},
   "source": [
    "The integer which represents a card value or card suit are the indices of the following data:"
   ]
  },
  {
   "cell_type": "code",
   "execution_count": 5,
   "metadata": {},
   "outputs": [
    {
     "name": "stdout",
     "output_type": "stream",
     "text": [
      "Card values: ('2', '3', '4', '5', '6', '7', '8', '9', '10', 'J', 'Q', 'K', 'A')\n",
      "Card suits: ('♠', '♡', '♢', '♣')\n"
     ]
    }
   ],
   "source": [
    "print(f\"Card values: {Card(12,0).VALUES}\")\n",
    "print(f\"Card suits: {Card(12,0).SUITS}\")"
   ]
  },
  {
   "cell_type": "code",
   "execution_count": 6,
   "metadata": {},
   "outputs": [
    {
     "name": "stdout",
     "output_type": "stream",
     "text": [
      "The index for an ace: 12\n",
      "The index for a spade: 0\n"
     ]
    }
   ],
   "source": [
    "print(f\"The index for an ace: {Card(12,0).VALUES.index('A')}\")\n",
    "print(f\"The index for a spade: {Card(12,0).SUITS.index('♠')}\")"
   ]
  },
  {
   "cell_type": "markdown",
   "metadata": {},
   "source": [
    "## <b>Creating a Random Card</b>"
   ]
  },
  {
   "cell_type": "code",
   "execution_count": 7,
   "metadata": {},
   "outputs": [],
   "source": [
    "from random import randint\n",
    "\n",
    "def RandomCard():\n",
    "    value = randint(0,12)\n",
    "    suit = randint(0,3)\n",
    "    return Card(value, suit)"
   ]
  },
  {
   "cell_type": "code",
   "execution_count": 8,
   "metadata": {},
   "outputs": [
    {
     "name": "stdout",
     "output_type": "stream",
     "text": [
      "Random Card: Q♠\n"
     ]
    }
   ],
   "source": [
    "card = RandomCard()\n",
    "print(f\"Random Card: {card}\")"
   ]
  },
  {
   "cell_type": "markdown",
   "metadata": {},
   "source": [
    "## <b>Recording Cards as 32-bit integers</b>"
   ]
  },
  {
   "cell_type": "markdown",
   "metadata": {},
   "source": [
    "In order to boost the efficieny of hand evaluators, it's beneficial to convert card data into 32 bit integers from which card data can be retrieved. This is done using a 32 bit mask outlined below. (The details of how the hand evaluator works can be found in the acommpanying Hand.ipynb notebook.)"
   ]
  },
  {
   "cell_type": "code",
   "execution_count": 9,
   "metadata": {},
   "outputs": [
    {
     "name": "stdout",
     "output_type": "stream",
     "text": [
      "Card Mask: xxxAKQJT98765432♣♢♡♠RRRRxxPPPPPP\n"
     ]
    }
   ],
   "source": [
    "print(f\"Card Mask: {Card(12,0).MASK}\")"
   ]
  },
  {
   "cell_type": "markdown",
   "metadata": {},
   "source": [
    "The mask is split into four main parts."
   ]
  },
  {
   "cell_type": "code",
   "execution_count": 10,
   "metadata": {},
   "outputs": [
    {
     "name": "stdout",
     "output_type": "stream",
     "text": [
      "PPPPPP: Card value as 6bit prime number\n",
      "RRRR: Card value as 4bit integer\n",
      "♣♢♡♠: Card suit as 4bit integer\n",
      "AKQJT98765432: Card value as 13bit integer\n"
     ]
    }
   ],
   "source": [
    "print(f\"{Card(12,0).MASK[-6:]}: Card value as 6bit prime number\")\n",
    "print(f\"{Card(12,0).MASK[-12:-8]}: Card value as 4bit integer\")\n",
    "print(f\"{Card(12,0).MASK[-16:-12]}: Card suit as 4bit integer\")\n",
    "print(f\"{Card(12,0).MASK[-29:-16]}: Card value as 13bit integer\")"
   ]
  },
  {
   "cell_type": "markdown",
   "metadata": {},
   "source": [
    "The card class automatically creates the 32-bit integer representation."
   ]
  },
  {
   "cell_type": "code",
   "execution_count": 11,
   "metadata": {},
   "outputs": [
    {
     "name": "stdout",
     "output_type": "stream",
     "text": [
      "Card: 4♢\n",
      "Card in 32bits: 00000000000001000100001000000101\n",
      "Card value as 6bit prime number: 000101 --> 5\n",
      "Card value as 4bit integer: 0010 --> 2 (index) --> 4\n",
      "Card suit as 4bit integer: 0100 & ♣♢♡♠\n",
      "Card value as 13bit integer: 0000000000100 & AKQJT98765432\n"
     ]
    }
   ],
   "source": [
    "card = RandomCard()\n",
    "print(f\"Card: {card}\")\n",
    "print(f\"Card in 32bits: {format(card.b, '#034b')[-32:]}\")\n",
    "print(f\"Card value as 6bit prime number: {bin(card.b)[-6:]} --> {int(bin(card.b)[-6:], 2)}\")\n",
    "print(f\"Card value as 4bit integer: {bin(card.b)[-12:-8]} --> {int(bin(card.b)[-12:-8], 2)} (index) --> {card.VALUES[int(bin(card.b)[-12:-8], 2)]}\") \n",
    "print(f\"Card suit as 4bit integer: {bin(card.b)[-16:-12]} & {card.MASK[-16:-12]}\")\n",
    "print(f\"Card value as 13bit integer: {format(card.b, '#032b')[-29:-16]} & {card.MASK[-29:-16]}\")\n"
   ]
  },
  {
   "cell_type": "code",
   "execution_count": 22,
   "metadata": {},
   "outputs": [
    {
     "name": "stdout",
     "output_type": "stream",
     "text": [
      "Value-Prime pairs: {'2': 2, '3': 3, '4': 5, '5': 7, '6': 11, '7': 13, '8': 17, '9': 19, '10': 23, 'J': 29, 'Q': 31, 'K': 37, 'A': 41}\n"
     ]
    }
   ],
   "source": [
    "value_prime_pairs = {value: prime for value,prime in zip(card.VALUES, card.PRIMES)}\n",
    "print(f\"Value-Prime pairs: {value_prime_pairs}\")"
   ]
  }
 ],
 "metadata": {
  "interpreter": {
   "hash": "63fd5069d213b44bf678585dea6b12cceca9941eaf7f819626cde1f2670de90d"
  },
  "kernelspec": {
   "display_name": "Python 3.9.6 64-bit",
   "language": "python",
   "name": "python3"
  },
  "language_info": {
   "codemirror_mode": {
    "name": "ipython",
    "version": 3
   },
   "file_extension": ".py",
   "mimetype": "text/x-python",
   "name": "python",
   "nbconvert_exporter": "python",
   "pygments_lexer": "ipython3",
   "version": "3.8.10"
  },
  "orig_nbformat": 4
 },
 "nbformat": 4,
 "nbformat_minor": 2
}
